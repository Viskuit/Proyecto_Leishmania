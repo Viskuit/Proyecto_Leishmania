#Script made by R. F. Pacheco Hinojosa
#Se invocan las funciones necesarias de My_Functions.py
from AA_My_Functions import BlastN_Dic, BLASTN_Blaster, Folder_Creator, Repetitive_Blaster


##Dentro del directorio de ejecucion de los programas, crear una subcarpeta donde poner el archivo FASTA completo del genoma, asi como el archivo FASTA de las secuencias a buscar

#1) Con esto creamos el diccionario Blast del genoma entero
BlastN_Dic(Path_Input)

#2) Ahora ejecutamos un BlastN con el diccionario creado antes, dandonos como resultado un archivo CSV con los resultados de dicho BlastN
BLASTN_Blaster(Query_Path,
               Dict_Path,
               OutFile_Path,
               Perc_Identity)

#3) Creacion de una subcarpeta con el nombre especifico de RUNS, en donde se guardaran los resultados de cada ejecucion del programa en un formato run_x.csv, siendo x el numero de la ejecucion
Folder_Creator(RUNS)

#4) Ejecuccion de Blaster iterativo.
Repetitive_Blaster(Genome_Fasta, 
                   Path_Input, 
                   Folder_Path, 
                   Naming_Short, 
                   Max_Diff, 
                   Numbering, 
                   Maximun_Runs)
