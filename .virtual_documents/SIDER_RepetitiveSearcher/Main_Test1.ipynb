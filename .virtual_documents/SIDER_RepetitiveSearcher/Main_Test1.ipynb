import argparse
import sys
import modules.Module_Test1


# Initiate parser
parser = argparse.ArgumentParser()

# Initiate subaparser
subparsers = parser.add_subparsers()

subparser_test1 = subparsers.add_parser(
    "Test parser",
    help="This is just a test for a parser",
    description="Just a test"
)

subparser_test1.add_argument("--file_name", required=True,
                             help="create path2")
subparser_test1.set_defaults(func=modules.Module_Test1.folder_creator)


get_ipython().getoutput("pwd")


help_options = ('--help_format',
                '--help_project',
                '--help_trimm_adapters',
                '--help_RNAbiotype',
                '--help_multiqc')


required= not any(elem in help_options for elem in sys.argv)


required


any(elem in help_options for elem in sys.argv)


    .. csv-table:: Arguments used in ``blastn``
       :header: Argument, Description

       ``word_size``, "| 11 by default.
       | BLAST search starts with finding a perfect sequence match of length given by this parameter."
