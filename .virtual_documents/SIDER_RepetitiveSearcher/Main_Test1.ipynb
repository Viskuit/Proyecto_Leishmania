import pdb
import os
import csv
import sys
import importlib
from Bio import SeqIO

get_ipython().run_line_magic("load_ext", " autoreload")
get_ipython().run_line_magic("autoreload", " 2")
from modules.blaster import blastn_dic, blastn_blaster, repetitive_blaster

# print([x for x in dir() if not x.startswith("_")])


print("\n".join([x for x in dir() if not x.startswith("_")]))


blastn_dic("../Prueba1/LinJ_cbm_v2_Crom_2-3.fasta")


blastn_blaster("../Prueba1/SIDER2_Chr1_L_Infantum.fasta",
               "../Prueba1/LinJ_cbm_v2_Crom_2-3.fasta",
               "../Prueba1/First_Blast_Output/First_Blaster.csv",
               60
)


len("../Prueba1/First_Blast_Output/First_Blaster.csv")


import pdb
repetitive_blaster("../Prueba1/LinJ_cbm_v2_Crom_2-3.fasta",
                   "../Prueba1/First_Blast_Output/First_Blaster.csv",
                   "../Prueba1/Second_Blast_Output/",
                   "LinJ",
                   600,
                   0,
                   4
)


from pathlib import Path
path_input = "../Prueba1/First_Blast_Output/First_Blaster.csv"
first_backup = Path(path_input)
first_backup2 = str(first_backup.parents[0]) + "/" + first_backup.with_suffix("").name + "_backup.csv"


first_backup2
