{
 "cells": [
  {
   "cell_type": "code",
   "execution_count": 2,
   "id": "f36b16de-6dfd-4207-bb40-9cbdccdf607b",
   "metadata": {},
   "outputs": [
    {
     "name": "stdout",
     "output_type": "stream",
     "text": [
      "/home/viskuit/Desktop/Proyecto_Leishmania/RepeatModeler/RepeatMask_With_SIDER2-Chr1-data/Blastdbcmd\n"
     ]
    }
   ],
   "source": [
    "!pwd"
   ]
  },
  {
   "cell_type": "code",
   "execution_count": 3,
   "id": "4e3b7fff-d33a-4934-9e12-f7dcc749d8b7",
   "metadata": {},
   "outputs": [],
   "source": [
    "import csv\n",
    "import subprocess\n",
    "from Bio import SeqIO\n",
    "from Bio.Seq import Seq\n",
    "from Bio.SeqRecord import SeqRecord"
   ]
  },
  {
   "cell_type": "code",
   "execution_count": 4,
   "id": "15596051-9b4d-4af7-a3b7-90f4304836a9",
   "metadata": {},
   "outputs": [],
   "source": [
    "!gawk 'BEGIN {RS=\"\\n\"}{print $0;}' L_infantum_ALL_36Chr.fasta.out | gawk '{if ($7 - $6 > 449) print $5,$6,$7,$9,$11;}' > PRUEBA1.txt"
   ]
  },
  {
   "cell_type": "code",
   "execution_count": 6,
   "id": "c1fc7867-b794-4523-b410-05e1a730a1a8",
   "metadata": {},
   "outputs": [
    {
     "name": "stdout",
     "output_type": "stream",
     "text": [
      "     10 Simple_repeat\n",
      "    446 Unspecified\n"
     ]
    }
   ],
   "source": [
    "!gawk 'BEGIN {RS=\"\\n\"}{print $5;}' PRUEBA1.txt | sort | uniq -c"
   ]
  },
  {
   "cell_type": "code",
   "execution_count": 7,
   "id": "0eedb3b6-9e95-4cbd-8e0e-964d9981215f",
   "metadata": {},
   "outputs": [],
   "source": [
    "!grep Unspecified PRUEBA1.txt > PRUEBA2.txt"
   ]
  },
  {
   "cell_type": "code",
   "execution_count": null,
   "id": "75caf171-1d6e-41c0-9c1b-5acad863a4e2",
   "metadata": {},
   "outputs": [],
   "source": []
  },
  {
   "cell_type": "code",
   "execution_count": 4,
   "id": "0e4aa42a-698e-4ba7-8f45-866f5cdce55d",
   "metadata": {},
   "outputs": [],
   "source": [
    "genome_fasta = \"./L_infantum_ALL_36Chr.fasta\"\n",
    "new_data = []\n",
    "with open(\"./PRUEBA2.txt\", \"r\") as main_file:\n",
    "    reader = csv.reader(main_file, delimiter=\" \")\n",
    "    for row in reader:\n",
    "        if \"+\" in row[3]:\n",
    "            seq = subprocess.check_output(\"blastdbcmd -db \" + genome_fasta + \" -entry \"\n",
    "                                          + row[0] + \" -range \" + row[1] + \"-\" + row[2]\n",
    "                                          + \" -strand plus -outfmt %s\",\n",
    "                                          shell=True,\n",
    "                                          universal_newlines=True)  # Very important to use \"subprocess.check_output\" so we can get the output\n",
    "            seq = seq.strip()  # Remove EoL characters\n",
    "            new_row = [row[0], \"plus\", str(len(seq)), row[1], row[2], seq]\n",
    "            new_data.append(new_row)\n",
    "        elif \"C\" in row[3]:\n",
    "            seq = subprocess.check_output(\"blastdbcmd -db \" + genome_fasta + \" -entry \"\n",
    "                                          + row[0] + \" -range \" + row[1] + \"-\" + row[2]\n",
    "                                          + \" -strand minus -outfmt %s\",\n",
    "                                          shell=True,\n",
    "                                          universal_newlines=True)  # Very important to use \"subprocess.check_output\" so we can get the output\n",
    "            seq = seq.strip()  # Remove EoL characters\n",
    "            new_row = [row[0], \"minus\", str(len(seq)), row[1], row[2], seq]\n",
    "            new_data.append(new_row)"
   ]
  },
  {
   "cell_type": "code",
   "execution_count": 5,
   "id": "39eb34ff-01eb-4639-bd11-c70e07234160",
   "metadata": {},
   "outputs": [
    {
     "data": {
      "text/plain": [
       "446"
      ]
     },
     "execution_count": 5,
     "metadata": {},
     "output_type": "execute_result"
    }
   ],
   "source": [
    "len(new_data)"
   ]
  },
  {
   "cell_type": "code",
   "execution_count": 6,
   "id": "99325931-b12b-46a5-b328-3f2df9f7ed59",
   "metadata": {},
   "outputs": [
    {
     "data": {
      "text/plain": [
       "['LinJ.01',\n",
       " 'plus',\n",
       " '660',\n",
       " '24100',\n",
       " '24759',\n",
       " 'GGCGGGGGAGGCGGGGGGCACGCACCTCCATGCGTGGCATCCCAGGGTCCAGCGCCCCCCCCCTCCACCCCCGCTCTCTCTGTGTACGGAAGCCCGGCAGCCCCCTCACCCTCTATCCCTGCCAACGCCGAACCACTTCTGGTGCTGACAGGGCTGGGCCCTTACGGCGTTGGGCGAGGTCGGCGCGACGTAGCGCCACGGATGCCGGCGGCCATGTCGTGCATGGCGCTGCGTCCGAGCCACCCGCGACAGTGAGCACAGGCTTGCACGGTCCATGCGATGGGCGGAGCGTGTCAGCGCGGCTCGAGCGTGTCGCAGCCGGCCCCTCACACTGGCCCACGGCGAGGGGTGCGGGGGCCTGAGTGTCACCGCGACGGGGAGACGCACCCAGGGAGGAGGTGGGGGGAGTGGGGACCGGCATGATGGAGGGGCGGCTGTGTGGCGATGTGTGTGTATGTGGGTGTCGTCGCGTTTGAGGCAGGAGCCGTGCTGCGACGACCGAGCCGGCGCACTGCTGCAGCGCGCGTGTGTCTTGCGCTGCTTCGCACCAGGCGATGAGAGTGGGGTGGGGTGCCTGCAGCACTCGGCGGCGGGGGGGTGCAGAGCGGCCTCCACCTCGCAGTGTGCGGCAGCGAAAACGGACACGCGGAAGAGCAAACA']"
      ]
     },
     "execution_count": 6,
     "metadata": {},
     "output_type": "execute_result"
    }
   ],
   "source": [
    "new_data[0]"
   ]
  },
  {
   "cell_type": "code",
   "execution_count": 7,
   "id": "7b78681d-9b9b-4f56-82f7-f3e01545ae51",
   "metadata": {},
   "outputs": [],
   "source": [
    "# Now let's transform it to a fasta file\n",
    "fasta_data = []\n",
    "for sequence in new_data:\n",
    "    rec = SeqRecord(\n",
    "        Seq(sequence[5]),\n",
    "        id=sequence[0] + \" \" + sequence[1] + \" length:\" + sequence[2] + \" \" + sequence[3] + \"-\" + sequence[4],\n",
    "        description=\"Leishmania infantum\"\n",
    "    )\n",
    "\n",
    "    fasta_data.append(rec)"
   ]
  },
  {
   "cell_type": "code",
   "execution_count": 8,
   "id": "bb1a0e7a-8f61-4fea-a339-ffcea2d1ce55",
   "metadata": {},
   "outputs": [
    {
     "data": {
      "text/plain": [
       "446"
      ]
     },
     "execution_count": 8,
     "metadata": {},
     "output_type": "execute_result"
    }
   ],
   "source": [
    "SeqIO.write(fasta_data, \"./PRUEBA2.fasta\", \"fasta\")"
   ]
  }
 ],
 "metadata": {
  "kernelspec": {
   "display_name": "Python 3 (ipykernel)",
   "language": "python",
   "name": "python3"
  },
  "language_info": {
   "codemirror_mode": {
    "name": "ipython",
    "version": 3
   },
   "file_extension": ".py",
   "mimetype": "text/x-python",
   "name": "python",
   "nbconvert_exporter": "python",
   "pygments_lexer": "ipython3",
   "version": "3.10.9"
  }
 },
 "nbformat": 4,
 "nbformat_minor": 5
}
