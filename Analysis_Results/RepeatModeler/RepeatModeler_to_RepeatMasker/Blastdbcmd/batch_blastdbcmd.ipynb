{
 "cells": [
  {
   "cell_type": "code",
   "execution_count": 31,
   "id": "d50df9cd-caa1-4222-939c-e7e1d53077d9",
   "metadata": {},
   "outputs": [],
   "source": [
    "import csv\n",
    "import subprocess\n",
    "from Bio import SeqIO\n",
    "from Bio.Seq import Seq\n",
    "from Bio.SeqRecord import SeqRecord"
   ]
  },
  {
   "cell_type": "code",
   "execution_count": 27,
   "id": "0abd8394-0afb-41a3-ac9e-b22240464cf0",
   "metadata": {},
   "outputs": [],
   "source": [
    "genome_fasta = \"./L_infantum_ALL_36Chr.fasta\"\n",
    "new_data = []\n",
    "with open(\"./PRUEBA2.txt\", \"r\") as main_file:\n",
    "    reader = csv.reader(main_file, delimiter=\" \")\n",
    "    for row in reader:\n",
    "        if \"+\" in row[3]:\n",
    "            seq = subprocess.check_output(\"blastdbcmd -db \" + genome_fasta + \" -entry \"\n",
    "                                          + row[0] + \" -range \" + row[1] + \"-\" + row[2]\n",
    "                                          + \" -strand plus -outfmt %s\",\n",
    "                                          shell=True,\n",
    "                                          universal_newlines=True)  # Very important to use \"subprocess.check_output\" so we can get the output\n",
    "            seq = seq.strip()  # Remove EoL characters\n",
    "            new_row = [row[0], \"plus\", str(len(seq)), row[1], row[2], seq]\n",
    "            new_data.append(new_row)\n",
    "        elif \"C\" in row[3]:\n",
    "            seq = subprocess.check_output(\"blastdbcmd -db \" + genome_fasta + \" -entry \"\n",
    "                                          + row[0] + \" -range \" + row[1] + \"-\" + row[2]\n",
    "                                          + \" -strand minus -outfmt %s\",\n",
    "                                          shell=True,\n",
    "                                          universal_newlines=True)  # Very important to use \"subprocess.check_output\" so we can get the output\n",
    "            seq = seq.strip()  # Remove EoL characters\n",
    "            new_row = [row[0], \"minus\", str(len(seq)), row[1], row[2], seq]\n",
    "            new_data.append(new_row)"
   ]
  },
  {
   "cell_type": "code",
   "execution_count": 29,
   "id": "342c1daf-b965-4acc-a56d-f1371463fa1f",
   "metadata": {},
   "outputs": [
    {
     "data": {
      "text/plain": [
       "1545"
      ]
     },
     "execution_count": 29,
     "metadata": {},
     "output_type": "execute_result"
    }
   ],
   "source": [
    "len(new_data)"
   ]
  },
  {
   "cell_type": "code",
   "execution_count": 37,
   "id": "4f66127a-e9cb-4099-8697-a344800d95cc",
   "metadata": {},
   "outputs": [
    {
     "data": {
      "text/plain": [
       "['LinJ.01',\n",
       " 'minus',\n",
       " '645',\n",
       " '24109',\n",
       " '24753',\n",
       " 'CTCTTCCGCGTGTCCGTTTTCGCTGCCGCACACTGCGAGGTGGAGGCCGCTCTGCACCCCCCCGCCGCCGAGTGCTGCAGGCACCCCACCCCACTCTCATCGCCTGGTGCGAAGCAGCGCAAGACACACGCGCGCTGCAGCAGTGCGCCGGCTCGGTCGTCGCAGCACGGCTCCTGCCTCAAACGCGACGACACCCACATACACACACATCGCCACACAGCCGCCCCTCCATCATGCCGGTCCCCACTCCCCCCACCTCCTCCCTGGGTGCGTCTCCCCGTCGCGGTGACACTCAGGCCCCCGCACCCCTCGCCGTGGGCCAGTGTGAGGGGCCGGCTGCGACACGCTCGAGCCGCGCTGACACGCTCCGCCCATCGCATGGACCGTGCAAGCCTGTGCTCACTGTCGCGGGTGGCTCGGACGCAGCGCCATGCACGACATGGCCGCCGGCATCCGTGGCGCTACGTCGCGCCGACCTCGCCCAACGCCGTAAGGGCCCAGCCCTGTCAGCACCAGAAGTGGTTCGGCGTTGGCAGGGATAGAGGGTGAGGGGGCTGCCGGGCTTCCGTACACAGAGAGAGCGGGGGTGGAGGGGGGGGGCGCTGGACCCTGGGATGCCACGCATGGAGGTGCGTGCCCCCCGCC']"
      ]
     },
     "execution_count": 37,
     "metadata": {},
     "output_type": "execute_result"
    }
   ],
   "source": [
    "new_data[0]"
   ]
  },
  {
   "cell_type": "code",
   "execution_count": 45,
   "id": "a234d3d5-9633-49d5-9b80-1ec83e369605",
   "metadata": {},
   "outputs": [],
   "source": [
    "# Now let's transform it to a fasta file\n",
    "fasta_data = []\n",
    "for sequence in new_data:\n",
    "    rec = SeqRecord(\n",
    "        Seq(sequence[5]),\n",
    "        id=sequence[0] + \" \" + sequence[1] + \" length:\" + sequence[2] + \" \" + sequence[3] + \"-\" + sequence[4],\n",
    "        description=\"Leishmania infantum\"\n",
    "    )\n",
    "\n",
    "    fasta_data.append(rec)"
   ]
  },
  {
   "cell_type": "code",
   "execution_count": 46,
   "id": "edfd783c-1736-4a24-814b-2d31e9320ecb",
   "metadata": {},
   "outputs": [
    {
     "data": {
      "text/plain": [
       "1545"
      ]
     },
     "execution_count": 46,
     "metadata": {},
     "output_type": "execute_result"
    }
   ],
   "source": [
    "SeqIO.write(fasta_data, \"./PRUEBA2.fasta\", \"fasta\")"
   ]
  }
 ],
 "metadata": {
  "kernelspec": {
   "display_name": "Python 3 (ipykernel)",
   "language": "python",
   "name": "python3"
  },
  "language_info": {
   "codemirror_mode": {
    "name": "ipython",
    "version": 3
   },
   "file_extension": ".py",
   "mimetype": "text/x-python",
   "name": "python",
   "nbconvert_exporter": "python",
   "pygments_lexer": "ipython3",
   "version": "3.10.9"
  }
 },
 "nbformat": 4,
 "nbformat_minor": 5
}
