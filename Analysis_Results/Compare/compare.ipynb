{
 "cells": [
  {
   "cell_type": "code",
   "execution_count": 3,
   "id": "ccddcbee-d53b-45ca-87b2-3b61ed8f28d3",
   "metadata": {},
   "outputs": [
    {
     "name": "stdout",
     "output_type": "stream",
     "text": [
      "/home/viskuit/Desktop/Proyecto_Leishmania/Compare\n"
     ]
    }
   ],
   "source": [
    "!pwd"
   ]
  },
  {
   "cell_type": "code",
   "execution_count": 15,
   "id": "43689128-c51a-4ed2-b27d-0fcc4dd9c999",
   "metadata": {},
   "outputs": [],
   "source": [
    "import pdb\n",
    "import os"
   ]
  },
  {
   "cell_type": "code",
   "execution_count": null,
   "id": "b20b45fd-110a-45a9-b469-8de243073f91",
   "metadata": {},
   "outputs": [],
   "source": [
    "blastn_dic(\"./dict/SIDER2_all_36Chr.fasta\")"
   ]
  }
 ],
 "metadata": {
  "kernelspec": {
   "display_name": "Python 3 (ipykernel)",
   "language": "python",
   "name": "python3"
  },
  "language_info": {
   "codemirror_mode": {
    "name": "ipython",
    "version": 3
   },
   "file_extension": ".py",
   "mimetype": "text/x-python",
   "name": "python",
   "nbconvert_exporter": "python",
   "pygments_lexer": "ipython3",
   "version": "3.10.9"
  }
 },
 "nbformat": 4,
 "nbformat_minor": 5
}
