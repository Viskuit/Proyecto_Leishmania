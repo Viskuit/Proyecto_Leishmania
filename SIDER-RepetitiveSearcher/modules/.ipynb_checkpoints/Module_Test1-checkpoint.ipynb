{
 "cells": [
  {
   "cell_type": "code",
   "execution_count": 4,
   "id": "92eba604-5935-4a04-9866-d1755ad631e1",
   "metadata": {},
   "outputs": [],
   "source": [
    "import os"
   ]
  },
  {
   "cell_type": "code",
   "execution_count": null,
   "id": "e6566a1c-ca87-4ae7-b094-d161774ea79d",
   "metadata": {},
   "outputs": [],
   "source": [
    "def folder_creator(Folder_Name):\n",
    "    if not os.path.exists(Folder_Name):\n",
    "        os.mkdir(Folder_Name)\n",
    "        print(\"\\nDirectory\", Folder_Name, \"created\")\n",
    "    else:\n",
    "        print(\"\\nDirectory\", Folder_Name, \"already exists\")\n"
   ]
  },
  {
   "cell_type": "code",
   "execution_count": null,
   "id": "940ed127-f573-45f8-bd70-51a46b070dac",
   "metadata": {},
   "outputs": [],
   "source": []
  },
  {
   "cell_type": "code",
   "execution_count": 8,
   "id": "adb5164d-310e-4cd7-a980-026d34ae913d",
   "metadata": {},
   "outputs": [
    {
     "name": "stdout",
     "output_type": "stream",
     "text": [
      "['In', 'Out', 'exit', 'folder_ccreator', 'get_ipython', 'open', 'os', 'quit', 'types']\n"
     ]
    }
   ],
   "source": []
  }
 ],
 "metadata": {
  "kernelspec": {
   "display_name": "Python 3 (ipykernel)",
   "language": "python",
   "name": "python3"
  },
  "language_info": {
   "codemirror_mode": {
    "name": "ipython",
    "version": 3
   },
   "file_extension": ".py",
   "mimetype": "text/x-python",
   "name": "python",
   "nbconvert_exporter": "python",
   "pygments_lexer": "ipython3",
   "version": "3.10.9"
  }
 },
 "nbformat": 4,
 "nbformat_minor": 5
}
