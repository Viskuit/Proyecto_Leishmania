{
 "cells": [
  {
   "cell_type": "code",
   "execution_count": 11,
   "id": "5f845284-ff05-486d-b7df-6713731057b0",
   "metadata": {},
   "outputs": [],
   "source": [
    "test_list = ['Seq_1_LinJ.01_plus', 'Seq_2_LinJ.01_minus', 'Seq_3_LinJ.01_minus', 'Seq_4_LinJ.01_plus', 'Seq_5_LinJ.01_plus', 'Seq_6_LinJ.01_plus', 'Seq_7_LinJ.01_minus', 'Seq_8_LinJ.01_minus', 'Seq_9_LinJ.01_plus', 'Seq_10_LinJ.01_plus', 'Seq_20_LinJ.01_plus', 'Seq_100_LinJ.01_plus', 'Seq_1000_LinJ.01_plus', 'Seq_1000_LinJ.01_plus', 'Seq_1000_48_LinJ.01_plus']"
   ]
  },
  {
   "cell_type": "code",
   "execution_count": 12,
   "id": "9cd6bc06-2109-44a8-83c5-53e16de4b930",
   "metadata": {},
   "outputs": [
    {
     "data": {
      "text/plain": [
       "['Seq_1_LinJ.01_plus',\n",
       " 'Seq_2_LinJ.01_minus',\n",
       " 'Seq_3_LinJ.01_minus',\n",
       " 'Seq_4_LinJ.01_plus',\n",
       " 'Seq_5_LinJ.01_plus',\n",
       " 'Seq_6_LinJ.01_plus',\n",
       " 'Seq_7_LinJ.01_minus',\n",
       " 'Seq_8_LinJ.01_minus',\n",
       " 'Seq_9_LinJ.01_plus',\n",
       " 'Seq_10_LinJ.01_plus',\n",
       " 'Seq_20_LinJ.01_plus',\n",
       " 'Seq_100_LinJ.01_plus',\n",
       " 'Seq_1000_LinJ.01_plus',\n",
       " 'Seq_1000_LinJ.01_plus',\n",
       " 'Seq_1000_48_LinJ.01_plus']"
      ]
     },
     "execution_count": 12,
     "metadata": {},
     "output_type": "execute_result"
    }
   ],
   "source": [
    "test_list"
   ]
  },
  {
   "cell_type": "code",
   "execution_count": 14,
   "id": "e23245b4-97bf-45a3-b1ef-9693f9cebe01",
   "metadata": {},
   "outputs": [
    {
     "name": "stdout",
     "output_type": "stream",
     "text": [
      "1\n",
      "<class 'str'>\n",
      "2\n",
      "<class 'str'>\n",
      "3\n",
      "<class 'str'>\n",
      "4\n",
      "<class 'str'>\n",
      "5\n",
      "<class 'str'>\n",
      "6\n",
      "<class 'str'>\n",
      "7\n",
      "<class 'str'>\n",
      "8\n",
      "<class 'str'>\n",
      "9\n",
      "<class 'str'>\n",
      "10\n",
      "<class 'str'>\n",
      "20\n",
      "<class 'str'>\n",
      "100\n",
      "<class 'str'>\n",
      "1000\n",
      "<class 'str'>\n",
      "1000\n",
      "<class 'str'>\n",
      "1000\n",
      "<class 'str'>\n"
     ]
    }
   ],
   "source": [
    "import re\n",
    "for number in test_list:\n",
    "    re_search = re.search(\"\\d+\", number)\n",
    "    print(re_search.group())\n",
    "    print(type(re_search.group()))"
   ]
  }
 ],
 "metadata": {
  "kernelspec": {
   "display_name": "Python 3 (ipykernel)",
   "language": "python",
   "name": "python3"
  },
  "language_info": {
   "codemirror_mode": {
    "name": "ipython",
    "version": 3
   },
   "file_extension": ".py",
   "mimetype": "text/x-python",
   "name": "python",
   "nbconvert_exporter": "python",
   "pygments_lexer": "ipython3",
   "version": "3.10.9"
  }
 },
 "nbformat": 4,
 "nbformat_minor": 5
}
