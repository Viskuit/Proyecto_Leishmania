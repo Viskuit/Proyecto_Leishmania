{
 "cells": [
  {
   "cell_type": "code",
   "execution_count": 1,
   "id": "f3df5c41-74b8-4e1a-ac42-cf476b98eacd",
   "metadata": {},
   "outputs": [],
   "source": [
    "from modules.files_manager import fasta_creator"
   ]
  },
  {
   "cell_type": "code",
   "execution_count": 4,
   "id": "471c3b56-85b7-47e8-9785-7705fcdaf463",
   "metadata": {},
   "outputs": [
    {
     "name": "stdout",
     "output_type": "stream",
     "text": [
      "\n",
      "Fasta created at: ../Prueba3.1_Chr36_ws11/Results2/RUNS/run_5.fasta\n"
     ]
    }
   ],
   "source": [
    "fasta_creator(\"../Prueba3.1_Chr36_ws11/Results2/RUNS/run_5.csv\", \"../Prueba3.1_Chr36_ws11/Results2/RUNS/run_5.fasta\")"
   ]
  }
 ],
 "metadata": {
  "kernelspec": {
   "display_name": "Python 3 (ipykernel)",
   "language": "python",
   "name": "python3"
  },
  "language_info": {
   "codemirror_mode": {
    "name": "ipython",
    "version": 3
   },
   "file_extension": ".py",
   "mimetype": "text/x-python",
   "name": "python",
   "nbconvert_exporter": "python",
   "pygments_lexer": "ipython3",
   "version": "3.10.9"
  }
 },
 "nbformat": 4,
 "nbformat_minor": 5
}
