{
 "cells": [
  {
   "cell_type": "code",
   "execution_count": 2,
   "metadata": {},
   "outputs": [
    {
     "data": {
      "text/plain": [
       "'/home/viskuit/Desktop/Projects/Leishmania/Proyecto_Leishmania/SIDER_RepetitiveSearcher'"
      ]
     },
     "execution_count": 2,
     "metadata": {},
     "output_type": "execute_result"
    }
   ],
   "source": [
    "import os\n",
    "os.getcwd()"
   ]
  },
  {
   "cell_type": "code",
   "execution_count": 3,
   "metadata": {},
   "outputs": [
    {
     "name": "stdout",
     "output_type": "stream",
     "text": [
      "SeqIO\n",
      "pdb\n"
     ]
    }
   ],
   "source": [
    "%load_ext autoreload\n",
    "%autoreload 2\n",
    "from extra.useful import fasta_extractor\n",
    "from modules.blaster import blastn_dic, blastn_blaster, repetitive_blaster\n",
    "from modules.files_manager import folder_creator"
   ]
  },
  {
   "cell_type": "code",
   "execution_count": 4,
   "metadata": {},
   "outputs": [],
   "source": [
    "fasta_extractor(\"/home/viskuit/Desktop/Projects/Leishmania/SIDER_Data/genome_data/SIDER2_all_36Chr.fasta\",\n",
    "               \"/home/viskuit/Desktop/Projects/Leishmania/SIDER_Data/Test_1/L_infantum_1-to-5Chr.fasta\",\n",
    "               (1,2,3,4,5))"
   ]
  },
  {
   "cell_type": "code",
   "execution_count": 5,
   "metadata": {},
   "outputs": [
    {
     "name": "stdout",
     "output_type": "stream",
     "text": [
      "\n",
      "\n",
      "|==================================================|\n",
      "|         BLASTn Database creator started          |\n",
      "|==================================================|\n",
      "\n",
      "\n",
      "\n",
      "\n",
      "Building a new DB, current time: 03/04/2024 13:29:08\n",
      "New DB name:   /home/viskuit/Desktop/Projects/Leishmania/SIDER_Data/Test_1/L_infantum_1-to-5Chr.fasta\n",
      "New DB title:  /home/viskuit/Desktop/Projects/Leishmania/SIDER_Data/Test_1/L_infantum_1-to-5Chr.fasta\n",
      "Sequence type: Nucleotide\n",
      "Deleted existing Nucleotide BLAST database named /home/viskuit/Desktop/Projects/Leishmania/SIDER_Data/Test_1/L_infantum_1-to-5Chr.fasta\n",
      "Keep MBits: T\n",
      "Maximum file size: 1000000000B\n",
      "Adding sequences from FASTA; added 5 sequences in 0.000450134 seconds.\n",
      "\n",
      "\n",
      "\n",
      "Blast Dictionary created in /home/viskuit/Desktop/Projects/Leishmania/SIDER_Data/Test_1/L_infantum_1-to-5Chr.fasta\n"
     ]
    }
   ],
   "source": [
    "blastn_dic(\"/home/viskuit/Desktop/Projects/Leishmania/SIDER_Data/Test_1/L_infantum_1-to-5Chr.fasta\")"
   ]
  },
  {
   "cell_type": "code",
   "execution_count": 6,
   "metadata": {},
   "outputs": [
    {
     "name": "stdout",
     "output_type": "stream",
     "text": [
      "\n",
      "Directory /home/viskuit/Desktop/Projects/Leishmania/SIDER_Data/Test_1/Results already exists\n"
     ]
    }
   ],
   "source": [
    "folder_creator(\"/home/viskuit/Desktop/Projects/Leishmania/SIDER_Data/Test_1/Results\")"
   ]
  },
  {
   "cell_type": "code",
   "execution_count": 7,
   "metadata": {},
   "outputs": [
    {
     "name": "stdout",
     "output_type": "stream",
     "text": [
      "\n",
      "\n",
      "|==================================================|\n",
      "|            BLASTn searcher initiated             |\n",
      "|==================================================|\n",
      "\n",
      "\n",
      "\n",
      "Blaster succesful /home/viskuit/Desktop/Projects/Leishmania/SIDER_Data/Test_1/Results/First_Blaster.csv created.\n"
     ]
    }
   ],
   "source": [
    "blastn_blaster(\"/home/viskuit/Desktop/Projects/Leishmania/SIDER_Data/SIDER_data/fasta_data/SIDER2_Chr1_L_Infantum.fasta\",\n",
    "               \"/home/viskuit/Desktop/Projects/Leishmania/SIDER_Data/Test_1/L_infantum_1-to-5Chr.fasta\",\n",
    "               \"/home/viskuit/Desktop/Projects/Leishmania/SIDER_Data/Test_1/Results/First_Blaster.csv\",\n",
    "               60\n",
    ")"
   ]
  },
  {
   "cell_type": "code",
   "execution_count": 1,
   "metadata": {},
   "outputs": [
    {
     "ename": "NameError",
     "evalue": "name 'repetitive_blaster' is not defined",
     "output_type": "error",
     "traceback": [
      "\u001b[0;31m---------------------------------------------------------------------------\u001b[0m",
      "\u001b[0;31mNameError\u001b[0m                                 Traceback (most recent call last)",
      "Cell \u001b[0;32mIn[1], line 1\u001b[0m\n\u001b[0;32m----> 1\u001b[0m \u001b[43mrepetitive_blaster\u001b[49m(\u001b[38;5;124m\"\u001b[39m\u001b[38;5;124m/home/viskuit/Desktop/Projects/Leishmania/SIDER_Data/Test_1/L_infantum_1-to-5Chr.fasta\u001b[39m\u001b[38;5;124m\"\u001b[39m,\n\u001b[1;32m      2\u001b[0m                    \u001b[38;5;124m\"\u001b[39m\u001b[38;5;124m/home/viskuit/Desktop/Projects/Leishmania/SIDER_Data/Test_1/Results/First_Blaster.csv\u001b[39m\u001b[38;5;124m\"\u001b[39m,\n\u001b[1;32m      3\u001b[0m                    \u001b[38;5;124m\"\u001b[39m\u001b[38;5;124m/home/viskuit/Desktop/Projects/Leishmania/SIDER_Data/Test_1/Results\u001b[39m\u001b[38;5;124m\"\u001b[39m,\n\u001b[1;32m      4\u001b[0m                    \u001b[38;5;124m\"\u001b[39m\u001b[38;5;124mLinJ\u001b[39m\u001b[38;5;124m\"\u001b[39m,\n\u001b[1;32m      5\u001b[0m                    \u001b[38;5;241m600\u001b[39m,\n\u001b[1;32m      6\u001b[0m                    \u001b[38;5;241m0\u001b[39m,\n\u001b[1;32m      7\u001b[0m                    \u001b[38;5;241m1\u001b[39m\n\u001b[1;32m      8\u001b[0m )\n",
      "\u001b[0;31mNameError\u001b[0m: name 'repetitive_blaster' is not defined"
     ]
    }
   ],
   "source": [
    "repetitive_blaster(\"/home/viskuit/Desktop/Projects/Leishmania/SIDER_Data/Test_1/L_infantum_1-to-5Chr.fasta\",\n",
    "                   \"/home/viskuit/Desktop/Projects/Leishmania/SIDER_Data/Test_1/Results/First_Blaster.csv\",\n",
    "                   \"/home/viskuit/Desktop/Projects/Leishmania/SIDER_Data/Test_1/Results\",\n",
    "                   \"LinJ\",\n",
    "                   600,\n",
    "                   0,\n",
    "                   1\n",
    ")"
   ]
  }
 ],
 "metadata": {
  "kernelspec": {
   "display_name": "base",
   "language": "python",
   "name": "python3"
  },
  "language_info": {
   "codemirror_mode": {
    "name": "ipython",
    "version": 3
   },
   "file_extension": ".py",
   "mimetype": "text/x-python",
   "name": "python",
   "nbconvert_exporter": "python",
   "pygments_lexer": "ipython3",
   "version": "3.10.9"
  }
 },
 "nbformat": 4,
 "nbformat_minor": 2
}
