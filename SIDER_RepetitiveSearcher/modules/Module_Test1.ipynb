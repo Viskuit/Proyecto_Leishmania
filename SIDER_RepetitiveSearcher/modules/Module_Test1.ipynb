{
 "cells": [
  {
   "cell_type": "code",
   "execution_count": 1,
   "id": "92eba604-5935-4a04-9866-d1755ad631e1",
   "metadata": {},
   "outputs": [],
   "source": [
    "import os"
   ]
  },
  {
   "cell_type": "code",
   "execution_count": 2,
   "id": "e6566a1c-ca87-4ae7-b094-d161774ea79d",
   "metadata": {},
   "outputs": [],
   "source": [
    "def folder_creator(Folder_Name):\n",
    "    \"\"\"\n",
    "    Creates a Folder in the selected directory\n",
    "    \"\"\"\n",
    "    if not os.path.exists(Folder_Name):\n",
    "        os.mkdir(Folder_Name)\n",
    "        print(\"\\nDirectory\", Folder_Name, \"created at:\\n\",\n",
    "             os.path.abspath(Folder_Name))\n",
    "    else:\n",
    "        print(\"\\nDirectory\", Folder_Name, \"already exists\")\n"
   ]
  },
  {
   "cell_type": "code",
   "execution_count": 23,
   "id": "940ed127-f573-45f8-bd70-51a46b070dac",
   "metadata": {},
   "outputs": [
    {
     "name": "stdout",
     "output_type": "stream",
     "text": [
      "\n",
      "Directory Prueba_1 created at:\n",
      " /home/viskuit/OneDrive/Important/Universidad/Master_Bioinformatics_UOC/TFM/Proyecto_Leishmania/SIDER-RepetitiveSearcher/modules/Prueba_1\n"
     ]
    }
   ],
   "source": [
    "folder_creator(\"Prueba_1\")"
   ]
  },
  {
   "cell_type": "code",
   "execution_count": 16,
   "id": "adb5164d-310e-4cd7-a980-026d34ae913d",
   "metadata": {},
   "outputs": [
    {
     "data": {
      "text/plain": [
       "'/home/viskuit/OneDrive/Important/Universidad/Master_Bioinformatics_UOC/TFM/Proyecto_Leishmania/SIDER-RepetitiveSearcher/modules/Module_Test1.ipynb'"
      ]
     },
     "execution_count": 16,
     "metadata": {},
     "output_type": "execute_result"
    }
   ],
   "source": [
    "if hasatt"
   ]
  }
 ],
 "metadata": {
  "kernelspec": {
   "display_name": "Python 3 (ipykernel)",
   "language": "python",
   "name": "python3"
  },
  "language_info": {
   "codemirror_mode": {
    "name": "ipython",
    "version": 3
   },
   "file_extension": ".py",
   "mimetype": "text/x-python",
   "name": "python",
   "nbconvert_exporter": "python",
   "pygments_lexer": "ipython3",
   "version": "3.10.9"
  }
 },
 "nbformat": 4,
 "nbformat_minor": 5
}
