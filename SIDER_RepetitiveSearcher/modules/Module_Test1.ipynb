{
 "cells": [
  {
   "cell_type": "code",
   "execution_count": 4,
   "id": "92eba604-5935-4a04-9866-d1755ad631e1",
   "metadata": {},
   "outputs": [],
   "source": [
    "import os"
   ]
  },
  {
   "cell_type": "code",
   "execution_count": 5,
   "id": "e6566a1c-ca87-4ae7-b094-d161774ea79d",
   "metadata": {},
   "outputs": [],
   "source": [
    "def folder_creator(Folder_Name):\n",
    "    \"\"\"\n",
    "    Creates a Folder in the selected directory\n",
    "    \"\"\"\n",
    "    if not os.path.exists(Folder_Name):\n",
    "        os.mkdir(Folder_Name)\n",
    "        print(\"\\nDirectory\", Folder_Name, \"created at:\\n\",\n",
    "             os.path.abspath(Folder_Name))\n",
    "    else:\n",
    "        print(\"\\nDirectory\", Folder_Name, \"already exists\")\n"
   ]
  },
  {
   "cell_type": "code",
   "execution_count": null,
   "id": "940ed127-f573-45f8-bd70-51a46b070dac",
   "metadata": {},
   "outputs": [
    {
     "name": "stderr",
     "output_type": "stream",
     "text": [
      "\n",
      "PYDEV DEBUGGER WARNING:\n",
      "sys.settrace() should not be used when the debugger is being used.\n",
      "This may cause the debugger to stop working correctly.\n",
      "If this is needed, please check: \n",
      "http://pydev.blogspot.com/2007/06/why-cant-pydev-debugger-work-with.html\n",
      "to see how to restore the debug tracing back correctly.\n",
      "Call Location:\n",
      "  File \"/home/viskuit/anaconda3/lib/python3.10/bdb.py\", line 336, in set_trace\n",
      "    sys.settrace(self.trace_dispatch)\n",
      "\n"
     ]
    },
    {
     "name": "stdout",
     "output_type": "stream",
     "text": [
      "\n",
      "Directory Prueba_1 created at:\n",
      " /home/viskuit/OneDrive/Important/Universidad/Master_Bioinformatics_UOC/TFM/Proyecto_Leishmania/SIDER_RepetitiveSearcher/modules/Prueba_1\n",
      "--Return--\n",
      "None\n",
      "> \u001b[0;32m/tmp/ipykernel_35352/4034551738.py\u001b[0m(9)\u001b[0;36mfolder_creator\u001b[0;34m()\u001b[0m\n",
      "\u001b[0;32m      7 \u001b[0;31m        print(\"\\nDirectory\", Folder_Name, \"created at:\\n\",\n",
      "\u001b[0m\u001b[0;32m      8 \u001b[0;31m             os.path.abspath(Folder_Name))\n",
      "\u001b[0m\u001b[0;32m----> 9 \u001b[0;31m        \u001b[0mset_trace\u001b[0m\u001b[0;34m(\u001b[0m\u001b[0;34m)\u001b[0m\u001b[0;34m\u001b[0m\u001b[0;34m\u001b[0m\u001b[0m\n",
      "\u001b[0m\u001b[0;32m     10 \u001b[0;31m    \u001b[0;32melse\u001b[0m\u001b[0;34m:\u001b[0m\u001b[0;34m\u001b[0m\u001b[0;34m\u001b[0m\u001b[0m\n",
      "\u001b[0m\u001b[0;32m     11 \u001b[0;31m        \u001b[0mprint\u001b[0m\u001b[0;34m(\u001b[0m\u001b[0;34m\"\\nDirectory\"\u001b[0m\u001b[0;34m,\u001b[0m \u001b[0mFolder_Name\u001b[0m\u001b[0;34m,\u001b[0m \u001b[0;34m\"already exists\"\u001b[0m\u001b[0;34m)\u001b[0m\u001b[0;34m\u001b[0m\u001b[0;34m\u001b[0m\u001b[0m\n",
      "\u001b[0m\n"
     ]
    }
   ],
   "source": [
    "folder_creator(\"Prueba_1\")"
   ]
  },
  {
   "cell_type": "code",
   "execution_count": 16,
   "id": "adb5164d-310e-4cd7-a980-026d34ae913d",
   "metadata": {},
   "outputs": [
    {
     "data": {
      "text/plain": [
       "'/home/viskuit/OneDrive/Important/Universidad/Master_Bioinformatics_UOC/TFM/Proyecto_Leishmania/SIDER-RepetitiveSearcher/modules/Module_Test1.ipynb'"
      ]
     },
     "execution_count": 16,
     "metadata": {},
     "output_type": "execute_result"
    }
   ],
   "source": []
  }
 ],
 "metadata": {
  "kernelspec": {
   "display_name": "Python 3 (ipykernel)",
   "language": "python",
   "name": "python3"
  },
  "language_info": {
   "codemirror_mode": {
    "name": "ipython",
    "version": 3
   },
   "file_extension": ".py",
   "mimetype": "text/x-python",
   "name": "python",
   "nbconvert_exporter": "python",
   "pygments_lexer": "ipython3",
   "version": "3.10.9"
  }
 },
 "nbformat": 4,
 "nbformat_minor": 5
}
