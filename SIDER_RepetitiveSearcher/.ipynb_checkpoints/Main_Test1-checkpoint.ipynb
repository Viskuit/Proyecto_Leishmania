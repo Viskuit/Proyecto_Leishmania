{
 "cells": [
  {
   "cell_type": "code",
   "execution_count": 35,
   "id": "4099e642-0e23-4d9e-8b85-bf87c9ddbe0e",
   "metadata": {},
   "outputs": [
    {
     "name": "stdout",
     "output_type": "stream",
     "text": [
      "\n",
      "\n",
      "|==================================================|\n",
      "|            BLASTn searcher initiated             |\n",
      "|==================================================|\n",
      "\n",
      "\n",
      "\n",
      "Blaster succesful ../Prueba1/Results/something11.csv created.\n"
     ]
    }
   ],
   "source": [
    "import pdb\n",
    "import os\n",
    "from modules.aesthetics import boxymcboxface\n",
    "\n",
    "\n",
    "def blastn_blaster(query_path, dict_path, outfile_path, perc_identity):\n",
    "    boxymcboxface(\"BLASTn searcher initiated\")\n",
    "    print(\"\\nBlaster succesful\", outfile_path, \"created.\")\n",
    "    os.system(\"blastn -word_size 11 -query \"\n",
    "              + query_path + \" -db \"\n",
    "              + dict_path + \" -out \"\n",
    "              + outfile_path + \" -perc_identity \"\n",
    "              + str(perc_identity) + \" -outfmt '10 qseqid sseqid pident length qlen slen mismatch gapopen qstart qend sstart send evalue bitscore sstrand sseq'\")\n",
    "    \n",
    "blastn_blaster(\"../Prueba1/SIDER2_Chr1_L_Infantum.fasta\",\n",
    "              \"../Prueba1/LinJ_cbm_v2_Crom2.fasta\",\n",
    "               \"../Prueba1/Results/something11.csv\",\n",
    "               60\n",
    ")"
   ]
  },
  {
   "cell_type": "code",
   "execution_count": 27,
   "id": "ce398c87-3593-4c4a-bf79-090d11ff2fb0",
   "metadata": {},
   "outputs": [
    {
     "name": "stdout",
     "output_type": "stream",
     "text": [
      "\n",
      "\n",
      "|==================================================|\n",
      "|            BLASTn searcher initiated             |\n",
      "|==================================================|\n",
      "\n",
      "\n",
      "\n",
      "Blaster succesful ../Prueba1/Results/something.csv created.\n"
     ]
    }
   ],
   "source": [
    "blastn_blaster(\"../Prueba1/SIDER2_Chr1_L_Infantum.fasta\",\n",
    "              \"../Prueba1/LinJ_cbm_v2_Crom2.fasta\",\n",
    "               \"../Prueba1/Results/something.csv\",\n",
    "               60\n",
    ")"
   ]
  }
 ],
 "metadata": {
  "kernelspec": {
   "display_name": "Python 3 (ipykernel)",
   "language": "python",
   "name": "python3"
  },
  "language_info": {
   "codemirror_mode": {
    "name": "ipython",
    "version": 3
   },
   "file_extension": ".py",
   "mimetype": "text/x-python",
   "name": "python",
   "nbconvert_exporter": "python",
   "pygments_lexer": "ipython3",
   "version": "3.10.9"
  }
 },
 "nbformat": 4,
 "nbformat_minor": 5
}
