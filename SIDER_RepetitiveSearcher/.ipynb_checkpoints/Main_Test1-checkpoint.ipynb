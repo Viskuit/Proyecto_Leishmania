{
 "cells": [
  {
   "cell_type": "code",
   "execution_count": 8,
   "id": "ed3d68a8-7092-40c3-97d0-8cb1555d1984",
   "metadata": {},
   "outputs": [],
   "source": [
    "import pdb\n",
    "import os\n",
    "import csv\n",
    "import importlib\n",
    "from Bio import SeqIO\n",
    "from modules.blaster import blastn_dic, blastn_blaster, repetitive_blaster\n",
    "\n",
    "# print([x for x in dir() if not x.startswith(\"_\")])"
   ]
  },
  {
   "cell_type": "code",
   "execution_count": 23,
   "id": "80619b02-424d-416f-9e4f-c6a96acae3b1",
   "metadata": {},
   "outputs": [
    {
     "name": "stdout",
     "output_type": "stream",
     "text": [
      "In\n",
      "NamespaceMagics\n",
      "Out\n",
      "SeqIO\n",
      "blastn_blaster\n",
      "blastn_dic\n",
      "boxymcboxface\n",
      "csv\n",
      "exit\n",
      "get_ipython\n",
      "json\n",
      "open\n",
      "os\n",
      "pdb\n",
      "quit\n",
      "repetitive_blaster\n",
      "sys\n"
     ]
    }
   ],
   "source": [
    "print(\"\\n\".join([x for x in dir() if not x.startswith(\"_\")]))"
   ]
  },
  {
   "cell_type": "code",
   "execution_count": 24,
   "id": "e1f09c0c-ef89-4bd5-be54-b04bb57288f7",
   "metadata": {},
   "outputs": [
    {
     "name": "stdout",
     "output_type": "stream",
     "text": [
      "/bin/bash: -c: line 1: syntax error near unexpected token `boxymcboxface'\n",
      "/bin/bash: -c: line 1: `rm (boxymcboxface)'\n"
     ]
    }
   ],
   "source": [
    "rm(boxymcboxface)"
   ]
  },
  {
   "cell_type": "code",
   "execution_count": 5,
   "id": "190d0919-0938-41f9-ade6-75be8f428725",
   "metadata": {},
   "outputs": [
    {
     "name": "stdout",
     "output_type": "stream",
     "text": [
      "\n",
      "\n",
      "|==================================================|\n",
      "|         BLASTn Database creator started          |\n",
      "|==================================================|\n",
      "\n",
      "\n",
      "\n",
      "\n",
      "Building a new DB, current time: 05/17/2023 19:47:03\n",
      "New DB name:   /home/viskuit/OneDrive/Important/Universidad/Master_Bioinformatics_UOC/TFM/Proyecto_Leishmania/Prueba1/LinJ_cbm_v2_Crom_2-3.fasta\n",
      "New DB title:  ../Prueba1/LinJ_cbm_v2_Crom_2-3.fasta\n",
      "Sequence type: Nucleotide\n",
      "Keep MBits: T\n",
      "Maximum file size: 1000000000B\n",
      "Adding sequences from FASTA; added 2 sequences in 0.00761294 seconds.\n",
      "\n",
      "\n",
      "\n",
      "Blast Dictionary created in ../Prueba1/LinJ_cbm_v2_Crom_2-3.fasta\n"
     ]
    }
   ],
   "source": [
    "blastn_dic(\"../Prueba1/LinJ_cbm_v2_Crom_2-3.fasta\")"
   ]
  },
  {
   "cell_type": "code",
   "execution_count": 6,
   "id": "ebf43f0a-58b0-491b-8214-690983126add",
   "metadata": {},
   "outputs": [
    {
     "name": "stdout",
     "output_type": "stream",
     "text": [
      "\n",
      "\n",
      "|==================================================|\n",
      "|            BLASTn searcher initiated             |\n",
      "|==================================================|\n",
      "\n",
      "\n",
      "\n",
      "Blaster succesful ../Prueba1/First_Blast_Output/First_Blaster.csv created.\n"
     ]
    }
   ],
   "source": [
    "blastn_blaster(\"../Prueba1/SIDER2_Chr1_L_Infantum.fasta\",\n",
    "               \"../Prueba1/LinJ_cbm_v2_Crom_2-3.fasta\",\n",
    "               \"../Prueba1/First_Blast_Output/First_Blaster.csv\",\n",
    "               60\n",
    ")"
   ]
  },
  {
   "cell_type": "code",
   "execution_count": 8,
   "id": "05712612-cb46-4eca-856e-c18c98f08187",
   "metadata": {},
   "outputs": [
    {
     "data": {
      "text/plain": [
       "47"
      ]
     },
     "execution_count": 8,
     "metadata": {},
     "output_type": "execute_result"
    }
   ],
   "source": [
    "len(\"../Prueba1/First_Blast_Output/First_Blaster.csv\")"
   ]
  },
  {
   "cell_type": "code",
   "execution_count": 9,
   "id": "49ee1a5e-fa38-499d-bf6c-f2aab69ef8c2",
   "metadata": {},
   "outputs": [
    {
     "ename": "TypeError",
     "evalue": "bad operand type for unary +: 'str'",
     "output_type": "error",
     "traceback": [
      "\u001b[0;31m---------------------------------------------------------------------------\u001b[0m",
      "\u001b[0;31mTypeError\u001b[0m                                 Traceback (most recent call last)",
      "Cell \u001b[0;32mIn[9], line 1\u001b[0m\n\u001b[0;32m----> 1\u001b[0m \u001b[43mrepetitive_blaster\u001b[49m\u001b[43m(\u001b[49m\u001b[38;5;124;43m\"\u001b[39;49m\u001b[38;5;124;43m../Prueba1/SIDER2_Chr1_L_Infantum.fasta\u001b[39;49m\u001b[38;5;124;43m\"\u001b[39;49m\u001b[43m,\u001b[49m\n\u001b[1;32m      2\u001b[0m \u001b[43m                   \u001b[49m\u001b[38;5;124;43m\"\u001b[39;49m\u001b[38;5;124;43m../Prueba1/First_Blast_Output/First_Blaster.csv\u001b[39;49m\u001b[38;5;124;43m\"\u001b[39;49m\u001b[43m,\u001b[49m\n\u001b[1;32m      3\u001b[0m \u001b[43m                   \u001b[49m\u001b[38;5;124;43m\"\u001b[39;49m\u001b[38;5;124;43m../Prueba1/Second_Blast_Output/\u001b[39;49m\u001b[38;5;124;43m\"\u001b[39;49m\u001b[43m,\u001b[49m\n\u001b[1;32m      4\u001b[0m \u001b[43m                   \u001b[49m\u001b[38;5;124;43m\"\u001b[39;49m\u001b[38;5;124;43mLinJ\u001b[39;49m\u001b[38;5;124;43m\"\u001b[39;49m\u001b[43m,\u001b[49m\n\u001b[1;32m      5\u001b[0m \u001b[43m                   \u001b[49m\u001b[38;5;241;43m600\u001b[39;49m\u001b[43m,\u001b[49m\n\u001b[1;32m      6\u001b[0m \u001b[43m                   \u001b[49m\u001b[38;5;241;43m0\u001b[39;49m\u001b[43m,\u001b[49m\n\u001b[1;32m      7\u001b[0m \u001b[43m                   \u001b[49m\u001b[38;5;241;43m4\u001b[39;49m\n\u001b[1;32m      8\u001b[0m \u001b[43m)\u001b[49m\n",
      "File \u001b[0;32m~/OneDrive/Important/Universidad/Master_Bioinformatics_UOC/TFM/Proyecto_Leishmania/SIDER_RepetitiveSearcher/modules/blaster.py:211\u001b[0m, in \u001b[0;36mrepetitive_blaster\u001b[0;34m(genome_fasta, path_input, folder_path, naming_short, max_diff, numbering, maximun_runs)\u001b[0m\n\u001b[1;32m    182\u001b[0m \u001b[38;5;28;01mdef\u001b[39;00m \u001b[38;5;21mrepetitive_blaster\u001b[39m(genome_fasta, path_input, folder_path, naming_short, max_diff, numbering, maximun_runs):\n\u001b[1;32m    183\u001b[0m \u001b[38;5;250m    \u001b[39m\u001b[38;5;124;03m\"\"\"\u001b[39;00m\n\u001b[1;32m    184\u001b[0m \u001b[38;5;124;03m    This function will iterate till a number of ``maximun_runs`` defined.\u001b[39;00m\n\u001b[1;32m    185\u001b[0m \n\u001b[0;32m   (...)\u001b[0m\n\u001b[1;32m    208\u001b[0m \u001b[38;5;124;03m        Pay special attention to the ``max_diff`` argument.\u001b[39;00m\n\u001b[1;32m    209\u001b[0m \u001b[38;5;124;03m    \"\"\"\u001b[39;00m\n\u001b[0;32m--> 211\u001b[0m     boxymcboxface(\u001b[38;5;124m\"\u001b[39m\u001b[38;5;124mRUN \u001b[39m\u001b[38;5;124m\"\u001b[39m, \u001b[38;5;241;43m+\u001b[39;49m\u001b[43m \u001b[49m\u001b[38;5;28;43mstr\u001b[39;49m\u001b[43m(\u001b[49m\u001b[43mnumbering\u001b[49m\u001b[43m)\u001b[49m)\n\u001b[1;32m    213\u001b[0m     \u001b[38;5;66;03m# -----------------------------------------------------------------------------\u001b[39;00m\n\u001b[1;32m    214\u001b[0m     \u001b[38;5;66;03m# Searching all \"Linj.XX\" in the .fasta file\u001b[39;00m\n\u001b[1;32m    215\u001b[0m     chr_IDs \u001b[38;5;241m=\u001b[39m []\n",
      "\u001b[0;31mTypeError\u001b[0m: bad operand type for unary +: 'str'"
     ]
    }
   ],
   "source": [
    "repetitive_blaster(\"../Prueba1/SIDER2_Chr1_L_Infantum.fasta\",\n",
    "                   \"../Prueba1/First_Blast_Output/First_Blaster.csv\",\n",
    "                   \"../Prueba1/Second_Blast_Output/\",\n",
    "                   \"LinJ\",\n",
    "                   600,\n",
    "                   0,\n",
    "                   4\n",
    ")"
   ]
  },
  {
   "cell_type": "code",
   "execution_count": 6,
   "id": "060684c4-b5ce-406f-a3de-51a0814c04bc",
   "metadata": {},
   "outputs": [
    {
     "ename": "TypeError",
     "evalue": "can only concatenate str (not \"int\") to str",
     "output_type": "error",
     "traceback": [
      "\u001b[0;31m---------------------------------------------------------------------------\u001b[0m",
      "\u001b[0;31mTypeError\u001b[0m                                 Traceback (most recent call last)",
      "Cell \u001b[0;32mIn[6], line 4\u001b[0m\n\u001b[1;32m      1\u001b[0m \u001b[38;5;28;01mfrom\u001b[39;00m \u001b[38;5;21;01mmodules\u001b[39;00m\u001b[38;5;21;01m.\u001b[39;00m\u001b[38;5;21;01maesthetics\u001b[39;00m \u001b[38;5;28;01mimport\u001b[39;00m boxymcboxface\n\u001b[0;32m----> 4\u001b[0m boxymcboxface(\u001b[38;5;124;43m\"\u001b[39;49m\u001b[38;5;124;43mRUN\u001b[39;49m\u001b[38;5;124;43m\"\u001b[39;49m\u001b[43m \u001b[49m\u001b[38;5;241;43m+\u001b[39;49m\u001b[43m \u001b[49m\u001b[38;5;241;43m1\u001b[39;49m)\n",
      "\u001b[0;31mTypeError\u001b[0m: can only concatenate str (not \"int\") to str"
     ]
    }
   ],
   "source": []
  }
 ],
 "metadata": {
  "kernelspec": {
   "display_name": "Python 3 (ipykernel)",
   "language": "python",
   "name": "python3"
  },
  "language_info": {
   "codemirror_mode": {
    "name": "ipython",
    "version": 3
   },
   "file_extension": ".py",
   "mimetype": "text/x-python",
   "name": "python",
   "nbconvert_exporter": "python",
   "pygments_lexer": "ipython3",
   "version": "3.10.9"
  }
 },
 "nbformat": 4,
 "nbformat_minor": 5
}
