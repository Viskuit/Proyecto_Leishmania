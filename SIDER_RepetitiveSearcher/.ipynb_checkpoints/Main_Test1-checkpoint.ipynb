{
 "cells": [
  {
   "cell_type": "code",
   "execution_count": 4,
   "id": "e3fd18bf-75b9-4e1a-9034-0d946a99224a",
   "metadata": {},
   "outputs": [
    {
     "data": {
      "text/plain": [
       "'writing_path_input'"
      ]
     },
     "execution_count": 4,
     "metadata": {},
     "output_type": "execute_result"
    }
   ],
   "source": [
    "message = \"Writing_path_input\"\n",
    "message.lower()"
   ]
  },
  {
   "cell_type": "code",
   "execution_count": 1,
   "id": "a1a97830-0b91-4ca9-bac7-5a05e0aef7bd",
   "metadata": {},
   "outputs": [
    {
     "name": "stdout",
     "output_type": "stream",
     "text": [
      "/home/viskuit/OneDrive/Important/Universidad/Master_Bioinformatics_UOC/TFM/Proyecto_Leishmania/SIDER_RepetitiveSearcher\n"
     ]
    }
   ],
   "source": [
    "!pwd"
   ]
  },
  {
   "cell_type": "code",
   "execution_count": 9,
   "id": "b7720ba2-184a-46d2-9be2-23d25990e29b",
   "metadata": {},
   "outputs": [],
   "source": [
    "import csv\n",
    "from numpy import array"
   ]
  },
  {
   "cell_type": "code",
   "execution_count": 4,
   "id": "2293d6a0-49ec-4a1d-a968-09af7f694f7c",
   "metadata": {},
   "outputs": [],
   "source": [
    "path_input = \"../ref/LinJ.01.csv\"\n",
    "chromosome_ID = \"LinJ.01\""
   ]
  },
  {
   "cell_type": "code",
   "execution_count": 5,
   "id": "2ca262da-b923-458f-ada6-8a2f536e5303",
   "metadata": {},
   "outputs": [],
   "source": [
    "chr_x_seqs = []\n",
    "with open(path_input, \"r\") as main_file:\n",
    "    reader = csv.reader(main_file, delimiter=\",\")\n",
    "    for row in reader:\n",
    "        if chromosome_ID in row[1]:\n",
    "            print(row[1])\n",
    "            chr_x_seqs.append(row)\n",
    "            break"
   ]
  },
  {
   "cell_type": "code",
   "execution_count": 10,
   "id": "65ead28f-e00c-4627-b72c-b485989ba31a",
   "metadata": {},
   "outputs": [],
   "source": [
    "prueba1 = array(chr_x_seqs)"
   ]
  },
  {
   "cell_type": "code",
   "execution_count": 12,
   "id": "45ceef7c-b978-4503-8d29-1941c34e67a7",
   "metadata": {},
   "outputs": [
    {
     "name": "stdout",
     "output_type": "stream",
     "text": [
      "(19, 16)\n"
     ]
    }
   ],
   "source": [
    "print(prueba1.shape)"
   ]
  }
 ],
 "metadata": {
  "kernelspec": {
   "display_name": "Python 3 (ipykernel)",
   "language": "python",
   "name": "python3"
  },
  "language_info": {
   "codemirror_mode": {
    "name": "ipython",
    "version": 3
   },
   "file_extension": ".py",
   "mimetype": "text/x-python",
   "name": "python",
   "nbconvert_exporter": "python",
   "pygments_lexer": "ipython3",
   "version": "3.10.9"
  }
 },
 "nbformat": 4,
 "nbformat_minor": 5
}
