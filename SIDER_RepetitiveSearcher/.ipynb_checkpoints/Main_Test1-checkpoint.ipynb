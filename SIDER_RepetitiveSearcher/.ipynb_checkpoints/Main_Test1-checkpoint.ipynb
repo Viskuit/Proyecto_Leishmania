{
 "cells": [
  {
   "cell_type": "code",
   "execution_count": 13,
   "id": "35b02333-b162-41db-81a1-400b1f5b13be",
   "metadata": {},
   "outputs": [],
   "source": [
    "def boxymcboxface(message):\n",
    "    ## this function is from ARIBA (https://github.com/sanger-pathogens/ariba)\n",
    "    ## give credit to them appropiately\n",
    "    #print('-' * 79)\n",
    "    print ('\\n')\n",
    "    print('|', '=' * 50, '|', sep='')\n",
    "    print('|', '{: ^48}'.format(message), '|')\n",
    "    print('|', '=' * 50, '|', sep='')\n",
    "    print ('\\n')\n",
    "    # print('-' * 79)"
   ]
  },
  {
   "cell_type": "code",
   "execution_count": 14,
   "id": "23f6ee80-a753-4b8e-a7fa-157088dd0ef4",
   "metadata": {},
   "outputs": [
    {
     "name": "stdout",
     "output_type": "stream",
     "text": [
      "\n",
      "\n",
      "|==================================================|\n",
      "|                     Prueba1                      |\n",
      "|==================================================|\n",
      "\n",
      "\n",
      "Prueba2\n"
     ]
    }
   ],
   "source": [
    "boxymcboxface(\"Prueba1\")\n",
    "print(\"Prueba2\")"
   ]
  }
 ],
 "metadata": {
  "kernelspec": {
   "display_name": "Python 3 (ipykernel)",
   "language": "python",
   "name": "python3"
  },
  "language_info": {
   "codemirror_mode": {
    "name": "ipython",
    "version": 3
   },
   "file_extension": ".py",
   "mimetype": "text/x-python",
   "name": "python",
   "nbconvert_exporter": "python",
   "pygments_lexer": "ipython3",
   "version": "3.10.9"
  }
 },
 "nbformat": 4,
 "nbformat_minor": 5
}
