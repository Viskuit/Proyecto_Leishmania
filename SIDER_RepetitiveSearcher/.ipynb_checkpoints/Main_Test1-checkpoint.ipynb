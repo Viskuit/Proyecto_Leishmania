{
 "cells": [
  {
   "cell_type": "code",
   "execution_count": 34,
   "id": "0f7ef01b-c7cd-4492-aa93-f1c8d3245872",
   "metadata": {},
   "outputs": [],
   "source": [
    "import csv\n",
    "import pdb"
   ]
  },
  {
   "cell_type": "code",
   "execution_count": 45,
   "id": "97e53c96-8d0f-43d1-bc50-1a0c2ef68a42",
   "metadata": {},
   "outputs": [],
   "source": [
    "def specific_sequence_corrected(path_input, nucleotides1000_directory, main_folder_path, chromosome_ID):\n",
    "    \"\"\"\n",
    "    \"\"\"\n",
    "\n",
    "    names = []\n",
    "    with open(path_input, \"r\") as main_file:\n",
    "        reader = csv.reader(main_file, delimiter=\",\")\n",
    "        for row in reader:\n",
    "            if row[0] not in names:  # We select the chromosome ID form row[0], so we can have a no-repeated list of those.\n",
    "                names.append(row[0])  # And example would be \"Seq_2_LinJ.01_plus\"\n",
    "\n",
    "    # -----------------------------------------------------------------------------\n",
    "    for query in names:  # For each chromosome ID row[0] in \"names\"\n",
    "        start = []\n",
    "        end = []\n",
    "        diference_end_minu_start = 0  # Check it out later. It's to compare it with \"difference\"\n",
    "\n",
    "        with open(path_input, \"r\") as main_file:\n",
    "            reader = csv.reader(main_file, delimiter=\",\")\n",
    "            for row in reader:\n",
    "                if query in row[1]:  # This is row[1], e.g., \"Seq_2_LinJ.01_plus\"\n",
    "                    if row[0] != query:  # This is to remove the sequence that overlaps with itself. So if \"LinJ.01\" overlaps with \"LinJ.01\", we don't analyze it further.\n",
    "                        # We don¡t need to difference between \"+\" and \"-\" strands, because after BLASTn all the results behave like \"+\".\n",
    "                        difference = int(row[11]) - int(row[10])  # Due to how the code is made. Now row[11] will always be > row[10]\n",
    "                        # Here we'll iterate until we get the larger \"difference\", i.e., larger \"alignment length\".\n",
    "                        if difference > diference_end_minu_start:  # If it's greater than 0\n",
    "                            diference_end_minu_start = difference  # We save that difference, i.e., alignment length\n",
    "                            start = []  # Reset \"start\"\n",
    "                            end = []  # Reset \"end\"\n",
    "                            start.append(int(row[10]))  # Save \"start of alignment in subject\"\n",
    "                            end.append(int(row[11]))  # Save \"end of alignment in subject\"\n",
    "\n",
    "        # -----------------------------------------------------------------------------\n",
    "        # Remember we don't need to difference between \"+\" and \"-\".\n",
    "        # In this part, for a specific \"query\" we'll have the bigger \"alignment length\" wit its \"start\" and \"end\".\n",
    "\n",
    "        # With the variable \"difference\" made, this can be removed\n",
    "        if len(start) > 0 and len(end) > 0:  # I mean this\n",
    "            min_start = min(start)  # And this\n",
    "            max_end = max(end)  # And this last one.\n",
    "\n",
    "            pdb.set_trace()\n",
    "\n",
    "            correct_seq = query  # Changed the name to understand it better for the next part.\n",
    "            number_for_location = int(correct_seq[4]) - 1  # This way we get the 5th position from \"Seq_2_LinJ.01_plus\". The 4th position is the \"number\". For example in \"Seq_2...\" we'll get the \"2\". Then we rest 1, because in Python everything starts in 0 and not 1. --> ESTO ESTA MAL, Y SI ES UN  \"14\" DE DOS CIFRAS\n",
    "\n",
    "            #  Now we filter \"correct_seq\" to obtain a number to filter a CSV list of 4 x 1000 without doing BLAST\n",
    "            rows_by_number = []  # I need this part to know if it's the correct row while doing comparisons. This way I can compare it with \"rows_by_number[0]\" or \"[4]\" or \"[3]\" without going in order. We do this in the CSV 4 x 1000nt before the blaster to themselves.\n",
    "            with open(nucleotides1000_directory, \"r\") as main_file:\n",
    "                reader = csv.reader(main_file, delimiter=\",\")\n",
    "                for row in reader:\n",
    "                    rows_by_number.append(row)  # Here we get all the rows from the CSV\n",
    "\n",
    "            pdb.set_trace()\n",
    "\n",
    "            with open(nucleotides1000_directory, \"r\") as main_file:\n",
    "                reader = csv.reader(main_file, delimiter=\",\")\n",
    "                for row in reader:\n",
    "                    if row == rows_by_number[number_for_location]:  # Asi me aseguro que estoy en la adecuada. Quizas es rizar el rizo pero no se me ocurre en el momento un paso mejor --> ESTO ESTA MAL\n",
    "                        if \"plus\" in row[14]:\n",
    "\n",
    "                            x = 1000 - max_end\n",
    "                            new_start = int(row[10]) + min_start - 1\n",
    "                            new_end = int(row[11]) - x\n",
    "\n",
    "                        elif \"minus\" in row[14]:  # Recordar que por como son las coordenadas de minus, que se definen segun las de la posicion plus en 3' --> 5'\n",
    "                            x = 1000 - max_end\n",
    "                            new_start = int(row[10]) - min_start + 1\n",
    "                            new_end = int(row[11]) + x\n",
    "\n",
    "        if len(start) == 0 and len(end) == 0:  # para casos en los que solo tenga homologia con el mismo, la secuencia se descarta, pero seria mejor cambiar este codigo para insertarla en los siguientes documentos pero no en la forma de 1000nt\n",
    "            print(\"\\nALERT: individual \" + query + \" has no homology with no other seq, so it will not be added to the corrected seqs\")\n",
    "\n",
    "    writing_path_input = main_folder_path + \"/\" + chromosome_ID + \"/\" + chromosome_ID + \"_Corrected.csv\""
   ]
  },
  {
   "cell_type": "code",
   "execution_count": null,
   "id": "8b1725b0-b087-4afd-9410-48c91fe7fc61",
   "metadata": {},
   "outputs": [
    {
     "name": "stdout",
     "output_type": "stream",
     "text": [
      "> \u001b[0;32m/tmp/ipykernel_7149/598020717.py\u001b[0m(44)\u001b[0;36mspecific_sequence_corrected\u001b[0;34m()\u001b[0m\n",
      "\u001b[0;32m     42 \u001b[0;31m            \u001b[0mpdb\u001b[0m\u001b[0;34m.\u001b[0m\u001b[0mset_trace\u001b[0m\u001b[0;34m(\u001b[0m\u001b[0;34m)\u001b[0m\u001b[0;34m\u001b[0m\u001b[0;34m\u001b[0m\u001b[0m\n",
      "\u001b[0m\u001b[0;32m     43 \u001b[0;31m\u001b[0;34m\u001b[0m\u001b[0m\n",
      "\u001b[0m\u001b[0;32m---> 44 \u001b[0;31m            \u001b[0mcorrect_seq\u001b[0m \u001b[0;34m=\u001b[0m \u001b[0mquery\u001b[0m  \u001b[0;31m# Changed the name to understand it better for the next part.\u001b[0m\u001b[0;34m\u001b[0m\u001b[0;34m\u001b[0m\u001b[0m\n",
      "\u001b[0m\u001b[0;32m     45 \u001b[0;31m            \u001b[0mnumber_for_location\u001b[0m \u001b[0;34m=\u001b[0m \u001b[0mint\u001b[0m\u001b[0;34m(\u001b[0m\u001b[0mcorrect_seq\u001b[0m\u001b[0;34m[\u001b[0m\u001b[0;36m4\u001b[0m\u001b[0;34m]\u001b[0m\u001b[0;34m)\u001b[0m \u001b[0;34m-\u001b[0m \u001b[0;36m1\u001b[0m  \u001b[0;31m# This way we get the 5th position from \"Seq_2_LinJ.01_plus\". The 4th position is the \"number\". For example in \"Seq_2...\" we'll get the \"2\". Then we rest 1, because in Python everything starts in 0 and not 1. --> ESTO ESTA MAL, Y SI ES UN  \"14\" DE DOS CIFRAS\u001b[0m\u001b[0;34m\u001b[0m\u001b[0;34m\u001b[0m\u001b[0m\n",
      "\u001b[0m\u001b[0;32m     46 \u001b[0;31m\u001b[0;34m\u001b[0m\u001b[0m\n",
      "\u001b[0m\n"
     ]
    },
    {
     "name": "stdin",
     "output_type": "stream",
     "text": [
      "ipdb>  c\n"
     ]
    },
    {
     "name": "stdout",
     "output_type": "stream",
     "text": [
      "> \u001b[0;32m/tmp/ipykernel_7149/598020717.py\u001b[0m(56)\u001b[0;36mspecific_sequence_corrected\u001b[0;34m()\u001b[0m\n",
      "\u001b[0;32m     54 \u001b[0;31m            \u001b[0mpdb\u001b[0m\u001b[0;34m.\u001b[0m\u001b[0mset_trace\u001b[0m\u001b[0;34m(\u001b[0m\u001b[0;34m)\u001b[0m\u001b[0;34m\u001b[0m\u001b[0;34m\u001b[0m\u001b[0m\n",
      "\u001b[0m\u001b[0;32m     55 \u001b[0;31m\u001b[0;34m\u001b[0m\u001b[0m\n",
      "\u001b[0m\u001b[0;32m---> 56 \u001b[0;31m            \u001b[0;32mwith\u001b[0m \u001b[0mopen\u001b[0m\u001b[0;34m(\u001b[0m\u001b[0mnucleotides1000_directory\u001b[0m\u001b[0;34m,\u001b[0m \u001b[0;34m\"r\"\u001b[0m\u001b[0;34m)\u001b[0m \u001b[0;32mas\u001b[0m \u001b[0mmain_file\u001b[0m\u001b[0;34m:\u001b[0m\u001b[0;34m\u001b[0m\u001b[0;34m\u001b[0m\u001b[0m\n",
      "\u001b[0m\u001b[0;32m     57 \u001b[0;31m                \u001b[0mreader\u001b[0m \u001b[0;34m=\u001b[0m \u001b[0mcsv\u001b[0m\u001b[0;34m.\u001b[0m\u001b[0mreader\u001b[0m\u001b[0;34m(\u001b[0m\u001b[0mmain_file\u001b[0m\u001b[0;34m,\u001b[0m \u001b[0mdelimiter\u001b[0m\u001b[0;34m=\u001b[0m\u001b[0;34m\",\"\u001b[0m\u001b[0;34m)\u001b[0m\u001b[0;34m\u001b[0m\u001b[0;34m\u001b[0m\u001b[0m\n",
      "\u001b[0m\u001b[0;32m     58 \u001b[0;31m                \u001b[0;32mfor\u001b[0m \u001b[0mrow\u001b[0m \u001b[0;32min\u001b[0m \u001b[0mreader\u001b[0m\u001b[0;34m:\u001b[0m\u001b[0;34m\u001b[0m\u001b[0;34m\u001b[0m\u001b[0m\n",
      "\u001b[0m\n"
     ]
    },
    {
     "name": "stdin",
     "output_type": "stream",
     "text": [
      "ipdb>  correct_seq\n"
     ]
    },
    {
     "name": "stdout",
     "output_type": "stream",
     "text": [
      "'Seq_1_LinJ.02_plus'\n"
     ]
    },
    {
     "name": "stdin",
     "output_type": "stream",
     "text": [
      "ipdb>  number_for_location\n"
     ]
    },
    {
     "name": "stdout",
     "output_type": "stream",
     "text": [
      "0\n"
     ]
    }
   ],
   "source": [
    "specific_sequence_corrected(\"../ref/LinJ.02_1000nt_Blaster.csv\",\n",
    "                            \"../ref/LinJ.02_1000nt.csv\",\n",
    "                            \"Main_Folder_Path_Prueba\",\n",
    "                            \"Chromosome_ID_Prueba\"\n",
    ")"
   ]
  },
  {
   "cell_type": "code",
   "execution_count": null,
   "id": "862ed7e8-597e-45e2-8528-958f958ada14",
   "metadata": {},
   "outputs": [],
   "source": []
  }
 ],
 "metadata": {
  "kernelspec": {
   "display_name": "Python 3 (ipykernel)",
   "language": "python",
   "name": "python3"
  },
  "language_info": {
   "codemirror_mode": {
    "name": "ipython",
    "version": 3
   },
   "file_extension": ".py",
   "mimetype": "text/x-python",
   "name": "python",
   "nbconvert_exporter": "python",
   "pygments_lexer": "ipython3",
   "version": "3.10.9"
  }
 },
 "nbformat": 4,
 "nbformat_minor": 5
}
