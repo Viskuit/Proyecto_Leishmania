{
 "cells": [
  {
   "cell_type": "code",
   "execution_count": 18,
   "id": "e3fd18bf-75b9-4e1a-9034-0d946a99224a",
   "metadata": {},
   "outputs": [
    {
     "data": {
      "text/plain": [
       "'filter_by_column'"
      ]
     },
     "execution_count": 18,
     "metadata": {},
     "output_type": "execute_result"
    }
   ],
   "source": [
    "message = \"Filter_by_Column\"\n",
    "message.lower()"
   ]
  },
  {
   "cell_type": "code",
   "execution_count": 1,
   "id": "a1a97830-0b91-4ca9-bac7-5a05e0aef7bd",
   "metadata": {},
   "outputs": [
    {
     "name": "stdout",
     "output_type": "stream",
     "text": [
      "/home/viskuit/OneDrive/Important/Universidad/Master_Bioinformatics_UOC/TFM/Proyecto_Leishmania/SIDER_RepetitiveSearcher\n"
     ]
    }
   ],
   "source": [
    "!pwd"
   ]
  },
  {
   "cell_type": "code",
   "execution_count": 1,
   "id": "b7720ba2-184a-46d2-9be2-23d25990e29b",
   "metadata": {},
   "outputs": [],
   "source": [
    "import csv\n",
    "from numpy import array\n",
    "import subprocess"
   ]
  },
  {
   "cell_type": "code",
   "execution_count": 4,
   "id": "4498caeb-3566-493c-b753-40f518bbcfd3",
   "metadata": {},
   "outputs": [
    {
     "name": "stdout",
     "output_type": "stream",
     "text": [
      "__init__.py\t  Main_Test1.py    modules\tuntitled.md\n",
      "Main_Test1.ipynb  main_test_v2.py  __pycache__\n"
     ]
    }
   ],
   "source": [
    "!ls"
   ]
  },
  {
   "cell_type": "code",
   "execution_count": 13,
   "id": "92af0b11-a6a0-4c81-9a38-f43438ce33df",
   "metadata": {},
   "outputs": [
    {
     "name": "stdout",
     "output_type": "stream",
     "text": [
      "docs\n",
      "Genome\n",
      "README.md\n",
      "ref\n",
      "SIDER_RepetitiveSearcher\n",
      "TFM SIDER BLASTER - MindMeister Mind Map_files\n",
      "TFM SIDER BLASTER - MindMeister Mind Map.html\n",
      "\n"
     ]
    }
   ],
   "source": [
    "print(prueba_1)"
   ]
  },
  {
   "cell_type": "code",
   "execution_count": 16,
   "id": "902a32d9-c67d-40f6-869f-dc5defb52838",
   "metadata": {},
   "outputs": [],
   "source": [
    "prueba_1 = subprocess.check_output(\n",
    "    \"ls /home/viskuit/OneDrive/Important/Universidad/Master_Bioinformatics_UOC/TFM/\" +\n",
    "    \"Proyecto_Leishmania/\",\n",
    "    shell=True,\n",
    "    universal_newlines=True\n",
    ")"
   ]
  },
  {
   "cell_type": "code",
   "execution_count": 17,
   "id": "61e6d89f-6fb6-4b60-a149-d09192e413a8",
   "metadata": {},
   "outputs": [
    {
     "name": "stdout",
     "output_type": "stream",
     "text": [
      "docs\n",
      "Genome\n",
      "README.md\n",
      "ref\n",
      "SIDER_RepetitiveSearcher\n",
      "TFM SIDER BLASTER - MindMeister Mind Map_files\n",
      "TFM SIDER BLASTER - MindMeister Mind Map.html\n",
      "\n"
     ]
    }
   ],
   "source": [
    "print(prueba_1)"
   ]
  }
 ],
 "metadata": {
  "kernelspec": {
   "display_name": "Python 3 (ipykernel)",
   "language": "python",
   "name": "python3"
  },
  "language_info": {
   "codemirror_mode": {
    "name": "ipython",
    "version": 3
   },
   "file_extension": ".py",
   "mimetype": "text/x-python",
   "name": "python",
   "nbconvert_exporter": "python",
   "pygments_lexer": "ipython3",
   "version": "3.10.9"
  }
 },
 "nbformat": 4,
 "nbformat_minor": 5
}
