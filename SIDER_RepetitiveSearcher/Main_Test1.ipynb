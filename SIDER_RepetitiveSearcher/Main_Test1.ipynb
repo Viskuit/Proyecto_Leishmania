{
 "cells": [
  {
   "cell_type": "code",
   "execution_count": 67,
   "id": "12da041e-b625-44a2-bf85-2c7a18be8bff",
   "metadata": {},
   "outputs": [],
   "source": [
    "numbering = 12"
   ]
  },
  {
   "cell_type": "code",
   "execution_count": 58,
   "id": "4ed16c20-ef90-478e-a3cb-796d32da2727",
   "metadata": {},
   "outputs": [],
   "source": [
    "numbering += 1"
   ]
  },
  {
   "cell_type": "code",
   "execution_count": 61,
   "id": "1918ba33-67ec-4c63-8899-542779768f31",
   "metadata": {},
   "outputs": [
    {
     "data": {
      "text/plain": [
       "2"
      ]
     },
     "execution_count": 61,
     "metadata": {},
     "output_type": "execute_result"
    }
   ],
   "source": [
    "numbering"
   ]
  },
  {
   "cell_type": "code",
   "execution_count": 60,
   "id": "bc81ae74-6e50-4763-b24e-e1aa63d238cb",
   "metadata": {},
   "outputs": [],
   "source": [
    "numbering += +1"
   ]
  },
  {
   "cell_type": "code",
   "execution_count": 63,
   "id": "a9b058ed-30e8-4289-899f-8a62cf02ebaa",
   "metadata": {},
   "outputs": [
    {
     "name": "stdout",
     "output_type": "stream",
     "text": [
      "02\n"
     ]
    }
   ],
   "source": [
    "print(\"0\"+ str(numbering))"
   ]
  },
  {
   "cell_type": "code",
   "execution_count": 68,
   "id": "1642ec3c-5675-4848-ae33-10ce781140f9",
   "metadata": {},
   "outputs": [
    {
     "data": {
      "text/plain": [
       "2"
      ]
     },
     "execution_count": 68,
     "metadata": {},
     "output_type": "execute_result"
    }
   ],
   "source": [
    "len(str(numbering))"
   ]
  },
  {
   "cell_type": "code",
   "execution_count": 1,
   "id": "00cdea83-17ca-43b6-97f9-f592195b8315",
   "metadata": {},
   "outputs": [
    {
     "name": "stdout",
     "output_type": "stream",
     "text": [
      "\n",
      "\n",
      "|==================================================|\n",
      "|                     example                      |\n",
      "|==================================================|\n",
      "\n",
      "\n"
     ]
    }
   ],
   "source": [
    "from modules.aesthetics import boxymcboxface\n",
    "boxymcboxface(\"example\")"
   ]
  }
 ],
 "metadata": {
  "kernelspec": {
   "display_name": "Python 3 (ipykernel)",
   "language": "python",
   "name": "python3"
  },
  "language_info": {
   "codemirror_mode": {
    "name": "ipython",
    "version": 3
   },
   "file_extension": ".py",
   "mimetype": "text/x-python",
   "name": "python",
   "nbconvert_exporter": "python",
   "pygments_lexer": "ipython3",
   "version": "3.10.9"
  }
 },
 "nbformat": 4,
 "nbformat_minor": 5
}
