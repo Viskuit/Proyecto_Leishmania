{
 "cells": [
  {
   "cell_type": "code",
   "execution_count": 2,
   "id": "ed3d68a8-7092-40c3-97d0-8cb1555d1984",
   "metadata": {},
   "outputs": [
    {
     "name": "stdout",
     "output_type": "stream",
     "text": [
      "The autoreload extension is already loaded. To reload it, use:\n",
      "  %reload_ext autoreload\n"
     ]
    }
   ],
   "source": [
    "import pdb\n",
    "import os\n",
    "import csv\n",
    "import sys\n",
    "import importlib\n",
    "from Bio import SeqIO\n",
    "\n",
    "%load_ext autoreload\n",
    "%autoreload 2\n",
    "from modules.blaster import blastn_dic, blastn_blaster, repetitive_blaster\n",
    "\n",
    "# print([x for x in dir() if not x.startswith(\"_\")])"
   ]
  },
  {
   "cell_type": "code",
   "execution_count": 3,
   "id": "80619b02-424d-416f-9e4f-c6a96acae3b1",
   "metadata": {},
   "outputs": [
    {
     "name": "stdout",
     "output_type": "stream",
     "text": [
      "In\n",
      "NamespaceMagics\n",
      "Out\n",
      "SeqIO\n",
      "blastn_blaster\n",
      "blastn_dic\n",
      "csv\n",
      "exit\n",
      "get_ipython\n",
      "importlib\n",
      "json\n",
      "open\n",
      "os\n",
      "pdb\n",
      "quit\n",
      "repetitive_blaster\n",
      "sys\n"
     ]
    }
   ],
   "source": [
    "print(\"\\n\".join([x for x in dir() if not x.startswith(\"_\")]))"
   ]
  },
  {
   "cell_type": "code",
   "execution_count": 5,
   "id": "190d0919-0938-41f9-ade6-75be8f428725",
   "metadata": {},
   "outputs": [
    {
     "name": "stdout",
     "output_type": "stream",
     "text": [
      "\n",
      "\n",
      "|==================================================|\n",
      "|         BLASTn Database creator started          |\n",
      "|==================================================|\n",
      "\n",
      "\n",
      "\n",
      "\n",
      "Building a new DB, current time: 05/17/2023 19:47:03\n",
      "New DB name:   /home/viskuit/OneDrive/Important/Universidad/Master_Bioinformatics_UOC/TFM/Proyecto_Leishmania/Prueba1/LinJ_cbm_v2_Crom_2-3.fasta\n",
      "New DB title:  ../Prueba1/LinJ_cbm_v2_Crom_2-3.fasta\n",
      "Sequence type: Nucleotide\n",
      "Keep MBits: T\n",
      "Maximum file size: 1000000000B\n",
      "Adding sequences from FASTA; added 2 sequences in 0.00761294 seconds.\n",
      "\n",
      "\n",
      "\n",
      "Blast Dictionary created in ../Prueba1/LinJ_cbm_v2_Crom_2-3.fasta\n"
     ]
    }
   ],
   "source": [
    "blastn_dic(\"../Prueba1/LinJ_cbm_v2_Crom_2-3.fasta\")"
   ]
  },
  {
   "cell_type": "code",
   "execution_count": 6,
   "id": "ebf43f0a-58b0-491b-8214-690983126add",
   "metadata": {},
   "outputs": [
    {
     "name": "stdout",
     "output_type": "stream",
     "text": [
      "\n",
      "\n",
      "|==================================================|\n",
      "|            BLASTn searcher initiated             |\n",
      "|==================================================|\n",
      "\n",
      "\n",
      "\n",
      "Blaster succesful ../Prueba1/First_Blast_Output/First_Blaster.csv created.\n"
     ]
    }
   ],
   "source": [
    "blastn_blaster(\"../Prueba1/SIDER2_Chr1_L_Infantum.fasta\",\n",
    "               \"../Prueba1/LinJ_cbm_v2_Crom_2-3.fasta\",\n",
    "               \"../Prueba1/First_Blast_Output/First_Blaster.csv\",\n",
    "               60\n",
    ")"
   ]
  },
  {
   "cell_type": "code",
   "execution_count": 8,
   "id": "05712612-cb46-4eca-856e-c18c98f08187",
   "metadata": {},
   "outputs": [
    {
     "data": {
      "text/plain": [
       "47"
      ]
     },
     "execution_count": 8,
     "metadata": {},
     "output_type": "execute_result"
    }
   ],
   "source": [
    "len(\"../Prueba1/First_Blast_Output/First_Blaster.csv\")"
   ]
  },
  {
   "cell_type": "code",
   "execution_count": null,
   "id": "49ee1a5e-fa38-499d-bf6c-f2aab69ef8c2",
   "metadata": {},
   "outputs": [],
   "source": [
    "import pdb\n",
    "repetitive_blaster(\"../Prueba1/LinJ_cbm_v2_Crom_2-3.fasta\",\n",
    "                   \"../Prueba1/First_Blast_Output/First_Blaster.csv\",\n",
    "                   \"../Prueba1/Second_Blast_Output/\",\n",
    "                   \"LinJ\",\n",
    "                   600,\n",
    "                   0,\n",
    "                   4\n",
    ")"
   ]
  },
  {
   "cell_type": "code",
   "execution_count": 44,
   "id": "2e7918ac-9956-4c60-a9b4-68133f3e12f1",
   "metadata": {},
   "outputs": [],
   "source": [
    "from pathlib import Path\n",
    "path_input = \"../Prueba1/First_Blast_Output/First_Blaster.csv\"\n",
    "first_backup = Path(path_input)\n",
    "first_backup2 = str(first_backup.parents[0]) + \"/\" + first_backup.with_suffix(\"\").name + \"_backup.csv\""
   ]
  },
  {
   "cell_type": "code",
   "execution_count": 45,
   "id": "ef631a0c-b539-42f5-b62b-c3e880480cf1",
   "metadata": {},
   "outputs": [
    {
     "data": {
      "text/plain": [
       "'../Prueba1/First_Blast_Output/First_Blaster_backup.csv'"
      ]
     },
     "execution_count": 45,
     "metadata": {},
     "output_type": "execute_result"
    }
   ],
   "source": [
    "first_backup2"
   ]
  }
 ],
 "metadata": {
  "kernelspec": {
   "display_name": "Python 3 (ipykernel)",
   "language": "python",
   "name": "python3"
  },
  "language_info": {
   "codemirror_mode": {
    "name": "ipython",
    "version": 3
   },
   "file_extension": ".py",
   "mimetype": "text/x-python",
   "name": "python",
   "nbconvert_exporter": "python",
   "pygments_lexer": "ipython3",
   "version": "3.10.9"
  }
 },
 "nbformat": 4,
 "nbformat_minor": 5
}
