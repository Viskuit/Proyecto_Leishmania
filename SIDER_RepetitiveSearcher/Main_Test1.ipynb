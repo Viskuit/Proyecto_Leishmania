{
 "cells": [
  {
   "cell_type": "code",
   "execution_count": 67,
   "id": "12da041e-b625-44a2-bf85-2c7a18be8bff",
   "metadata": {},
   "outputs": [],
   "source": [
    "numbering = 12"
   ]
  },
  {
   "cell_type": "code",
   "execution_count": 58,
   "id": "4ed16c20-ef90-478e-a3cb-796d32da2727",
   "metadata": {},
   "outputs": [],
   "source": [
    "numbering += 1"
   ]
  },
  {
   "cell_type": "code",
   "execution_count": 61,
   "id": "1918ba33-67ec-4c63-8899-542779768f31",
   "metadata": {},
   "outputs": [
    {
     "data": {
      "text/plain": [
       "2"
      ]
     },
     "execution_count": 61,
     "metadata": {},
     "output_type": "execute_result"
    }
   ],
   "source": [
    "numbering"
   ]
  },
  {
   "cell_type": "code",
   "execution_count": 60,
   "id": "bc81ae74-6e50-4763-b24e-e1aa63d238cb",
   "metadata": {},
   "outputs": [],
   "source": [
    "numbering += +1"
   ]
  },
  {
   "cell_type": "code",
   "execution_count": 63,
   "id": "a9b058ed-30e8-4289-899f-8a62cf02ebaa",
   "metadata": {},
   "outputs": [
    {
     "name": "stdout",
     "output_type": "stream",
     "text": [
      "02\n"
     ]
    }
   ],
   "source": [
    "print(\"0\"+ str(numbering))"
   ]
  },
  {
   "cell_type": "code",
   "execution_count": 68,
   "id": "1642ec3c-5675-4848-ae33-10ce781140f9",
   "metadata": {},
   "outputs": [
    {
     "data": {
      "text/plain": [
       "2"
      ]
     },
     "execution_count": 68,
     "metadata": {},
     "output_type": "execute_result"
    }
   ],
   "source": [
    "len(str(numbering))"
   ]
  },
  {
   "cell_type": "code",
   "execution_count": 12,
   "id": "00cdea83-17ca-43b6-97f9-f592195b8315",
   "metadata": {},
   "outputs": [
    {
     "name": "stdout",
     "output_type": "stream",
     "text": [
      "\n",
      "\n",
      "|==================================================|\n",
      "|                     example                      |\n",
      "|==================================================|\n",
      "\n",
      "\n"
     ]
    }
   ],
   "source": [
    "from modules.aesthetics import boxymcboxface\n",
    "boxymcboxface(\"example\")"
   ]
  },
  {
   "cell_type": "code",
   "execution_count": 18,
   "id": "0688aeb4-86b2-44d7-8b89-912b6e383f81",
   "metadata": {},
   "outputs": [],
   "source": [
    "x = 5\n",
    "y = 10"
   ]
  },
  {
   "cell_type": "code",
   "execution_count": 19,
   "id": "1cfe5c17-7a2c-4ad6-b76b-8ab77dc1bb59",
   "metadata": {},
   "outputs": [],
   "source": [
    "x = y"
   ]
  },
  {
   "cell_type": "code",
   "execution_count": 20,
   "id": "49fcf8a1-082f-484f-abca-ae917a7cc39e",
   "metadata": {},
   "outputs": [
    {
     "data": {
      "text/plain": [
       "10"
      ]
     },
     "execution_count": 20,
     "metadata": {},
     "output_type": "execute_result"
    }
   ],
   "source": [
    "x"
   ]
  },
  {
   "cell_type": "code",
   "execution_count": 21,
   "id": "382aaccb-e554-4056-b064-dd0a75416c7a",
   "metadata": {},
   "outputs": [
    {
     "data": {
      "text/plain": [
       "10"
      ]
     },
     "execution_count": 21,
     "metadata": {},
     "output_type": "execute_result"
    }
   ],
   "source": [
    "y"
   ]
  },
  {
   "cell_type": "code",
   "execution_count": 22,
   "id": "9b1c38ec-888f-4e06-b007-1c085c5cb706",
   "metadata": {},
   "outputs": [],
   "source": [
    "y += 100"
   ]
  },
  {
   "cell_type": "code",
   "execution_count": 23,
   "id": "b23cc710-708e-4f98-b5ea-4c2b434b99f8",
   "metadata": {},
   "outputs": [
    {
     "name": "stdout",
     "output_type": "stream",
     "text": [
      "10\n"
     ]
    }
   ],
   "source": [
    "print(x)"
   ]
  },
  {
   "cell_type": "code",
   "execution_count": 24,
   "id": "27776e91-1290-4547-a0b7-92fb93396fe8",
   "metadata": {},
   "outputs": [
    {
     "name": "stdout",
     "output_type": "stream",
     "text": [
      "110\n"
     ]
    }
   ],
   "source": [
    "print(y)"
   ]
  },
  {
   "cell_type": "code",
   "execution_count": 25,
   "id": "5979e195-c92e-40c9-bc6a-e5fd806c1d34",
   "metadata": {},
   "outputs": [
    {
     "name": "stdout",
     "output_type": "stream",
     "text": [
      "/home/viskuit/OneDrive/Important/Universidad/Master_Bioinformatics_UOC/TFM/Proyecto_Leishmania/SIDER_RepetitiveSearcher\n"
     ]
    }
   ],
   "source": [
    "!pwd"
   ]
  },
  {
   "cell_type": "code",
   "execution_count": 26,
   "id": "49cc1f97-d8a4-43e9-9591-21c36402777e",
   "metadata": {},
   "outputs": [],
   "source": [
    "from modules.filters import chromosome_filter"
   ]
  },
  {
   "cell_type": "code",
   "execution_count": 30,
   "id": "b5a6d257-a11a-40e8-acd1-69209a6e2411",
   "metadata": {},
   "outputs": [],
   "source": [
    "prueba1 = chromosome_filter(\"../ref/L_infantum_ALL_36Chr.fasta\", \"LinJ\")"
   ]
  },
  {
   "cell_type": "code",
   "execution_count": 33,
   "id": "0eec8596-a9d9-4675-856b-84c5ac0f4e05",
   "metadata": {},
   "outputs": [
    {
     "name": "stdout",
     "output_type": "stream",
     "text": [
      "['LinJ.01', 'LinJ.02', 'LinJ.03', 'LinJ.04', 'LinJ.05', 'LinJ.06', 'LinJ.07', 'LinJ.08', 'LinJ.09', 'LinJ.10', 'LinJ.11', 'LinJ.12', 'LinJ.13', 'LinJ.14', 'LinJ.15', 'LinJ.16', 'LinJ.17', 'LinJ.18', 'LinJ.19', 'LinJ.20', 'LinJ.21', 'LinJ.22', 'LinJ.23', 'LinJ.24', 'LinJ.25', 'LinJ.26', 'LinJ.27', 'LinJ.28', 'LinJ.29', 'LinJ.30', 'LinJ.31', 'LinJ.32', 'LinJ.33', 'LinJ.34', 'LinJ.35', 'LinJ.36']\n"
     ]
    }
   ],
   "source": [
    "print(prueba1)"
   ]
  }
 ],
 "metadata": {
  "kernelspec": {
   "display_name": "Python 3 (ipykernel)",
   "language": "python",
   "name": "python3"
  },
  "language_info": {
   "codemirror_mode": {
    "name": "ipython",
    "version": 3
   },
   "file_extension": ".py",
   "mimetype": "text/x-python",
   "name": "python",
   "nbconvert_exporter": "python",
   "pygments_lexer": "ipython3",
   "version": "3.10.9"
  }
 },
 "nbformat": 4,
 "nbformat_minor": 5
}
