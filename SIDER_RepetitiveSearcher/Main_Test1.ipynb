{
 "cells": [
  {
   "cell_type": "code",
   "execution_count": 2,
   "id": "ed3d68a8-7092-40c3-97d0-8cb1555d1984",
   "metadata": {},
   "outputs": [
    {
     "name": "stdout",
     "output_type": "stream",
     "text": [
      "The autoreload extension is already loaded. To reload it, use:\n",
      "  %reload_ext autoreload\n"
     ]
    }
   ],
   "source": [
    "import pdb\n",
    "import os\n",
    "import csv\n",
    "import sys\n",
    "import importlib\n",
    "from Bio import SeqIO\n",
    "\n",
    "%load_ext autoreload\n",
    "%autoreload 2\n",
    "from modules.blaster import blastn_dic, blastn_blaster, repetitive_blaster\n",
    "\n",
    "# print([x for x in dir() if not x.startswith(\"_\")])"
   ]
  },
  {
   "cell_type": "code",
   "execution_count": 3,
   "id": "80619b02-424d-416f-9e4f-c6a96acae3b1",
   "metadata": {},
   "outputs": [
    {
     "name": "stdout",
     "output_type": "stream",
     "text": [
      "In\n",
      "NamespaceMagics\n",
      "Out\n",
      "SeqIO\n",
      "blastn_blaster\n",
      "blastn_dic\n",
      "csv\n",
      "exit\n",
      "get_ipython\n",
      "importlib\n",
      "json\n",
      "open\n",
      "os\n",
      "pdb\n",
      "quit\n",
      "repetitive_blaster\n",
      "sys\n"
     ]
    }
   ],
   "source": [
    "print(\"\\n\".join([x for x in dir() if not x.startswith(\"_\")]))"
   ]
  },
  {
   "cell_type": "code",
   "execution_count": 5,
   "id": "190d0919-0938-41f9-ade6-75be8f428725",
   "metadata": {},
   "outputs": [
    {
     "name": "stdout",
     "output_type": "stream",
     "text": [
      "\n",
      "\n",
      "|==================================================|\n",
      "|         BLASTn Database creator started          |\n",
      "|==================================================|\n",
      "\n",
      "\n",
      "\n",
      "\n",
      "Building a new DB, current time: 05/17/2023 19:47:03\n",
      "New DB name:   /home/viskuit/OneDrive/Important/Universidad/Master_Bioinformatics_UOC/TFM/Proyecto_Leishmania/Prueba1/LinJ_cbm_v2_Crom_2-3.fasta\n",
      "New DB title:  ../Prueba1/LinJ_cbm_v2_Crom_2-3.fasta\n",
      "Sequence type: Nucleotide\n",
      "Keep MBits: T\n",
      "Maximum file size: 1000000000B\n",
      "Adding sequences from FASTA; added 2 sequences in 0.00761294 seconds.\n",
      "\n",
      "\n",
      "\n",
      "Blast Dictionary created in ../Prueba1/LinJ_cbm_v2_Crom_2-3.fasta\n"
     ]
    }
   ],
   "source": [
    "blastn_dic(\"../Prueba1/LinJ_cbm_v2_Crom_2-3.fasta\")"
   ]
  },
  {
   "cell_type": "code",
   "execution_count": 6,
   "id": "ebf43f0a-58b0-491b-8214-690983126add",
   "metadata": {},
   "outputs": [
    {
     "name": "stdout",
     "output_type": "stream",
     "text": [
      "\n",
      "\n",
      "|==================================================|\n",
      "|            BLASTn searcher initiated             |\n",
      "|==================================================|\n",
      "\n",
      "\n",
      "\n",
      "Blaster succesful ../Prueba1/First_Blast_Output/First_Blaster.csv created.\n"
     ]
    }
   ],
   "source": [
    "blastn_blaster(\"../Prueba1/SIDER2_Chr1_L_Infantum.fasta\",\n",
    "               \"../Prueba1/LinJ_cbm_v2_Crom_2-3.fasta\",\n",
    "               \"../Prueba1/First_Blast_Output/First_Blaster.csv\",\n",
    "               60\n",
    ")"
   ]
  },
  {
   "cell_type": "code",
   "execution_count": 8,
   "id": "05712612-cb46-4eca-856e-c18c98f08187",
   "metadata": {},
   "outputs": [
    {
     "data": {
      "text/plain": [
       "47"
      ]
     },
     "execution_count": 8,
     "metadata": {},
     "output_type": "execute_result"
    }
   ],
   "source": [
    "len(\"../Prueba1/First_Blast_Output/First_Blaster.csv\")"
   ]
  },
  {
   "cell_type": "code",
   "execution_count": 46,
   "id": "49ee1a5e-fa38-499d-bf6c-f2aab69ef8c2",
   "metadata": {},
   "outputs": [
    {
     "name": "stdout",
     "output_type": "stream",
     "text": [
      "\n",
      "\n",
      "|==================================================|\n",
      "|                      RUN 0                       |\n",
      "|==================================================|\n",
      "\n",
      "\n",
      "\n",
      "Directory ../Prueba1/Second_Blast_Output/LinJ.02 already exists\n",
      "\n",
      "CSV: ../Prueba1/Second_Blast_Output/LinJ.02/LinJ.02.csv has been created.\n",
      "\n",
      "CSV: ../Prueba1/Second_Blast_Output/LinJ.02/LinJ.02_1000nt.csv has been created.\n",
      "\n",
      "Fasta created at: ../Prueba1/Second_Blast_Output/LinJ.02/LinJ.02_1000nt.fasta\n",
      "\n",
      "\n",
      "|==================================================|\n",
      "|         BLASTn Database creator started          |\n",
      "|==================================================|\n",
      "\n",
      "\n",
      "\n",
      "\n",
      "Building a new DB, current time: 05/18/2023 14:44:37\n",
      "New DB name:   /home/viskuit/OneDrive/Important/Universidad/Master_Bioinformatics_UOC/TFM/Proyecto_Leishmania/Prueba1/Second_Blast_Output/LinJ.02/LinJ.02_1000nt.fasta\n",
      "New DB title:  ../Prueba1/Second_Blast_Output/LinJ.02/LinJ.02_1000nt.fasta\n",
      "Sequence type: Nucleotide\n",
      "Deleted existing Nucleotide BLAST database named /home/viskuit/OneDrive/Important/Universidad/Master_Bioinformatics_UOC/TFM/Proyecto_Leishmania/Prueba1/Second_Blast_Output/LinJ.02/LinJ.02_1000nt.fasta\n",
      "Keep MBits: T\n",
      "Maximum file size: 1000000000B\n",
      "Adding sequences from FASTA; added 32 sequences in 0.000684977 seconds.\n",
      "\n",
      "\n",
      "\n",
      "Blast Dictionary created in ../Prueba1/Second_Blast_Output/LinJ.02/LinJ.02_1000nt.fasta\n",
      "\n",
      "\n",
      "|==================================================|\n",
      "|            BLASTn searcher initiated             |\n",
      "|==================================================|\n",
      "\n",
      "\n",
      "\n",
      "Blaster succesful ../Prueba1/Second_Blast_Output/LinJ.02/LinJ.02_1000nt_Blaster.csv created.\n",
      "\n",
      "\n",
      "|==================================================|\n",
      "\n",
      "Filtering columns proceeding:\n",
      "\n",
      "CSV: ../Prueba1/Second_Blast_Output/LinJ.02/LinJ.02_1000nt_Blaster.csv has been created.\n",
      "\n",
      "ALERT: individual Seq_4_LinJ.02_minus has no homology with no other seq, so it will not be added to the corrected seqs\n",
      "\n",
      "ALERT: individual Seq_5_LinJ.02_plus has no homology with no other seq, so it will not be added to the corrected seqs\n",
      "\n",
      "ALERT: individual Seq_10_LinJ.02_minus has no homology with no other seq, so it will not be added to the corrected seqs\n",
      "\n",
      "ALERT: individual Seq_11_LinJ.02_plus has no homology with no other seq, so it will not be added to the corrected seqs\n",
      "\n",
      "ALERT: individual Seq_15_LinJ.02_minus has no homology with no other seq, so it will not be added to the corrected seqs\n",
      "\n",
      "ALERT: individual Seq_16_LinJ.02_plus has no homology with no other seq, so it will not be added to the corrected seqs\n",
      "\n",
      "CSV: ../Prueba1/Second_Blast_Output/LinJ.02/LinJ.02_Corrected.csv has been created.\n",
      "\n",
      "Fasta created at: ../Prueba1/Second_Blast_Output/LinJ.02/LinJ.02_Corrected.fasta\n",
      "\n",
      "\n",
      "|==================================================|\n",
      "|            BLASTn searcher initiated             |\n",
      "|==================================================|\n",
      "\n",
      "\n",
      "\n",
      "Blaster succesful ../Prueba1/Second_Blast_Output/LinJ.02/LinJ.02_BLAST_MAIN.csv created.\n",
      "\n",
      "\n",
      "|==================================================|\n",
      "\n",
      "Filtering columns proceeding:\n",
      "\n",
      "CSV: ../Prueba1/Second_Blast_Output/LinJ.02/LinJ.02_BLAST_MAIN.csv has been created.\n",
      "\n",
      "\n",
      "|==================================================|\n",
      "\n",
      "Filtering dashes proceeding:\n",
      "\n",
      "CSV: ../Prueba1/Second_Blast_Output/LinJ.02/LinJ.02_BLAST_MAIN.csv has been created.\n",
      "\n",
      "\n",
      "|==================================================|\n",
      "\n",
      "Filtering duplicates proceeding:\n",
      "\n",
      "CSV: ../Prueba1/Second_Blast_Output/LinJ.02/LinJ.02_BLAST_MAIN.csv has been created.\n",
      "\n",
      "\n",
      "|==================================================|\n",
      "\n",
      "Filtering overlaps proceeding:\n",
      "\n",
      "CSV: ../Prueba1/Second_Blast_Output/LinJ.02/LinJ.02_BLAST_MAIN.csv has been created.\n",
      "\n",
      "CSV: ../Prueba1/Second_Blast_Output/MIXER.csv has been created.\n",
      "\n",
      "Directory ../Prueba1/Second_Blast_Output/LinJ.03 already exists\n",
      "\n",
      "CSV: ../Prueba1/Second_Blast_Output/LinJ.03/LinJ.03.csv has been created.\n",
      "\n",
      "CSV: ../Prueba1/Second_Blast_Output/LinJ.03/LinJ.03_1000nt.csv has been created.\n",
      "\n",
      "Fasta created at: ../Prueba1/Second_Blast_Output/LinJ.03/LinJ.03_1000nt.fasta\n",
      "\n",
      "\n",
      "|==================================================|\n",
      "|         BLASTn Database creator started          |\n",
      "|==================================================|\n",
      "\n",
      "\n",
      "\n",
      "\n",
      "Building a new DB, current time: 05/18/2023 14:44:37\n",
      "New DB name:   /home/viskuit/OneDrive/Important/Universidad/Master_Bioinformatics_UOC/TFM/Proyecto_Leishmania/Prueba1/Second_Blast_Output/LinJ.03/LinJ.03_1000nt.fasta\n",
      "New DB title:  ../Prueba1/Second_Blast_Output/LinJ.03/LinJ.03_1000nt.fasta\n",
      "Sequence type: Nucleotide\n",
      "Deleted existing Nucleotide BLAST database named /home/viskuit/OneDrive/Important/Universidad/Master_Bioinformatics_UOC/TFM/Proyecto_Leishmania/Prueba1/Second_Blast_Output/LinJ.03/LinJ.03_1000nt.fasta\n",
      "Keep MBits: T\n",
      "Maximum file size: 1000000000B\n",
      "Adding sequences from FASTA; added 6 sequences in 0.000324965 seconds.\n",
      "\n",
      "\n",
      "\n",
      "Blast Dictionary created in ../Prueba1/Second_Blast_Output/LinJ.03/LinJ.03_1000nt.fasta\n",
      "\n",
      "\n",
      "|==================================================|\n",
      "|            BLASTn searcher initiated             |\n",
      "|==================================================|\n",
      "\n",
      "\n",
      "\n",
      "Blaster succesful ../Prueba1/Second_Blast_Output/LinJ.03/LinJ.03_1000nt_Blaster.csv created.\n",
      "\n",
      "\n",
      "|==================================================|\n",
      "\n",
      "Filtering columns proceeding:\n",
      "\n",
      "CSV: ../Prueba1/Second_Blast_Output/LinJ.03/LinJ.03_1000nt_Blaster.csv has been created.\n",
      "\n",
      "CSV: ../Prueba1/Second_Blast_Output/LinJ.03/LinJ.03_Corrected.csv has been created.\n",
      "\n",
      "Fasta created at: ../Prueba1/Second_Blast_Output/LinJ.03/LinJ.03_Corrected.fasta\n",
      "\n",
      "\n",
      "|==================================================|\n",
      "|            BLASTn searcher initiated             |\n",
      "|==================================================|\n",
      "\n",
      "\n",
      "\n",
      "Blaster succesful ../Prueba1/Second_Blast_Output/LinJ.03/LinJ.03_BLAST_MAIN.csv created.\n",
      "\n",
      "\n",
      "|==================================================|\n",
      "\n",
      "Filtering columns proceeding:\n",
      "\n",
      "CSV: ../Prueba1/Second_Blast_Output/LinJ.03/LinJ.03_BLAST_MAIN.csv has been created.\n",
      "\n",
      "\n",
      "|==================================================|\n",
      "\n",
      "Filtering dashes proceeding:\n",
      "\n",
      "CSV: ../Prueba1/Second_Blast_Output/LinJ.03/LinJ.03_BLAST_MAIN.csv has been created.\n",
      "\n",
      "\n",
      "|==================================================|\n",
      "\n",
      "Filtering duplicates proceeding:\n",
      "\n",
      "CSV: ../Prueba1/Second_Blast_Output/LinJ.03/LinJ.03_BLAST_MAIN.csv has been created.\n",
      "\n",
      "\n",
      "|==================================================|\n",
      "\n",
      "Filtering overlaps proceeding:\n",
      "\n",
      "CSV: ../Prueba1/Second_Blast_Output/LinJ.03/LinJ.03_BLAST_MAIN.csv has been created.\n",
      "\n",
      "CSV: ../Prueba1/Second_Blast_Output/MIXER.csv has been created.\n",
      "\n",
      "\n",
      "|==================================================|\n",
      "\n",
      "Filtering columns proceeding:\n",
      "\n",
      "CSV: ../Prueba1/Second_Blast_Output/MIXER.csv has been created.\n",
      "\n",
      "\n",
      "|==================================================|\n",
      "\n",
      "Filtering dashes proceeding:\n",
      "\n",
      "CSV: ../Prueba1/Second_Blast_Output/MIXER.csv has been created.\n",
      "\n",
      "\n",
      "|==================================================|\n",
      "\n",
      "Filtering duplicates proceeding:\n",
      "\n",
      "CSV: ../Prueba1/Second_Blast_Output/MIXER.csv has been created.\n",
      "\n",
      "\n",
      "|==================================================|\n",
      "\n",
      "Filtering overlaps proceeding:\n",
      "\n",
      "CSV: ../Prueba1/Second_Blast_Output/MIXER.csv has been created.\n",
      "> \u001b[0;32m/home/viskuit/OneDrive/Important/Universidad/Master_Bioinformatics_UOC/TFM/Proyecto_Leishmania/SIDER_RepetitiveSearcher/modules/blaster.py\u001b[0m(262)\u001b[0;36mrepetitive_blaster\u001b[0;34m()\u001b[0m\n",
      "\u001b[0;32m    260 \u001b[0;31m\u001b[0;34m\u001b[0m\u001b[0m\n",
      "\u001b[0m\u001b[0;32m    261 \u001b[0;31m    \u001b[0mpdb\u001b[0m\u001b[0;34m.\u001b[0m\u001b[0mset_trace\u001b[0m\u001b[0;34m(\u001b[0m\u001b[0;34m)\u001b[0m\u001b[0;34m\u001b[0m\u001b[0;34m\u001b[0m\u001b[0m\n",
      "\u001b[0m\u001b[0;32m--> 262 \u001b[0;31m    \u001b[0mfolder_output\u001b[0m \u001b[0;34m=\u001b[0m \u001b[0mfolder_path\u001b[0m \u001b[0;34m+\u001b[0m \u001b[0;34m\"RUNS\"\u001b[0m\u001b[0;34m\u001b[0m\u001b[0;34m\u001b[0m\u001b[0m\n",
      "\u001b[0m\u001b[0;32m    263 \u001b[0;31m    \u001b[0mfolder_creator\u001b[0m\u001b[0;34m(\u001b[0m\u001b[0mfolder_output\u001b[0m\u001b[0;34m)\u001b[0m\u001b[0;34m\u001b[0m\u001b[0;34m\u001b[0m\u001b[0m\n",
      "\u001b[0m\u001b[0;32m    264 \u001b[0;31m\u001b[0;34m\u001b[0m\u001b[0m\n",
      "\u001b[0m\n"
     ]
    },
    {
     "name": "stdin",
     "output_type": "stream",
     "text": [
      "ipdb>  nn\n"
     ]
    },
    {
     "name": "stdout",
     "output_type": "stream",
     "text": [
      "*** NameError: name 'nn' is not defined\n"
     ]
    },
    {
     "name": "stdin",
     "output_type": "stream",
     "text": [
      "ipdb>  n\n"
     ]
    },
    {
     "name": "stdout",
     "output_type": "stream",
     "text": [
      "> \u001b[0;32m/home/viskuit/OneDrive/Important/Universidad/Master_Bioinformatics_UOC/TFM/Proyecto_Leishmania/SIDER_RepetitiveSearcher/modules/blaster.py\u001b[0m(263)\u001b[0;36mrepetitive_blaster\u001b[0;34m()\u001b[0m\n",
      "\u001b[0;32m    261 \u001b[0;31m    \u001b[0mpdb\u001b[0m\u001b[0;34m.\u001b[0m\u001b[0mset_trace\u001b[0m\u001b[0;34m(\u001b[0m\u001b[0;34m)\u001b[0m\u001b[0;34m\u001b[0m\u001b[0;34m\u001b[0m\u001b[0m\n",
      "\u001b[0m\u001b[0;32m    262 \u001b[0;31m    \u001b[0mfolder_output\u001b[0m \u001b[0;34m=\u001b[0m \u001b[0mfolder_path\u001b[0m \u001b[0;34m+\u001b[0m \u001b[0;34m\"RUNS\"\u001b[0m\u001b[0;34m\u001b[0m\u001b[0;34m\u001b[0m\u001b[0m\n",
      "\u001b[0m\u001b[0;32m--> 263 \u001b[0;31m    \u001b[0mfolder_creator\u001b[0m\u001b[0;34m(\u001b[0m\u001b[0mfolder_output\u001b[0m\u001b[0;34m)\u001b[0m\u001b[0;34m\u001b[0m\u001b[0;34m\u001b[0m\u001b[0m\n",
      "\u001b[0m\u001b[0;32m    264 \u001b[0;31m\u001b[0;34m\u001b[0m\u001b[0m\n",
      "\u001b[0m\u001b[0;32m    265 \u001b[0;31m    \u001b[0mRUN_SAVER_Output\u001b[0m \u001b[0;34m=\u001b[0m \u001b[0mfolder_output\u001b[0m \u001b[0;34m+\u001b[0m \u001b[0;34m\"/run_\"\u001b[0m \u001b[0;34m+\u001b[0m \u001b[0mstr\u001b[0m\u001b[0;34m(\u001b[0m\u001b[0mnumbering\u001b[0m\u001b[0;34m)\u001b[0m \u001b[0;34m+\u001b[0m \u001b[0;34m\".csv\"\u001b[0m\u001b[0;34m\u001b[0m\u001b[0;34m\u001b[0m\u001b[0m\n",
      "\u001b[0m\n"
     ]
    },
    {
     "name": "stdin",
     "output_type": "stream",
     "text": [
      "ipdb>  n\n"
     ]
    },
    {
     "name": "stdout",
     "output_type": "stream",
     "text": [
      "\n",
      "Directory ../Prueba1/Second_Blast_Output/RUNS already exists\n",
      "> \u001b[0;32m/home/viskuit/OneDrive/Important/Universidad/Master_Bioinformatics_UOC/TFM/Proyecto_Leishmania/SIDER_RepetitiveSearcher/modules/blaster.py\u001b[0m(265)\u001b[0;36mrepetitive_blaster\u001b[0;34m()\u001b[0m\n",
      "\u001b[0;32m    263 \u001b[0;31m    \u001b[0mfolder_creator\u001b[0m\u001b[0;34m(\u001b[0m\u001b[0mfolder_output\u001b[0m\u001b[0;34m)\u001b[0m\u001b[0;34m\u001b[0m\u001b[0;34m\u001b[0m\u001b[0m\n",
      "\u001b[0m\u001b[0;32m    264 \u001b[0;31m\u001b[0;34m\u001b[0m\u001b[0m\n",
      "\u001b[0m\u001b[0;32m--> 265 \u001b[0;31m    \u001b[0mRUN_SAVER_Output\u001b[0m \u001b[0;34m=\u001b[0m \u001b[0mfolder_output\u001b[0m \u001b[0;34m+\u001b[0m \u001b[0;34m\"/run_\"\u001b[0m \u001b[0;34m+\u001b[0m \u001b[0mstr\u001b[0m\u001b[0;34m(\u001b[0m\u001b[0mnumbering\u001b[0m\u001b[0;34m)\u001b[0m \u001b[0;34m+\u001b[0m \u001b[0;34m\".csv\"\u001b[0m\u001b[0;34m\u001b[0m\u001b[0;34m\u001b[0m\u001b[0m\n",
      "\u001b[0m\u001b[0;32m    266 \u001b[0;31m    \u001b[0mshutil\u001b[0m\u001b[0;34m.\u001b[0m\u001b[0mcopyfile\u001b[0m\u001b[0;34m(\u001b[0m\u001b[0mglobal_filters_main_output\u001b[0m\u001b[0;34m,\u001b[0m \u001b[0mRUN_SAVER_Output\u001b[0m\u001b[0;34m)\u001b[0m\u001b[0;34m\u001b[0m\u001b[0;34m\u001b[0m\u001b[0m\n",
      "\u001b[0m\u001b[0;32m    267 \u001b[0;31m\u001b[0;34m\u001b[0m\u001b[0m\n",
      "\u001b[0m\n"
     ]
    },
    {
     "name": "stdin",
     "output_type": "stream",
     "text": [
      "ipdb>  n\n"
     ]
    },
    {
     "name": "stdout",
     "output_type": "stream",
     "text": [
      "> \u001b[0;32m/home/viskuit/OneDrive/Important/Universidad/Master_Bioinformatics_UOC/TFM/Proyecto_Leishmania/SIDER_RepetitiveSearcher/modules/blaster.py\u001b[0m(266)\u001b[0;36mrepetitive_blaster\u001b[0;34m()\u001b[0m\n",
      "\u001b[0;32m    264 \u001b[0;31m\u001b[0;34m\u001b[0m\u001b[0m\n",
      "\u001b[0m\u001b[0;32m    265 \u001b[0;31m    \u001b[0mRUN_SAVER_Output\u001b[0m \u001b[0;34m=\u001b[0m \u001b[0mfolder_output\u001b[0m \u001b[0;34m+\u001b[0m \u001b[0;34m\"/run_\"\u001b[0m \u001b[0;34m+\u001b[0m \u001b[0mstr\u001b[0m\u001b[0;34m(\u001b[0m\u001b[0mnumbering\u001b[0m\u001b[0;34m)\u001b[0m \u001b[0;34m+\u001b[0m \u001b[0;34m\".csv\"\u001b[0m\u001b[0;34m\u001b[0m\u001b[0;34m\u001b[0m\u001b[0m\n",
      "\u001b[0m\u001b[0;32m--> 266 \u001b[0;31m    \u001b[0mshutil\u001b[0m\u001b[0;34m.\u001b[0m\u001b[0mcopyfile\u001b[0m\u001b[0;34m(\u001b[0m\u001b[0mglobal_filters_main_output\u001b[0m\u001b[0;34m,\u001b[0m \u001b[0mRUN_SAVER_Output\u001b[0m\u001b[0;34m)\u001b[0m\u001b[0;34m\u001b[0m\u001b[0;34m\u001b[0m\u001b[0m\n",
      "\u001b[0m\u001b[0;32m    267 \u001b[0;31m\u001b[0;34m\u001b[0m\u001b[0m\n",
      "\u001b[0m\u001b[0;32m    268 \u001b[0;31m    \u001b[0mbackup_counter\u001b[0m \u001b[0;34m=\u001b[0m \u001b[0;36m0\u001b[0m\u001b[0;34m\u001b[0m\u001b[0;34m\u001b[0m\u001b[0m\n",
      "\u001b[0m\n"
     ]
    },
    {
     "name": "stdin",
     "output_type": "stream",
     "text": [
      "ipdb>  n\n"
     ]
    },
    {
     "name": "stdout",
     "output_type": "stream",
     "text": [
      "> \u001b[0;32m/home/viskuit/OneDrive/Important/Universidad/Master_Bioinformatics_UOC/TFM/Proyecto_Leishmania/SIDER_RepetitiveSearcher/modules/blaster.py\u001b[0m(268)\u001b[0;36mrepetitive_blaster\u001b[0;34m()\u001b[0m\n",
      "\u001b[0;32m    266 \u001b[0;31m    \u001b[0mshutil\u001b[0m\u001b[0;34m.\u001b[0m\u001b[0mcopyfile\u001b[0m\u001b[0;34m(\u001b[0m\u001b[0mglobal_filters_main_output\u001b[0m\u001b[0;34m,\u001b[0m \u001b[0mRUN_SAVER_Output\u001b[0m\u001b[0;34m)\u001b[0m\u001b[0;34m\u001b[0m\u001b[0;34m\u001b[0m\u001b[0m\n",
      "\u001b[0m\u001b[0;32m    267 \u001b[0;31m\u001b[0;34m\u001b[0m\u001b[0m\n",
      "\u001b[0m\u001b[0;32m--> 268 \u001b[0;31m    \u001b[0mbackup_counter\u001b[0m \u001b[0;34m=\u001b[0m \u001b[0;36m0\u001b[0m\u001b[0;34m\u001b[0m\u001b[0;34m\u001b[0m\u001b[0m\n",
      "\u001b[0m\u001b[0;32m    269 \u001b[0;31m    \u001b[0;32mif\u001b[0m \u001b[0mbackup_counter\u001b[0m \u001b[0;34m==\u001b[0m \u001b[0;36m0\u001b[0m\u001b[0;34m:\u001b[0m\u001b[0;34m\u001b[0m\u001b[0;34m\u001b[0m\u001b[0m\n",
      "\u001b[0m\u001b[0;32m    270 \u001b[0;31m        \u001b[0mfirst_backup\u001b[0m \u001b[0;34m=\u001b[0m \u001b[0mPath\u001b[0m\u001b[0;34m(\u001b[0m\u001b[0mpath_input\u001b[0m\u001b[0;34m)\u001b[0m\u001b[0;34m\u001b[0m\u001b[0;34m\u001b[0m\u001b[0m\n",
      "\u001b[0m\n"
     ]
    },
    {
     "name": "stdin",
     "output_type": "stream",
     "text": [
      "ipdb>  n\n"
     ]
    },
    {
     "name": "stdout",
     "output_type": "stream",
     "text": [
      "> \u001b[0;32m/home/viskuit/OneDrive/Important/Universidad/Master_Bioinformatics_UOC/TFM/Proyecto_Leishmania/SIDER_RepetitiveSearcher/modules/blaster.py\u001b[0m(269)\u001b[0;36mrepetitive_blaster\u001b[0;34m()\u001b[0m\n",
      "\u001b[0;32m    267 \u001b[0;31m\u001b[0;34m\u001b[0m\u001b[0m\n",
      "\u001b[0m\u001b[0;32m    268 \u001b[0;31m    \u001b[0mbackup_counter\u001b[0m \u001b[0;34m=\u001b[0m \u001b[0;36m0\u001b[0m\u001b[0;34m\u001b[0m\u001b[0;34m\u001b[0m\u001b[0m\n",
      "\u001b[0m\u001b[0;32m--> 269 \u001b[0;31m    \u001b[0;32mif\u001b[0m \u001b[0mbackup_counter\u001b[0m \u001b[0;34m==\u001b[0m \u001b[0;36m0\u001b[0m\u001b[0;34m:\u001b[0m\u001b[0;34m\u001b[0m\u001b[0;34m\u001b[0m\u001b[0m\n",
      "\u001b[0m\u001b[0;32m    270 \u001b[0;31m        \u001b[0mfirst_backup\u001b[0m \u001b[0;34m=\u001b[0m \u001b[0mPath\u001b[0m\u001b[0;34m(\u001b[0m\u001b[0mpath_input\u001b[0m\u001b[0;34m)\u001b[0m\u001b[0;34m\u001b[0m\u001b[0;34m\u001b[0m\u001b[0m\n",
      "\u001b[0m\u001b[0;32m    271 \u001b[0;31m        \u001b[0mfirst_backup2\u001b[0m \u001b[0;34m=\u001b[0m \u001b[0mstr\u001b[0m\u001b[0;34m(\u001b[0m\u001b[0mfirst_backup\u001b[0m\u001b[0;34m.\u001b[0m\u001b[0mparents\u001b[0m\u001b[0;34m[\u001b[0m\u001b[0;36m0\u001b[0m\u001b[0;34m]\u001b[0m\u001b[0;34m)\u001b[0m \u001b[0;34m+\u001b[0m \u001b[0;34m\"/\"\u001b[0m \u001b[0;34m+\u001b[0m \u001b[0mfirst_backup\u001b[0m\u001b[0;34m.\u001b[0m\u001b[0mwith_suffix\u001b[0m\u001b[0;34m(\u001b[0m\u001b[0;34m\"\"\u001b[0m\u001b[0;34m)\u001b[0m\u001b[0;34m.\u001b[0m\u001b[0mname\u001b[0m \u001b[0;34m+\u001b[0m \u001b[0;34m\"_backup.csv\"\u001b[0m\u001b[0;34m\u001b[0m\u001b[0;34m\u001b[0m\u001b[0m\n",
      "\u001b[0m\n"
     ]
    },
    {
     "name": "stdin",
     "output_type": "stream",
     "text": [
      "ipdb>  n\n"
     ]
    },
    {
     "name": "stdout",
     "output_type": "stream",
     "text": [
      "> \u001b[0;32m/home/viskuit/OneDrive/Important/Universidad/Master_Bioinformatics_UOC/TFM/Proyecto_Leishmania/SIDER_RepetitiveSearcher/modules/blaster.py\u001b[0m(270)\u001b[0;36mrepetitive_blaster\u001b[0;34m()\u001b[0m\n",
      "\u001b[0;32m    268 \u001b[0;31m    \u001b[0mbackup_counter\u001b[0m \u001b[0;34m=\u001b[0m \u001b[0;36m0\u001b[0m\u001b[0;34m\u001b[0m\u001b[0;34m\u001b[0m\u001b[0m\n",
      "\u001b[0m\u001b[0;32m    269 \u001b[0;31m    \u001b[0;32mif\u001b[0m \u001b[0mbackup_counter\u001b[0m \u001b[0;34m==\u001b[0m \u001b[0;36m0\u001b[0m\u001b[0;34m:\u001b[0m\u001b[0;34m\u001b[0m\u001b[0;34m\u001b[0m\u001b[0m\n",
      "\u001b[0m\u001b[0;32m--> 270 \u001b[0;31m        \u001b[0mfirst_backup\u001b[0m \u001b[0;34m=\u001b[0m \u001b[0mPath\u001b[0m\u001b[0;34m(\u001b[0m\u001b[0mpath_input\u001b[0m\u001b[0;34m)\u001b[0m\u001b[0;34m\u001b[0m\u001b[0;34m\u001b[0m\u001b[0m\n",
      "\u001b[0m\u001b[0;32m    271 \u001b[0;31m        \u001b[0mfirst_backup2\u001b[0m \u001b[0;34m=\u001b[0m \u001b[0mstr\u001b[0m\u001b[0;34m(\u001b[0m\u001b[0mfirst_backup\u001b[0m\u001b[0;34m.\u001b[0m\u001b[0mparents\u001b[0m\u001b[0;34m[\u001b[0m\u001b[0;36m0\u001b[0m\u001b[0;34m]\u001b[0m\u001b[0;34m)\u001b[0m \u001b[0;34m+\u001b[0m \u001b[0;34m\"/\"\u001b[0m \u001b[0;34m+\u001b[0m \u001b[0mfirst_backup\u001b[0m\u001b[0;34m.\u001b[0m\u001b[0mwith_suffix\u001b[0m\u001b[0;34m(\u001b[0m\u001b[0;34m\"\"\u001b[0m\u001b[0;34m)\u001b[0m\u001b[0;34m.\u001b[0m\u001b[0mname\u001b[0m \u001b[0;34m+\u001b[0m \u001b[0;34m\"_backup.csv\"\u001b[0m\u001b[0;34m\u001b[0m\u001b[0;34m\u001b[0m\u001b[0m\n",
      "\u001b[0m\u001b[0;32m    272 \u001b[0;31m        \u001b[0mshutil\u001b[0m\u001b[0;34m.\u001b[0m\u001b[0mcopyfile\u001b[0m\u001b[0;34m(\u001b[0m\u001b[0mpath_input\u001b[0m\u001b[0;34m,\u001b[0m \u001b[0mfirst_backup2\u001b[0m\u001b[0;34m)\u001b[0m  \u001b[0;31m# Here we save the first file just in case\u001b[0m\u001b[0;34m\u001b[0m\u001b[0;34m\u001b[0m\u001b[0m\n",
      "\u001b[0m\n"
     ]
    },
    {
     "name": "stdin",
     "output_type": "stream",
     "text": [
      "ipdb>  n\n"
     ]
    },
    {
     "name": "stdout",
     "output_type": "stream",
     "text": [
      "> \u001b[0;32m/home/viskuit/OneDrive/Important/Universidad/Master_Bioinformatics_UOC/TFM/Proyecto_Leishmania/SIDER_RepetitiveSearcher/modules/blaster.py\u001b[0m(271)\u001b[0;36mrepetitive_blaster\u001b[0;34m()\u001b[0m\n",
      "\u001b[0;32m    269 \u001b[0;31m    \u001b[0;32mif\u001b[0m \u001b[0mbackup_counter\u001b[0m \u001b[0;34m==\u001b[0m \u001b[0;36m0\u001b[0m\u001b[0;34m:\u001b[0m\u001b[0;34m\u001b[0m\u001b[0;34m\u001b[0m\u001b[0m\n",
      "\u001b[0m\u001b[0;32m    270 \u001b[0;31m        \u001b[0mfirst_backup\u001b[0m \u001b[0;34m=\u001b[0m \u001b[0mPath\u001b[0m\u001b[0;34m(\u001b[0m\u001b[0mpath_input\u001b[0m\u001b[0;34m)\u001b[0m\u001b[0;34m\u001b[0m\u001b[0;34m\u001b[0m\u001b[0m\n",
      "\u001b[0m\u001b[0;32m--> 271 \u001b[0;31m        \u001b[0mfirst_backup2\u001b[0m \u001b[0;34m=\u001b[0m \u001b[0mstr\u001b[0m\u001b[0;34m(\u001b[0m\u001b[0mfirst_backup\u001b[0m\u001b[0;34m.\u001b[0m\u001b[0mparents\u001b[0m\u001b[0;34m[\u001b[0m\u001b[0;36m0\u001b[0m\u001b[0;34m]\u001b[0m\u001b[0;34m)\u001b[0m \u001b[0;34m+\u001b[0m \u001b[0;34m\"/\"\u001b[0m \u001b[0;34m+\u001b[0m \u001b[0mfirst_backup\u001b[0m\u001b[0;34m.\u001b[0m\u001b[0mwith_suffix\u001b[0m\u001b[0;34m(\u001b[0m\u001b[0;34m\"\"\u001b[0m\u001b[0;34m)\u001b[0m\u001b[0;34m.\u001b[0m\u001b[0mname\u001b[0m \u001b[0;34m+\u001b[0m \u001b[0;34m\"_backup.csv\"\u001b[0m\u001b[0;34m\u001b[0m\u001b[0;34m\u001b[0m\u001b[0m\n",
      "\u001b[0m\u001b[0;32m    272 \u001b[0;31m        \u001b[0mshutil\u001b[0m\u001b[0;34m.\u001b[0m\u001b[0mcopyfile\u001b[0m\u001b[0;34m(\u001b[0m\u001b[0mpath_input\u001b[0m\u001b[0;34m,\u001b[0m \u001b[0mfirst_backup2\u001b[0m\u001b[0;34m)\u001b[0m  \u001b[0;31m# Here we save the first file just in case\u001b[0m\u001b[0;34m\u001b[0m\u001b[0;34m\u001b[0m\u001b[0m\n",
      "\u001b[0m\u001b[0;32m    273 \u001b[0;31m        \u001b[0mbackup_counter\u001b[0m \u001b[0;34m+=\u001b[0m \u001b[0;36m1\u001b[0m\u001b[0;34m\u001b[0m\u001b[0;34m\u001b[0m\u001b[0m\n",
      "\u001b[0m\n"
     ]
    },
    {
     "name": "stdin",
     "output_type": "stream",
     "text": [
      "ipdb>  n\n"
     ]
    },
    {
     "name": "stdout",
     "output_type": "stream",
     "text": [
      "> \u001b[0;32m/home/viskuit/OneDrive/Important/Universidad/Master_Bioinformatics_UOC/TFM/Proyecto_Leishmania/SIDER_RepetitiveSearcher/modules/blaster.py\u001b[0m(272)\u001b[0;36mrepetitive_blaster\u001b[0;34m()\u001b[0m\n",
      "\u001b[0;32m    270 \u001b[0;31m        \u001b[0mfirst_backup\u001b[0m \u001b[0;34m=\u001b[0m \u001b[0mPath\u001b[0m\u001b[0;34m(\u001b[0m\u001b[0mpath_input\u001b[0m\u001b[0;34m)\u001b[0m\u001b[0;34m\u001b[0m\u001b[0;34m\u001b[0m\u001b[0m\n",
      "\u001b[0m\u001b[0;32m    271 \u001b[0;31m        \u001b[0mfirst_backup2\u001b[0m \u001b[0;34m=\u001b[0m \u001b[0mstr\u001b[0m\u001b[0;34m(\u001b[0m\u001b[0mfirst_backup\u001b[0m\u001b[0;34m.\u001b[0m\u001b[0mparents\u001b[0m\u001b[0;34m[\u001b[0m\u001b[0;36m0\u001b[0m\u001b[0;34m]\u001b[0m\u001b[0;34m)\u001b[0m \u001b[0;34m+\u001b[0m \u001b[0;34m\"/\"\u001b[0m \u001b[0;34m+\u001b[0m \u001b[0mfirst_backup\u001b[0m\u001b[0;34m.\u001b[0m\u001b[0mwith_suffix\u001b[0m\u001b[0;34m(\u001b[0m\u001b[0;34m\"\"\u001b[0m\u001b[0;34m)\u001b[0m\u001b[0;34m.\u001b[0m\u001b[0mname\u001b[0m \u001b[0;34m+\u001b[0m \u001b[0;34m\"_backup.csv\"\u001b[0m\u001b[0;34m\u001b[0m\u001b[0;34m\u001b[0m\u001b[0m\n",
      "\u001b[0m\u001b[0;32m--> 272 \u001b[0;31m        \u001b[0mshutil\u001b[0m\u001b[0;34m.\u001b[0m\u001b[0mcopyfile\u001b[0m\u001b[0;34m(\u001b[0m\u001b[0mpath_input\u001b[0m\u001b[0;34m,\u001b[0m \u001b[0mfirst_backup2\u001b[0m\u001b[0;34m)\u001b[0m  \u001b[0;31m# Here we save the first file just in case\u001b[0m\u001b[0;34m\u001b[0m\u001b[0;34m\u001b[0m\u001b[0m\n",
      "\u001b[0m\u001b[0;32m    273 \u001b[0;31m        \u001b[0mbackup_counter\u001b[0m \u001b[0;34m+=\u001b[0m \u001b[0;36m1\u001b[0m\u001b[0;34m\u001b[0m\u001b[0;34m\u001b[0m\u001b[0m\n",
      "\u001b[0m\u001b[0;32m    274 \u001b[0;31m\u001b[0;34m\u001b[0m\u001b[0m\n",
      "\u001b[0m\n"
     ]
    },
    {
     "name": "stdin",
     "output_type": "stream",
     "text": [
      "ipdb>  first_backup2\n"
     ]
    },
    {
     "name": "stdout",
     "output_type": "stream",
     "text": [
      "'../Prueba1/First_Blast_Output/First_Blaster_backup.csv'\n"
     ]
    },
    {
     "name": "stdin",
     "output_type": "stream",
     "text": [
      "ipdb>  n\n"
     ]
    },
    {
     "name": "stdout",
     "output_type": "stream",
     "text": [
      "> \u001b[0;32m/home/viskuit/OneDrive/Important/Universidad/Master_Bioinformatics_UOC/TFM/Proyecto_Leishmania/SIDER_RepetitiveSearcher/modules/blaster.py\u001b[0m(273)\u001b[0;36mrepetitive_blaster\u001b[0;34m()\u001b[0m\n",
      "\u001b[0;32m    271 \u001b[0;31m        \u001b[0mfirst_backup2\u001b[0m \u001b[0;34m=\u001b[0m \u001b[0mstr\u001b[0m\u001b[0;34m(\u001b[0m\u001b[0mfirst_backup\u001b[0m\u001b[0;34m.\u001b[0m\u001b[0mparents\u001b[0m\u001b[0;34m[\u001b[0m\u001b[0;36m0\u001b[0m\u001b[0;34m]\u001b[0m\u001b[0;34m)\u001b[0m \u001b[0;34m+\u001b[0m \u001b[0;34m\"/\"\u001b[0m \u001b[0;34m+\u001b[0m \u001b[0mfirst_backup\u001b[0m\u001b[0;34m.\u001b[0m\u001b[0mwith_suffix\u001b[0m\u001b[0;34m(\u001b[0m\u001b[0;34m\"\"\u001b[0m\u001b[0;34m)\u001b[0m\u001b[0;34m.\u001b[0m\u001b[0mname\u001b[0m \u001b[0;34m+\u001b[0m \u001b[0;34m\"_backup.csv\"\u001b[0m\u001b[0;34m\u001b[0m\u001b[0;34m\u001b[0m\u001b[0m\n",
      "\u001b[0m\u001b[0;32m    272 \u001b[0;31m        \u001b[0mshutil\u001b[0m\u001b[0;34m.\u001b[0m\u001b[0mcopyfile\u001b[0m\u001b[0;34m(\u001b[0m\u001b[0mpath_input\u001b[0m\u001b[0;34m,\u001b[0m \u001b[0mfirst_backup2\u001b[0m\u001b[0;34m)\u001b[0m  \u001b[0;31m# Here we save the first file just in case\u001b[0m\u001b[0;34m\u001b[0m\u001b[0;34m\u001b[0m\u001b[0m\n",
      "\u001b[0m\u001b[0;32m--> 273 \u001b[0;31m        \u001b[0mbackup_counter\u001b[0m \u001b[0;34m+=\u001b[0m \u001b[0;36m1\u001b[0m\u001b[0;34m\u001b[0m\u001b[0;34m\u001b[0m\u001b[0m\n",
      "\u001b[0m\u001b[0;32m    274 \u001b[0;31m\u001b[0;34m\u001b[0m\u001b[0m\n",
      "\u001b[0m\u001b[0;32m    275 \u001b[0;31m    \u001b[0mshutil\u001b[0m\u001b[0;34m.\u001b[0m\u001b[0mcopyfile\u001b[0m\u001b[0;34m(\u001b[0m\u001b[0mglobal_filters_main_output\u001b[0m\u001b[0;34m,\u001b[0m \u001b[0mpath_input\u001b[0m\u001b[0;34m)\u001b[0m  \u001b[0;31m# This way I restart the first \"path_input\" with the new \"mixed input\".\u001b[0m\u001b[0;34m\u001b[0m\u001b[0;34m\u001b[0m\u001b[0m\n",
      "\u001b[0m\n"
     ]
    },
    {
     "name": "stdin",
     "output_type": "stream",
     "text": [
      "ipdb>  n\n"
     ]
    },
    {
     "name": "stdout",
     "output_type": "stream",
     "text": [
      "> \u001b[0;32m/home/viskuit/OneDrive/Important/Universidad/Master_Bioinformatics_UOC/TFM/Proyecto_Leishmania/SIDER_RepetitiveSearcher/modules/blaster.py\u001b[0m(275)\u001b[0;36mrepetitive_blaster\u001b[0;34m()\u001b[0m\n",
      "\u001b[0;32m    273 \u001b[0;31m        \u001b[0mbackup_counter\u001b[0m \u001b[0;34m+=\u001b[0m \u001b[0;36m1\u001b[0m\u001b[0;34m\u001b[0m\u001b[0;34m\u001b[0m\u001b[0m\n",
      "\u001b[0m\u001b[0;32m    274 \u001b[0;31m\u001b[0;34m\u001b[0m\u001b[0m\n",
      "\u001b[0m\u001b[0;32m--> 275 \u001b[0;31m    \u001b[0mshutil\u001b[0m\u001b[0;34m.\u001b[0m\u001b[0mcopyfile\u001b[0m\u001b[0;34m(\u001b[0m\u001b[0mglobal_filters_main_output\u001b[0m\u001b[0;34m,\u001b[0m \u001b[0mpath_input\u001b[0m\u001b[0;34m)\u001b[0m  \u001b[0;31m# This way I restart the first \"path_input\" with the new \"mixed input\".\u001b[0m\u001b[0;34m\u001b[0m\u001b[0;34m\u001b[0m\u001b[0m\n",
      "\u001b[0m\u001b[0;32m    276 \u001b[0;31m    \u001b[0mos\u001b[0m\u001b[0;34m.\u001b[0m\u001b[0mremove\u001b[0m\u001b[0;34m(\u001b[0m\u001b[0mglobal_filters_main_output\u001b[0m\u001b[0;34m)\u001b[0m  \u001b[0;31m# ##Eliminamos el Mixer, para que luego se cree de nuevo\u001b[0m\u001b[0;34m\u001b[0m\u001b[0;34m\u001b[0m\u001b[0m\n",
      "\u001b[0m\u001b[0;32m    277 \u001b[0;31m\u001b[0;34m\u001b[0m\u001b[0m\n",
      "\u001b[0m\n"
     ]
    },
    {
     "name": "stdin",
     "output_type": "stream",
     "text": [
      "ipdb>  backup_counter\n"
     ]
    },
    {
     "name": "stdout",
     "output_type": "stream",
     "text": [
      "1\n"
     ]
    },
    {
     "name": "stdin",
     "output_type": "stream",
     "text": [
      "ipdb>  n\n"
     ]
    },
    {
     "name": "stdout",
     "output_type": "stream",
     "text": [
      "> \u001b[0;32m/home/viskuit/OneDrive/Important/Universidad/Master_Bioinformatics_UOC/TFM/Proyecto_Leishmania/SIDER_RepetitiveSearcher/modules/blaster.py\u001b[0m(276)\u001b[0;36mrepetitive_blaster\u001b[0;34m()\u001b[0m\n",
      "\u001b[0;32m    274 \u001b[0;31m\u001b[0;34m\u001b[0m\u001b[0m\n",
      "\u001b[0m\u001b[0;32m    275 \u001b[0;31m    \u001b[0mshutil\u001b[0m\u001b[0;34m.\u001b[0m\u001b[0mcopyfile\u001b[0m\u001b[0;34m(\u001b[0m\u001b[0mglobal_filters_main_output\u001b[0m\u001b[0;34m,\u001b[0m \u001b[0mpath_input\u001b[0m\u001b[0;34m)\u001b[0m  \u001b[0;31m# This way I restart the first \"path_input\" with the new \"mixed input\".\u001b[0m\u001b[0;34m\u001b[0m\u001b[0;34m\u001b[0m\u001b[0m\n",
      "\u001b[0m\u001b[0;32m--> 276 \u001b[0;31m    \u001b[0mos\u001b[0m\u001b[0;34m.\u001b[0m\u001b[0mremove\u001b[0m\u001b[0;34m(\u001b[0m\u001b[0mglobal_filters_main_output\u001b[0m\u001b[0;34m)\u001b[0m  \u001b[0;31m# ##Eliminamos el Mixer, para que luego se cree de nuevo\u001b[0m\u001b[0;34m\u001b[0m\u001b[0;34m\u001b[0m\u001b[0m\n",
      "\u001b[0m\u001b[0;32m    277 \u001b[0;31m\u001b[0;34m\u001b[0m\u001b[0m\n",
      "\u001b[0m\u001b[0;32m    278 \u001b[0;31m    \u001b[0;31m# -----------------------------------------------------------------------------\u001b[0m\u001b[0;34m\u001b[0m\u001b[0;34m\u001b[0m\u001b[0m\n",
      "\u001b[0m\n"
     ]
    },
    {
     "name": "stdin",
     "output_type": "stream",
     "text": [
      "ipdb>  n\n"
     ]
    },
    {
     "name": "stdout",
     "output_type": "stream",
     "text": [
      "> \u001b[0;32m/home/viskuit/OneDrive/Important/Universidad/Master_Bioinformatics_UOC/TFM/Proyecto_Leishmania/SIDER_RepetitiveSearcher/modules/blaster.py\u001b[0m(279)\u001b[0;36mrepetitive_blaster\u001b[0;34m()\u001b[0m\n",
      "\u001b[0;32m    277 \u001b[0;31m\u001b[0;34m\u001b[0m\u001b[0m\n",
      "\u001b[0m\u001b[0;32m    278 \u001b[0;31m    \u001b[0;31m# -----------------------------------------------------------------------------\u001b[0m\u001b[0;34m\u001b[0m\u001b[0;34m\u001b[0m\u001b[0m\n",
      "\u001b[0m\u001b[0;32m--> 279 \u001b[0;31m    \u001b[0;32mif\u001b[0m \u001b[0mnumbering\u001b[0m \u001b[0;34m==\u001b[0m \u001b[0mmaximun_runs\u001b[0m\u001b[0;34m:\u001b[0m\u001b[0;34m\u001b[0m\u001b[0;34m\u001b[0m\u001b[0m\n",
      "\u001b[0m\u001b[0;32m    280 \u001b[0;31m        \u001b[0mprint\u001b[0m\u001b[0;34m(\u001b[0m\u001b[0;34m\"\\n\\n\\nEND of PROGRAM\"\u001b[0m\u001b[0;34m)\u001b[0m\u001b[0;34m\u001b[0m\u001b[0;34m\u001b[0m\u001b[0m\n",
      "\u001b[0m\u001b[0;32m    281 \u001b[0;31m    \u001b[0;32mif\u001b[0m \u001b[0mnumbering\u001b[0m \u001b[0;34m<\u001b[0m \u001b[0mmaximun_runs\u001b[0m\u001b[0;34m:\u001b[0m\u001b[0;34m\u001b[0m\u001b[0;34m\u001b[0m\u001b[0m\n",
      "\u001b[0m\n"
     ]
    },
    {
     "name": "stdin",
     "output_type": "stream",
     "text": [
      "ipdb>  n\n"
     ]
    },
    {
     "name": "stdout",
     "output_type": "stream",
     "text": [
      "> \u001b[0;32m/home/viskuit/OneDrive/Important/Universidad/Master_Bioinformatics_UOC/TFM/Proyecto_Leishmania/SIDER_RepetitiveSearcher/modules/blaster.py\u001b[0m(281)\u001b[0;36mrepetitive_blaster\u001b[0;34m()\u001b[0m\n",
      "\u001b[0;32m    279 \u001b[0;31m    \u001b[0;32mif\u001b[0m \u001b[0mnumbering\u001b[0m \u001b[0;34m==\u001b[0m \u001b[0mmaximun_runs\u001b[0m\u001b[0;34m:\u001b[0m\u001b[0;34m\u001b[0m\u001b[0;34m\u001b[0m\u001b[0m\n",
      "\u001b[0m\u001b[0;32m    280 \u001b[0;31m        \u001b[0mprint\u001b[0m\u001b[0;34m(\u001b[0m\u001b[0;34m\"\\n\\n\\nEND of PROGRAM\"\u001b[0m\u001b[0;34m)\u001b[0m\u001b[0;34m\u001b[0m\u001b[0;34m\u001b[0m\u001b[0m\n",
      "\u001b[0m\u001b[0;32m--> 281 \u001b[0;31m    \u001b[0;32mif\u001b[0m \u001b[0mnumbering\u001b[0m \u001b[0;34m<\u001b[0m \u001b[0mmaximun_runs\u001b[0m\u001b[0;34m:\u001b[0m\u001b[0;34m\u001b[0m\u001b[0;34m\u001b[0m\u001b[0m\n",
      "\u001b[0m\u001b[0;32m    282 \u001b[0;31m        \u001b[0mnumbering\u001b[0m \u001b[0;34m+=\u001b[0m \u001b[0;36m1\u001b[0m\u001b[0;34m\u001b[0m\u001b[0;34m\u001b[0m\u001b[0m\n",
      "\u001b[0m\u001b[0;32m    283 \u001b[0;31m        \u001b[0mrepetitive_blaster\u001b[0m\u001b[0;34m(\u001b[0m\u001b[0mgenome_fasta\u001b[0m\u001b[0;34m,\u001b[0m \u001b[0mpath_input\u001b[0m\u001b[0;34m,\u001b[0m \u001b[0mfolder_path\u001b[0m\u001b[0;34m,\u001b[0m \u001b[0mnaming_short\u001b[0m\u001b[0;34m,\u001b[0m \u001b[0mmax_diff\u001b[0m\u001b[0;34m,\u001b[0m \u001b[0mnumbering\u001b[0m\u001b[0;34m,\u001b[0m \u001b[0mmaximun_runs\u001b[0m\u001b[0;34m)\u001b[0m\u001b[0;34m\u001b[0m\u001b[0;34m\u001b[0m\u001b[0m\n",
      "\u001b[0m\n"
     ]
    },
    {
     "name": "stdin",
     "output_type": "stream",
     "text": [
      "ipdb>  numbering\n"
     ]
    },
    {
     "name": "stdout",
     "output_type": "stream",
     "text": [
      "0\n"
     ]
    },
    {
     "name": "stdin",
     "output_type": "stream",
     "text": [
      "ipdb>  maximum_runs\n"
     ]
    },
    {
     "name": "stdout",
     "output_type": "stream",
     "text": [
      "*** NameError: name 'maximum_runs' is not defined\n"
     ]
    },
    {
     "name": "stdin",
     "output_type": "stream",
     "text": [
      "ipdb>  maximun_runs\n"
     ]
    },
    {
     "name": "stdout",
     "output_type": "stream",
     "text": [
      "4\n"
     ]
    },
    {
     "name": "stdin",
     "output_type": "stream",
     "text": [
      "ipdb>  n\n"
     ]
    },
    {
     "name": "stdout",
     "output_type": "stream",
     "text": [
      "> \u001b[0;32m/home/viskuit/OneDrive/Important/Universidad/Master_Bioinformatics_UOC/TFM/Proyecto_Leishmania/SIDER_RepetitiveSearcher/modules/blaster.py\u001b[0m(282)\u001b[0;36mrepetitive_blaster\u001b[0;34m()\u001b[0m\n",
      "\u001b[0;32m    279 \u001b[0;31m    \u001b[0;32mif\u001b[0m \u001b[0mnumbering\u001b[0m \u001b[0;34m==\u001b[0m \u001b[0mmaximun_runs\u001b[0m\u001b[0;34m:\u001b[0m\u001b[0;34m\u001b[0m\u001b[0;34m\u001b[0m\u001b[0m\n",
      "\u001b[0m\u001b[0;32m    280 \u001b[0;31m        \u001b[0mprint\u001b[0m\u001b[0;34m(\u001b[0m\u001b[0;34m\"\\n\\n\\nEND of PROGRAM\"\u001b[0m\u001b[0;34m)\u001b[0m\u001b[0;34m\u001b[0m\u001b[0;34m\u001b[0m\u001b[0m\n",
      "\u001b[0m\u001b[0;32m    281 \u001b[0;31m    \u001b[0;32mif\u001b[0m \u001b[0mnumbering\u001b[0m \u001b[0;34m<\u001b[0m \u001b[0mmaximun_runs\u001b[0m\u001b[0;34m:\u001b[0m\u001b[0;34m\u001b[0m\u001b[0;34m\u001b[0m\u001b[0m\n",
      "\u001b[0m\u001b[0;32m--> 282 \u001b[0;31m        \u001b[0mnumbering\u001b[0m \u001b[0;34m+=\u001b[0m \u001b[0;36m1\u001b[0m\u001b[0;34m\u001b[0m\u001b[0;34m\u001b[0m\u001b[0m\n",
      "\u001b[0m\u001b[0;32m    283 \u001b[0;31m        \u001b[0mrepetitive_blaster\u001b[0m\u001b[0;34m(\u001b[0m\u001b[0mgenome_fasta\u001b[0m\u001b[0;34m,\u001b[0m \u001b[0mpath_input\u001b[0m\u001b[0;34m,\u001b[0m \u001b[0mfolder_path\u001b[0m\u001b[0;34m,\u001b[0m \u001b[0mnaming_short\u001b[0m\u001b[0;34m,\u001b[0m \u001b[0mmax_diff\u001b[0m\u001b[0;34m,\u001b[0m \u001b[0mnumbering\u001b[0m\u001b[0;34m,\u001b[0m \u001b[0mmaximun_runs\u001b[0m\u001b[0;34m)\u001b[0m\u001b[0;34m\u001b[0m\u001b[0;34m\u001b[0m\u001b[0m\n",
      "\u001b[0m\n"
     ]
    },
    {
     "name": "stdin",
     "output_type": "stream",
     "text": [
      "ipdb>  n\n"
     ]
    },
    {
     "name": "stdout",
     "output_type": "stream",
     "text": [
      "> \u001b[0;32m/home/viskuit/OneDrive/Important/Universidad/Master_Bioinformatics_UOC/TFM/Proyecto_Leishmania/SIDER_RepetitiveSearcher/modules/blaster.py\u001b[0m(283)\u001b[0;36mrepetitive_blaster\u001b[0;34m()\u001b[0m\n",
      "\u001b[0;32m    279 \u001b[0;31m    \u001b[0;32mif\u001b[0m \u001b[0mnumbering\u001b[0m \u001b[0;34m==\u001b[0m \u001b[0mmaximun_runs\u001b[0m\u001b[0;34m:\u001b[0m\u001b[0;34m\u001b[0m\u001b[0;34m\u001b[0m\u001b[0m\n",
      "\u001b[0m\u001b[0;32m    280 \u001b[0;31m        \u001b[0mprint\u001b[0m\u001b[0;34m(\u001b[0m\u001b[0;34m\"\\n\\n\\nEND of PROGRAM\"\u001b[0m\u001b[0;34m)\u001b[0m\u001b[0;34m\u001b[0m\u001b[0;34m\u001b[0m\u001b[0m\n",
      "\u001b[0m\u001b[0;32m    281 \u001b[0;31m    \u001b[0;32mif\u001b[0m \u001b[0mnumbering\u001b[0m \u001b[0;34m<\u001b[0m \u001b[0mmaximun_runs\u001b[0m\u001b[0;34m:\u001b[0m\u001b[0;34m\u001b[0m\u001b[0;34m\u001b[0m\u001b[0m\n",
      "\u001b[0m\u001b[0;32m    282 \u001b[0;31m        \u001b[0mnumbering\u001b[0m \u001b[0;34m+=\u001b[0m \u001b[0;36m1\u001b[0m\u001b[0;34m\u001b[0m\u001b[0;34m\u001b[0m\u001b[0m\n",
      "\u001b[0m\u001b[0;32m--> 283 \u001b[0;31m        \u001b[0mrepetitive_blaster\u001b[0m\u001b[0;34m(\u001b[0m\u001b[0mgenome_fasta\u001b[0m\u001b[0;34m,\u001b[0m \u001b[0mpath_input\u001b[0m\u001b[0;34m,\u001b[0m \u001b[0mfolder_path\u001b[0m\u001b[0;34m,\u001b[0m \u001b[0mnaming_short\u001b[0m\u001b[0;34m,\u001b[0m \u001b[0mmax_diff\u001b[0m\u001b[0;34m,\u001b[0m \u001b[0mnumbering\u001b[0m\u001b[0;34m,\u001b[0m \u001b[0mmaximun_runs\u001b[0m\u001b[0;34m)\u001b[0m\u001b[0;34m\u001b[0m\u001b[0;34m\u001b[0m\u001b[0m\n",
      "\u001b[0m\n"
     ]
    },
    {
     "name": "stdin",
     "output_type": "stream",
     "text": [
      "ipdb>  n\n"
     ]
    },
    {
     "name": "stderr",
     "output_type": "stream",
     "text": [
      "Warning: [blastn] Query is Empty!\n"
     ]
    },
    {
     "name": "stdout",
     "output_type": "stream",
     "text": [
      "\n",
      "\n",
      "|==================================================|\n",
      "|                      RUN 1                       |\n",
      "|==================================================|\n",
      "\n",
      "\n",
      "\n",
      "Directory ../Prueba1/Second_Blast_Output/LinJ.02 already exists\n",
      "\n",
      "CSV: ../Prueba1/Second_Blast_Output/LinJ.02/LinJ.02.csv has been created.\n",
      "\n",
      "CSV: ../Prueba1/Second_Blast_Output/LinJ.02/LinJ.02_1000nt.csv has been created.\n",
      "\n",
      "Fasta created at: ../Prueba1/Second_Blast_Output/LinJ.02/LinJ.02_1000nt.fasta\n",
      "\n",
      "\n",
      "|==================================================|\n",
      "|         BLASTn Database creator started          |\n",
      "|==================================================|\n",
      "\n",
      "\n",
      "\n",
      "\n",
      "Building a new DB, current time: 05/18/2023 14:46:43\n",
      "New DB name:   /home/viskuit/OneDrive/Important/Universidad/Master_Bioinformatics_UOC/TFM/Proyecto_Leishmania/Prueba1/Second_Blast_Output/LinJ.02/LinJ.02_1000nt.fasta\n",
      "New DB title:  ../Prueba1/Second_Blast_Output/LinJ.02/LinJ.02_1000nt.fasta\n",
      "Sequence type: Nucleotide\n",
      "Deleted existing Nucleotide BLAST database named /home/viskuit/OneDrive/Important/Universidad/Master_Bioinformatics_UOC/TFM/Proyecto_Leishmania/Prueba1/Second_Blast_Output/LinJ.02/LinJ.02_1000nt.fasta\n",
      "Keep MBits: T\n",
      "Maximum file size: 1000000000B\n",
      "Adding sequences from FASTA; added 2 sequences in 0.000284195 seconds.\n",
      "\n",
      "\n",
      "\n",
      "Blast Dictionary created in ../Prueba1/Second_Blast_Output/LinJ.02/LinJ.02_1000nt.fasta\n",
      "\n",
      "\n",
      "|==================================================|\n",
      "|            BLASTn searcher initiated             |\n",
      "|==================================================|\n",
      "\n",
      "\n",
      "\n",
      "Blaster succesful ../Prueba1/Second_Blast_Output/LinJ.02/LinJ.02_1000nt_Blaster.csv created.\n",
      "\n",
      "\n",
      "|==================================================|\n",
      "\n",
      "Filtering columns proceeding:\n",
      "\n",
      "CSV: ../Prueba1/Second_Blast_Output/LinJ.02/LinJ.02_1000nt_Blaster.csv has been created.\n",
      "\n",
      "ALERT: individual Seq_1_LinJ.02_plus has no homology with no other seq, so it will not be added to the corrected seqs\n",
      "\n",
      "ALERT: individual Seq_2_LinJ.02_plus has no homology with no other seq, so it will not be added to the corrected seqs\n",
      "\n",
      "CSV: ../Prueba1/Second_Blast_Output/LinJ.02/LinJ.02_Corrected.csv has been created.\n",
      "\n",
      "Fasta created at: ../Prueba1/Second_Blast_Output/LinJ.02/LinJ.02_Corrected.fasta\n",
      "\n",
      "\n",
      "|==================================================|\n",
      "|            BLASTn searcher initiated             |\n",
      "|==================================================|\n",
      "\n",
      "\n",
      "\n",
      "Blaster succesful ../Prueba1/Second_Blast_Output/LinJ.02/LinJ.02_BLAST_MAIN.csv created.\n",
      "\n",
      "\n",
      "|==================================================|\n",
      "\n",
      "Filtering columns proceeding:\n",
      "\n",
      "CSV: ../Prueba1/Second_Blast_Output/LinJ.02/LinJ.02_BLAST_MAIN.csv has been created.\n",
      "\n",
      "\n",
      "|==================================================|\n",
      "\n",
      "Filtering dashes proceeding:\n",
      "\n",
      "CSV: ../Prueba1/Second_Blast_Output/LinJ.02/LinJ.02_BLAST_MAIN.csv has been created.\n",
      "\n",
      "\n",
      "|==================================================|\n",
      "\n",
      "Filtering duplicates proceeding:\n",
      "\n",
      "CSV: ../Prueba1/Second_Blast_Output/LinJ.02/LinJ.02_BLAST_MAIN.csv has been created.\n",
      "\n",
      "\n",
      "|==================================================|\n",
      "\n",
      "Filtering overlaps proceeding:\n",
      "\n",
      "CSV: ../Prueba1/Second_Blast_Output/LinJ.02/LinJ.02_BLAST_MAIN.csv has been created.\n",
      "\n",
      "CSV: ../Prueba1/Second_Blast_Output/MIXER.csv has been created.\n",
      "\n",
      "\n",
      "|==================================================|\n",
      "\n",
      "Filtering columns proceeding:\n",
      "\n",
      "CSV: ../Prueba1/Second_Blast_Output/MIXER.csv has been created.\n",
      "\n",
      "\n",
      "|==================================================|\n",
      "\n",
      "Filtering dashes proceeding:\n",
      "\n",
      "CSV: ../Prueba1/Second_Blast_Output/MIXER.csv has been created.\n",
      "\n",
      "\n",
      "|==================================================|\n",
      "\n",
      "Filtering duplicates proceeding:\n",
      "\n",
      "CSV: ../Prueba1/Second_Blast_Output/MIXER.csv has been created.\n",
      "\n",
      "\n",
      "|==================================================|\n",
      "\n",
      "Filtering overlaps proceeding:\n",
      "\n",
      "CSV: ../Prueba1/Second_Blast_Output/MIXER.csv has been created.\n",
      "> \u001b[0;32m/home/viskuit/OneDrive/Important/Universidad/Master_Bioinformatics_UOC/TFM/Proyecto_Leishmania/SIDER_RepetitiveSearcher/modules/blaster.py\u001b[0m(262)\u001b[0;36mrepetitive_blaster\u001b[0;34m()\u001b[0m\n",
      "\u001b[0;32m    260 \u001b[0;31m\u001b[0;34m\u001b[0m\u001b[0m\n",
      "\u001b[0m\u001b[0;32m    261 \u001b[0;31m    \u001b[0mpdb\u001b[0m\u001b[0;34m.\u001b[0m\u001b[0mset_trace\u001b[0m\u001b[0;34m(\u001b[0m\u001b[0;34m)\u001b[0m\u001b[0;34m\u001b[0m\u001b[0;34m\u001b[0m\u001b[0m\n",
      "\u001b[0m\u001b[0;32m--> 262 \u001b[0;31m    \u001b[0mfolder_output\u001b[0m \u001b[0;34m=\u001b[0m \u001b[0mfolder_path\u001b[0m \u001b[0;34m+\u001b[0m \u001b[0;34m\"RUNS\"\u001b[0m\u001b[0;34m\u001b[0m\u001b[0;34m\u001b[0m\u001b[0m\n",
      "\u001b[0m\u001b[0;32m    263 \u001b[0;31m    \u001b[0mfolder_creator\u001b[0m\u001b[0;34m(\u001b[0m\u001b[0mfolder_output\u001b[0m\u001b[0;34m)\u001b[0m\u001b[0;34m\u001b[0m\u001b[0;34m\u001b[0m\u001b[0m\n",
      "\u001b[0m\u001b[0;32m    264 \u001b[0;31m\u001b[0;34m\u001b[0m\u001b[0m\n",
      "\u001b[0m\n"
     ]
    },
    {
     "name": "stdin",
     "output_type": "stream",
     "text": [
      "ipdb>  c\n"
     ]
    },
    {
     "name": "stderr",
     "output_type": "stream",
     "text": [
      "Warning: [blastn] Query is Empty!\n"
     ]
    },
    {
     "name": "stdout",
     "output_type": "stream",
     "text": [
      "\n",
      "Directory ../Prueba1/Second_Blast_Output/RUNS already exists\n",
      "\n",
      "\n",
      "|==================================================|\n",
      "|                      RUN 2                       |\n",
      "|==================================================|\n",
      "\n",
      "\n",
      "\n",
      "Directory ../Prueba1/Second_Blast_Output/LinJ.02 already exists\n",
      "\n",
      "CSV: ../Prueba1/Second_Blast_Output/LinJ.02/LinJ.02.csv has been created.\n",
      "\n",
      "CSV: ../Prueba1/Second_Blast_Output/LinJ.02/LinJ.02_1000nt.csv has been created.\n",
      "\n",
      "Fasta created at: ../Prueba1/Second_Blast_Output/LinJ.02/LinJ.02_1000nt.fasta\n",
      "\n",
      "\n",
      "|==================================================|\n",
      "|         BLASTn Database creator started          |\n",
      "|==================================================|\n",
      "\n",
      "\n",
      "\n",
      "\n",
      "Building a new DB, current time: 05/18/2023 14:46:51\n",
      "New DB name:   /home/viskuit/OneDrive/Important/Universidad/Master_Bioinformatics_UOC/TFM/Proyecto_Leishmania/Prueba1/Second_Blast_Output/LinJ.02/LinJ.02_1000nt.fasta\n",
      "New DB title:  ../Prueba1/Second_Blast_Output/LinJ.02/LinJ.02_1000nt.fasta\n",
      "Sequence type: Nucleotide\n",
      "Deleted existing Nucleotide BLAST database named /home/viskuit/OneDrive/Important/Universidad/Master_Bioinformatics_UOC/TFM/Proyecto_Leishmania/Prueba1/Second_Blast_Output/LinJ.02/LinJ.02_1000nt.fasta\n",
      "Keep MBits: T\n",
      "Maximum file size: 1000000000B\n",
      "Adding sequences from FASTA; added 2 sequences in 0.000279903 seconds.\n",
      "\n",
      "\n",
      "\n",
      "Blast Dictionary created in ../Prueba1/Second_Blast_Output/LinJ.02/LinJ.02_1000nt.fasta\n",
      "\n",
      "\n",
      "|==================================================|\n",
      "|            BLASTn searcher initiated             |\n",
      "|==================================================|\n",
      "\n",
      "\n",
      "\n",
      "Blaster succesful ../Prueba1/Second_Blast_Output/LinJ.02/LinJ.02_1000nt_Blaster.csv created.\n",
      "\n",
      "\n",
      "|==================================================|\n",
      "\n",
      "Filtering columns proceeding:\n",
      "\n",
      "CSV: ../Prueba1/Second_Blast_Output/LinJ.02/LinJ.02_1000nt_Blaster.csv has been created.\n",
      "\n",
      "ALERT: individual Seq_1_LinJ.02_plus has no homology with no other seq, so it will not be added to the corrected seqs\n",
      "\n",
      "ALERT: individual Seq_2_LinJ.02_plus has no homology with no other seq, so it will not be added to the corrected seqs\n",
      "\n",
      "CSV: ../Prueba1/Second_Blast_Output/LinJ.02/LinJ.02_Corrected.csv has been created.\n",
      "\n",
      "Fasta created at: ../Prueba1/Second_Blast_Output/LinJ.02/LinJ.02_Corrected.fasta\n",
      "\n",
      "\n",
      "|==================================================|\n",
      "|            BLASTn searcher initiated             |\n",
      "|==================================================|\n",
      "\n",
      "\n",
      "\n",
      "Blaster succesful ../Prueba1/Second_Blast_Output/LinJ.02/LinJ.02_BLAST_MAIN.csv created.\n",
      "\n",
      "\n",
      "|==================================================|\n",
      "\n",
      "Filtering columns proceeding:\n",
      "\n",
      "CSV: ../Prueba1/Second_Blast_Output/LinJ.02/LinJ.02_BLAST_MAIN.csv has been created.\n",
      "\n",
      "\n",
      "|==================================================|\n",
      "\n",
      "Filtering dashes proceeding:\n",
      "\n",
      "CSV: ../Prueba1/Second_Blast_Output/LinJ.02/LinJ.02_BLAST_MAIN.csv has been created.\n",
      "\n",
      "\n",
      "|==================================================|\n",
      "\n",
      "Filtering duplicates proceeding:\n",
      "\n",
      "CSV: ../Prueba1/Second_Blast_Output/LinJ.02/LinJ.02_BLAST_MAIN.csv has been created.\n",
      "\n",
      "\n",
      "|==================================================|\n",
      "\n",
      "Filtering overlaps proceeding:\n",
      "\n",
      "CSV: ../Prueba1/Second_Blast_Output/LinJ.02/LinJ.02_BLAST_MAIN.csv has been created.\n",
      "\n",
      "CSV: ../Prueba1/Second_Blast_Output/MIXER.csv has been created.\n",
      "\n",
      "\n",
      "|==================================================|\n",
      "\n",
      "Filtering columns proceeding:\n",
      "\n",
      "CSV: ../Prueba1/Second_Blast_Output/MIXER.csv has been created.\n",
      "\n",
      "\n",
      "|==================================================|\n",
      "\n",
      "Filtering dashes proceeding:\n",
      "\n",
      "CSV: ../Prueba1/Second_Blast_Output/MIXER.csv has been created.\n",
      "\n",
      "\n",
      "|==================================================|\n",
      "\n",
      "Filtering duplicates proceeding:\n",
      "\n",
      "CSV: ../Prueba1/Second_Blast_Output/MIXER.csv has been created.\n",
      "\n",
      "\n",
      "|==================================================|\n",
      "\n",
      "Filtering overlaps proceeding:\n",
      "\n",
      "CSV: ../Prueba1/Second_Blast_Output/MIXER.csv has been created.\n",
      "> \u001b[0;32m/home/viskuit/OneDrive/Important/Universidad/Master_Bioinformatics_UOC/TFM/Proyecto_Leishmania/SIDER_RepetitiveSearcher/modules/blaster.py\u001b[0m(262)\u001b[0;36mrepetitive_blaster\u001b[0;34m()\u001b[0m\n",
      "\u001b[0;32m    260 \u001b[0;31m\u001b[0;34m\u001b[0m\u001b[0m\n",
      "\u001b[0m\u001b[0;32m    261 \u001b[0;31m    \u001b[0mpdb\u001b[0m\u001b[0;34m.\u001b[0m\u001b[0mset_trace\u001b[0m\u001b[0;34m(\u001b[0m\u001b[0;34m)\u001b[0m\u001b[0;34m\u001b[0m\u001b[0;34m\u001b[0m\u001b[0m\n",
      "\u001b[0m\u001b[0;32m--> 262 \u001b[0;31m    \u001b[0mfolder_output\u001b[0m \u001b[0;34m=\u001b[0m \u001b[0mfolder_path\u001b[0m \u001b[0;34m+\u001b[0m \u001b[0;34m\"RUNS\"\u001b[0m\u001b[0;34m\u001b[0m\u001b[0;34m\u001b[0m\u001b[0m\n",
      "\u001b[0m\u001b[0;32m    263 \u001b[0;31m    \u001b[0mfolder_creator\u001b[0m\u001b[0;34m(\u001b[0m\u001b[0mfolder_output\u001b[0m\u001b[0;34m)\u001b[0m\u001b[0;34m\u001b[0m\u001b[0;34m\u001b[0m\u001b[0m\n",
      "\u001b[0m\u001b[0;32m    264 \u001b[0;31m\u001b[0;34m\u001b[0m\u001b[0m\n",
      "\u001b[0m\n"
     ]
    },
    {
     "name": "stdin",
     "output_type": "stream",
     "text": [
      "ipdb>  c\n"
     ]
    },
    {
     "name": "stderr",
     "output_type": "stream",
     "text": [
      "Warning: [blastn] Query is Empty!\n"
     ]
    },
    {
     "name": "stdout",
     "output_type": "stream",
     "text": [
      "\n",
      "Directory ../Prueba1/Second_Blast_Output/RUNS already exists\n",
      "\n",
      "\n",
      "|==================================================|\n",
      "|                      RUN 3                       |\n",
      "|==================================================|\n",
      "\n",
      "\n",
      "\n",
      "Directory ../Prueba1/Second_Blast_Output/LinJ.02 already exists\n",
      "\n",
      "CSV: ../Prueba1/Second_Blast_Output/LinJ.02/LinJ.02.csv has been created.\n",
      "\n",
      "CSV: ../Prueba1/Second_Blast_Output/LinJ.02/LinJ.02_1000nt.csv has been created.\n",
      "\n",
      "Fasta created at: ../Prueba1/Second_Blast_Output/LinJ.02/LinJ.02_1000nt.fasta\n",
      "\n",
      "\n",
      "|==================================================|\n",
      "|         BLASTn Database creator started          |\n",
      "|==================================================|\n",
      "\n",
      "\n",
      "\n",
      "\n",
      "Building a new DB, current time: 05/18/2023 14:46:53\n",
      "New DB name:   /home/viskuit/OneDrive/Important/Universidad/Master_Bioinformatics_UOC/TFM/Proyecto_Leishmania/Prueba1/Second_Blast_Output/LinJ.02/LinJ.02_1000nt.fasta\n",
      "New DB title:  ../Prueba1/Second_Blast_Output/LinJ.02/LinJ.02_1000nt.fasta\n",
      "Sequence type: Nucleotide\n",
      "Deleted existing Nucleotide BLAST database named /home/viskuit/OneDrive/Important/Universidad/Master_Bioinformatics_UOC/TFM/Proyecto_Leishmania/Prueba1/Second_Blast_Output/LinJ.02/LinJ.02_1000nt.fasta\n",
      "Keep MBits: T\n",
      "Maximum file size: 1000000000B\n",
      "Adding sequences from FASTA; added 2 sequences in 0.000279903 seconds.\n",
      "\n",
      "\n",
      "\n",
      "Blast Dictionary created in ../Prueba1/Second_Blast_Output/LinJ.02/LinJ.02_1000nt.fasta\n",
      "\n",
      "\n",
      "|==================================================|\n",
      "|            BLASTn searcher initiated             |\n",
      "|==================================================|\n",
      "\n",
      "\n",
      "\n",
      "Blaster succesful ../Prueba1/Second_Blast_Output/LinJ.02/LinJ.02_1000nt_Blaster.csv created.\n",
      "\n",
      "\n",
      "|==================================================|\n",
      "\n",
      "Filtering columns proceeding:\n",
      "\n",
      "CSV: ../Prueba1/Second_Blast_Output/LinJ.02/LinJ.02_1000nt_Blaster.csv has been created.\n",
      "\n",
      "ALERT: individual Seq_1_LinJ.02_plus has no homology with no other seq, so it will not be added to the corrected seqs\n",
      "\n",
      "ALERT: individual Seq_2_LinJ.02_plus has no homology with no other seq, so it will not be added to the corrected seqs\n",
      "\n",
      "CSV: ../Prueba1/Second_Blast_Output/LinJ.02/LinJ.02_Corrected.csv has been created.\n",
      "\n",
      "Fasta created at: ../Prueba1/Second_Blast_Output/LinJ.02/LinJ.02_Corrected.fasta\n",
      "\n",
      "\n",
      "|==================================================|\n",
      "|            BLASTn searcher initiated             |\n",
      "|==================================================|\n",
      "\n",
      "\n",
      "\n",
      "Blaster succesful ../Prueba1/Second_Blast_Output/LinJ.02/LinJ.02_BLAST_MAIN.csv created.\n",
      "\n",
      "\n",
      "|==================================================|\n",
      "\n",
      "Filtering columns proceeding:\n",
      "\n",
      "CSV: ../Prueba1/Second_Blast_Output/LinJ.02/LinJ.02_BLAST_MAIN.csv has been created.\n",
      "\n",
      "\n",
      "|==================================================|\n",
      "\n",
      "Filtering dashes proceeding:\n",
      "\n",
      "CSV: ../Prueba1/Second_Blast_Output/LinJ.02/LinJ.02_BLAST_MAIN.csv has been created.\n",
      "\n",
      "\n",
      "|==================================================|\n",
      "\n",
      "Filtering duplicates proceeding:\n",
      "\n",
      "CSV: ../Prueba1/Second_Blast_Output/LinJ.02/LinJ.02_BLAST_MAIN.csv has been created.\n",
      "\n",
      "\n",
      "|==================================================|\n",
      "\n",
      "Filtering overlaps proceeding:\n",
      "\n",
      "CSV: ../Prueba1/Second_Blast_Output/LinJ.02/LinJ.02_BLAST_MAIN.csv has been created.\n",
      "\n",
      "CSV: ../Prueba1/Second_Blast_Output/MIXER.csv has been created.\n",
      "\n",
      "\n",
      "|==================================================|\n",
      "\n",
      "Filtering columns proceeding:\n",
      "\n",
      "CSV: ../Prueba1/Second_Blast_Output/MIXER.csv has been created.\n",
      "\n",
      "\n",
      "|==================================================|\n",
      "\n",
      "Filtering dashes proceeding:\n",
      "\n",
      "CSV: ../Prueba1/Second_Blast_Output/MIXER.csv has been created.\n",
      "\n",
      "\n",
      "|==================================================|\n",
      "\n",
      "Filtering duplicates proceeding:\n",
      "\n",
      "CSV: ../Prueba1/Second_Blast_Output/MIXER.csv has been created.\n",
      "\n",
      "\n",
      "|==================================================|\n",
      "\n",
      "Filtering overlaps proceeding:\n",
      "\n",
      "CSV: ../Prueba1/Second_Blast_Output/MIXER.csv has been created.\n",
      "> \u001b[0;32m/home/viskuit/OneDrive/Important/Universidad/Master_Bioinformatics_UOC/TFM/Proyecto_Leishmania/SIDER_RepetitiveSearcher/modules/blaster.py\u001b[0m(262)\u001b[0;36mrepetitive_blaster\u001b[0;34m()\u001b[0m\n",
      "\u001b[0;32m    260 \u001b[0;31m\u001b[0;34m\u001b[0m\u001b[0m\n",
      "\u001b[0m\u001b[0;32m    261 \u001b[0;31m    \u001b[0mpdb\u001b[0m\u001b[0;34m.\u001b[0m\u001b[0mset_trace\u001b[0m\u001b[0;34m(\u001b[0m\u001b[0;34m)\u001b[0m\u001b[0;34m\u001b[0m\u001b[0;34m\u001b[0m\u001b[0m\n",
      "\u001b[0m\u001b[0;32m--> 262 \u001b[0;31m    \u001b[0mfolder_output\u001b[0m \u001b[0;34m=\u001b[0m \u001b[0mfolder_path\u001b[0m \u001b[0;34m+\u001b[0m \u001b[0;34m\"RUNS\"\u001b[0m\u001b[0;34m\u001b[0m\u001b[0;34m\u001b[0m\u001b[0m\n",
      "\u001b[0m\u001b[0;32m    263 \u001b[0;31m    \u001b[0mfolder_creator\u001b[0m\u001b[0;34m(\u001b[0m\u001b[0mfolder_output\u001b[0m\u001b[0;34m)\u001b[0m\u001b[0;34m\u001b[0m\u001b[0;34m\u001b[0m\u001b[0m\n",
      "\u001b[0m\u001b[0;32m    264 \u001b[0;31m\u001b[0;34m\u001b[0m\u001b[0m\n",
      "\u001b[0m\n"
     ]
    },
    {
     "name": "stdin",
     "output_type": "stream",
     "text": [
      "ipdb>  c\n"
     ]
    },
    {
     "name": "stderr",
     "output_type": "stream",
     "text": [
      "Warning: [blastn] Query is Empty!\n"
     ]
    },
    {
     "name": "stdout",
     "output_type": "stream",
     "text": [
      "\n",
      "Directory ../Prueba1/Second_Blast_Output/RUNS already exists\n",
      "\n",
      "\n",
      "|==================================================|\n",
      "|                      RUN 4                       |\n",
      "|==================================================|\n",
      "\n",
      "\n",
      "\n",
      "Directory ../Prueba1/Second_Blast_Output/LinJ.02 already exists\n",
      "\n",
      "CSV: ../Prueba1/Second_Blast_Output/LinJ.02/LinJ.02.csv has been created.\n",
      "\n",
      "CSV: ../Prueba1/Second_Blast_Output/LinJ.02/LinJ.02_1000nt.csv has been created.\n",
      "\n",
      "Fasta created at: ../Prueba1/Second_Blast_Output/LinJ.02/LinJ.02_1000nt.fasta\n",
      "\n",
      "\n",
      "|==================================================|\n",
      "|         BLASTn Database creator started          |\n",
      "|==================================================|\n",
      "\n",
      "\n",
      "\n",
      "\n",
      "Building a new DB, current time: 05/18/2023 14:46:58\n",
      "New DB name:   /home/viskuit/OneDrive/Important/Universidad/Master_Bioinformatics_UOC/TFM/Proyecto_Leishmania/Prueba1/Second_Blast_Output/LinJ.02/LinJ.02_1000nt.fasta\n",
      "New DB title:  ../Prueba1/Second_Blast_Output/LinJ.02/LinJ.02_1000nt.fasta\n",
      "Sequence type: Nucleotide\n",
      "Deleted existing Nucleotide BLAST database named /home/viskuit/OneDrive/Important/Universidad/Master_Bioinformatics_UOC/TFM/Proyecto_Leishmania/Prueba1/Second_Blast_Output/LinJ.02/LinJ.02_1000nt.fasta\n",
      "Keep MBits: T\n",
      "Maximum file size: 1000000000B\n",
      "Adding sequences from FASTA; added 2 sequences in 0.000287056 seconds.\n",
      "\n",
      "\n",
      "\n",
      "Blast Dictionary created in ../Prueba1/Second_Blast_Output/LinJ.02/LinJ.02_1000nt.fasta\n",
      "\n",
      "\n",
      "|==================================================|\n",
      "|            BLASTn searcher initiated             |\n",
      "|==================================================|\n",
      "\n",
      "\n",
      "\n",
      "Blaster succesful ../Prueba1/Second_Blast_Output/LinJ.02/LinJ.02_1000nt_Blaster.csv created.\n",
      "\n",
      "\n",
      "|==================================================|\n",
      "\n",
      "Filtering columns proceeding:\n",
      "\n",
      "CSV: ../Prueba1/Second_Blast_Output/LinJ.02/LinJ.02_1000nt_Blaster.csv has been created.\n",
      "\n",
      "ALERT: individual Seq_1_LinJ.02_plus has no homology with no other seq, so it will not be added to the corrected seqs\n",
      "\n",
      "ALERT: individual Seq_2_LinJ.02_plus has no homology with no other seq, so it will not be added to the corrected seqs\n",
      "\n",
      "CSV: ../Prueba1/Second_Blast_Output/LinJ.02/LinJ.02_Corrected.csv has been created.\n",
      "\n",
      "Fasta created at: ../Prueba1/Second_Blast_Output/LinJ.02/LinJ.02_Corrected.fasta\n",
      "\n",
      "\n",
      "|==================================================|\n",
      "|            BLASTn searcher initiated             |\n",
      "|==================================================|\n",
      "\n",
      "\n",
      "\n",
      "Blaster succesful ../Prueba1/Second_Blast_Output/LinJ.02/LinJ.02_BLAST_MAIN.csv created.\n",
      "\n",
      "\n",
      "|==================================================|\n",
      "\n",
      "Filtering columns proceeding:\n",
      "\n",
      "CSV: ../Prueba1/Second_Blast_Output/LinJ.02/LinJ.02_BLAST_MAIN.csv has been created.\n",
      "\n",
      "\n",
      "|==================================================|\n",
      "\n",
      "Filtering dashes proceeding:\n",
      "\n",
      "CSV: ../Prueba1/Second_Blast_Output/LinJ.02/LinJ.02_BLAST_MAIN.csv has been created.\n",
      "\n",
      "\n",
      "|==================================================|\n",
      "\n",
      "Filtering duplicates proceeding:\n",
      "\n",
      "CSV: ../Prueba1/Second_Blast_Output/LinJ.02/LinJ.02_BLAST_MAIN.csv has been created.\n",
      "\n",
      "\n",
      "|==================================================|\n",
      "\n",
      "Filtering overlaps proceeding:\n",
      "\n",
      "CSV: ../Prueba1/Second_Blast_Output/LinJ.02/LinJ.02_BLAST_MAIN.csv has been created.\n",
      "\n",
      "CSV: ../Prueba1/Second_Blast_Output/MIXER.csv has been created.\n",
      "\n",
      "\n",
      "|==================================================|\n",
      "\n",
      "Filtering columns proceeding:\n",
      "\n",
      "CSV: ../Prueba1/Second_Blast_Output/MIXER.csv has been created.\n",
      "\n",
      "\n",
      "|==================================================|\n",
      "\n",
      "Filtering dashes proceeding:\n",
      "\n",
      "CSV: ../Prueba1/Second_Blast_Output/MIXER.csv has been created.\n",
      "\n",
      "\n",
      "|==================================================|\n",
      "\n",
      "Filtering duplicates proceeding:\n",
      "\n",
      "CSV: ../Prueba1/Second_Blast_Output/MIXER.csv has been created.\n",
      "\n",
      "\n",
      "|==================================================|\n",
      "\n",
      "Filtering overlaps proceeding:\n",
      "\n",
      "CSV: ../Prueba1/Second_Blast_Output/MIXER.csv has been created.\n",
      "> \u001b[0;32m/home/viskuit/OneDrive/Important/Universidad/Master_Bioinformatics_UOC/TFM/Proyecto_Leishmania/SIDER_RepetitiveSearcher/modules/blaster.py\u001b[0m(262)\u001b[0;36mrepetitive_blaster\u001b[0;34m()\u001b[0m\n",
      "\u001b[0;32m    260 \u001b[0;31m\u001b[0;34m\u001b[0m\u001b[0m\n",
      "\u001b[0m\u001b[0;32m    261 \u001b[0;31m    \u001b[0mpdb\u001b[0m\u001b[0;34m.\u001b[0m\u001b[0mset_trace\u001b[0m\u001b[0;34m(\u001b[0m\u001b[0;34m)\u001b[0m\u001b[0;34m\u001b[0m\u001b[0;34m\u001b[0m\u001b[0m\n",
      "\u001b[0m\u001b[0;32m--> 262 \u001b[0;31m    \u001b[0mfolder_output\u001b[0m \u001b[0;34m=\u001b[0m \u001b[0mfolder_path\u001b[0m \u001b[0;34m+\u001b[0m \u001b[0;34m\"RUNS\"\u001b[0m\u001b[0;34m\u001b[0m\u001b[0;34m\u001b[0m\u001b[0m\n",
      "\u001b[0m\u001b[0;32m    263 \u001b[0;31m    \u001b[0mfolder_creator\u001b[0m\u001b[0;34m(\u001b[0m\u001b[0mfolder_output\u001b[0m\u001b[0;34m)\u001b[0m\u001b[0;34m\u001b[0m\u001b[0;34m\u001b[0m\u001b[0m\n",
      "\u001b[0m\u001b[0;32m    264 \u001b[0;31m\u001b[0;34m\u001b[0m\u001b[0m\n",
      "\u001b[0m\n"
     ]
    },
    {
     "name": "stdin",
     "output_type": "stream",
     "text": [
      "ipdb>  c\n"
     ]
    },
    {
     "name": "stdout",
     "output_type": "stream",
     "text": [
      "\n",
      "Directory ../Prueba1/Second_Blast_Output/RUNS already exists\n",
      "\n",
      "\n",
      "\n",
      "END of PROGRAM\n"
     ]
    }
   ],
   "source": [
    "import pdb\n",
    "repetitive_blaster(\"../Prueba1/LinJ_cbm_v2_Crom_2-3.fasta\",\n",
    "                   \"../Prueba1/First_Blast_Output/First_Blaster.csv\",\n",
    "                   \"../Prueba1/Second_Blast_Output/\",\n",
    "                   \"LinJ\",\n",
    "                   600,\n",
    "                   0,\n",
    "                   4\n",
    ")"
   ]
  },
  {
   "cell_type": "code",
   "execution_count": 44,
   "id": "2e7918ac-9956-4c60-a9b4-68133f3e12f1",
   "metadata": {},
   "outputs": [],
   "source": [
    "from pathlib import Path\n",
    "path_input = \"../Prueba1/First_Blast_Output/First_Blaster.csv\"\n",
    "first_backup = Path(path_input)\n",
    "first_backup2 = str(first_backup.parents[0]) + \"/\" + first_backup.with_suffix(\"\").name + \"_backup.csv\""
   ]
  },
  {
   "cell_type": "code",
   "execution_count": 45,
   "id": "ef631a0c-b539-42f5-b62b-c3e880480cf1",
   "metadata": {},
   "outputs": [
    {
     "data": {
      "text/plain": [
       "'../Prueba1/First_Blast_Output/First_Blaster_backup.csv'"
      ]
     },
     "execution_count": 45,
     "metadata": {},
     "output_type": "execute_result"
    }
   ],
   "source": [
    "first_backup2"
   ]
  }
 ],
 "metadata": {
  "kernelspec": {
   "display_name": "Python 3 (ipykernel)",
   "language": "python",
   "name": "python3"
  },
  "language_info": {
   "codemirror_mode": {
    "name": "ipython",
    "version": 3
   },
   "file_extension": ".py",
   "mimetype": "text/x-python",
   "name": "python",
   "nbconvert_exporter": "python",
   "pygments_lexer": "ipython3",
   "version": "3.10.9"
  }
 },
 "nbformat": 4,
 "nbformat_minor": 5
}
