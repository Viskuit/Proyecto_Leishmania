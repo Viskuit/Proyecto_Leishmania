{
 "cells": [
  {
   "cell_type": "code",
   "execution_count": 4,
   "id": "ed3d68a8-7092-40c3-97d0-8cb1555d1984",
   "metadata": {},
   "outputs": [
    {
     "name": "stdout",
     "output_type": "stream",
     "text": [
      "The autoreload extension is already loaded. To reload it, use:\n",
      "  %reload_ext autoreload\n"
     ]
    }
   ],
   "source": [
    "import pdb\n",
    "import os\n",
    "import csv\n",
    "import sys\n",
    "import importlib\n",
    "from Bio import SeqIO\n",
    "\n",
    "%load_ext autoreload\n",
    "%autoreload 2\n",
    "from modules.blaster import blastn_dic, blastn_blaster, repetitive_blaster\n",
    "\n",
    "# print([x for x in dir() if not x.startswith(\"_\")])"
   ]
  },
  {
   "cell_type": "code",
   "execution_count": 23,
   "id": "80619b02-424d-416f-9e4f-c6a96acae3b1",
   "metadata": {},
   "outputs": [
    {
     "name": "stdout",
     "output_type": "stream",
     "text": [
      "In\n",
      "NamespaceMagics\n",
      "Out\n",
      "SeqIO\n",
      "blastn_blaster\n",
      "blastn_dic\n",
      "boxymcboxface\n",
      "csv\n",
      "exit\n",
      "get_ipython\n",
      "json\n",
      "open\n",
      "os\n",
      "pdb\n",
      "quit\n",
      "repetitive_blaster\n",
      "sys\n"
     ]
    }
   ],
   "source": [
    "print(\"\\n\".join([x for x in dir() if not x.startswith(\"_\")]))"
   ]
  },
  {
   "cell_type": "code",
   "execution_count": 31,
   "id": "e1f09c0c-ef89-4bd5-be54-b04bb57288f7",
   "metadata": {},
   "outputs": [
    {
     "ename": "KeyError",
     "evalue": "'module.blaster'",
     "output_type": "error",
     "traceback": [
      "\u001b[0;31m---------------------------------------------------------------------------\u001b[0m",
      "\u001b[0;31mKeyError\u001b[0m                                  Traceback (most recent call last)",
      "Cell \u001b[0;32mIn[31], line 1\u001b[0m\n\u001b[0;32m----> 1\u001b[0m importlib\u001b[38;5;241m.\u001b[39mreload(\u001b[43msys\u001b[49m\u001b[38;5;241;43m.\u001b[39;49m\u001b[43mmodules\u001b[49m\u001b[43m[\u001b[49m\u001b[38;5;124;43m\"\u001b[39;49m\u001b[38;5;124;43mmodule.blaster\u001b[39;49m\u001b[38;5;124;43m\"\u001b[39;49m\u001b[43m]\u001b[49m)\n",
      "\u001b[0;31mKeyError\u001b[0m: 'module.blaster'"
     ]
    }
   ],
   "source": [
    "importlib.reload(sys.modules[\"module.blaster\"])"
   ]
  },
  {
   "cell_type": "code",
   "execution_count": null,
   "id": "1a130030-0ab6-4752-b2a9-f1f459d19391",
   "metadata": {},
   "outputs": [],
   "source": [
    "sys.modules"
   ]
  },
  {
   "cell_type": "code",
   "execution_count": 5,
   "id": "190d0919-0938-41f9-ade6-75be8f428725",
   "metadata": {},
   "outputs": [
    {
     "name": "stdout",
     "output_type": "stream",
     "text": [
      "\n",
      "\n",
      "|==================================================|\n",
      "|         BLASTn Database creator started          |\n",
      "|==================================================|\n",
      "\n",
      "\n",
      "\n",
      "\n",
      "Building a new DB, current time: 05/17/2023 19:47:03\n",
      "New DB name:   /home/viskuit/OneDrive/Important/Universidad/Master_Bioinformatics_UOC/TFM/Proyecto_Leishmania/Prueba1/LinJ_cbm_v2_Crom_2-3.fasta\n",
      "New DB title:  ../Prueba1/LinJ_cbm_v2_Crom_2-3.fasta\n",
      "Sequence type: Nucleotide\n",
      "Keep MBits: T\n",
      "Maximum file size: 1000000000B\n",
      "Adding sequences from FASTA; added 2 sequences in 0.00761294 seconds.\n",
      "\n",
      "\n",
      "\n",
      "Blast Dictionary created in ../Prueba1/LinJ_cbm_v2_Crom_2-3.fasta\n"
     ]
    }
   ],
   "source": [
    "blastn_dic(\"../Prueba1/LinJ_cbm_v2_Crom_2-3.fasta\")"
   ]
  },
  {
   "cell_type": "code",
   "execution_count": 6,
   "id": "ebf43f0a-58b0-491b-8214-690983126add",
   "metadata": {},
   "outputs": [
    {
     "name": "stdout",
     "output_type": "stream",
     "text": [
      "\n",
      "\n",
      "|==================================================|\n",
      "|            BLASTn searcher initiated             |\n",
      "|==================================================|\n",
      "\n",
      "\n",
      "\n",
      "Blaster succesful ../Prueba1/First_Blast_Output/First_Blaster.csv created.\n"
     ]
    }
   ],
   "source": [
    "blastn_blaster(\"../Prueba1/SIDER2_Chr1_L_Infantum.fasta\",\n",
    "               \"../Prueba1/LinJ_cbm_v2_Crom_2-3.fasta\",\n",
    "               \"../Prueba1/First_Blast_Output/First_Blaster.csv\",\n",
    "               60\n",
    ")"
   ]
  },
  {
   "cell_type": "code",
   "execution_count": 8,
   "id": "05712612-cb46-4eca-856e-c18c98f08187",
   "metadata": {},
   "outputs": [
    {
     "data": {
      "text/plain": [
       "47"
      ]
     },
     "execution_count": 8,
     "metadata": {},
     "output_type": "execute_result"
    }
   ],
   "source": [
    "len(\"../Prueba1/First_Blast_Output/First_Blaster.csv\")"
   ]
  },
  {
   "cell_type": "code",
   "execution_count": null,
   "id": "49ee1a5e-fa38-499d-bf6c-f2aab69ef8c2",
   "metadata": {},
   "outputs": [
    {
     "name": "stdout",
     "output_type": "stream",
     "text": [
      "\n",
      "\n",
      "|==================================================|\n",
      "|                      RUN 0                       |\n",
      "|==================================================|\n",
      "\n",
      "\n",
      "> \u001b[0;32m/home/viskuit/OneDrive/Important/Universidad/Master_Bioinformatics_UOC/TFM/Proyecto_Leishmania/SIDER_RepetitiveSearcher/modules/blaster.py\u001b[0m(242)\u001b[0;36mrepetitive_blaster\u001b[0;34m()\u001b[0m\n",
      "\u001b[0;32m    240 \u001b[0;31m    \u001b[0;31m# -----------------------------------------------------------------------------\u001b[0m\u001b[0;34m\u001b[0m\u001b[0;34m\u001b[0m\u001b[0m\n",
      "\u001b[0m\u001b[0;32m    241 \u001b[0;31m    \u001b[0mpdb\u001b[0m\u001b[0;34m.\u001b[0m\u001b[0mset_trace\u001b[0m\u001b[0;34m(\u001b[0m\u001b[0;34m)\u001b[0m\u001b[0;34m\u001b[0m\u001b[0;34m\u001b[0m\u001b[0m\n",
      "\u001b[0m\u001b[0;32m--> 242 \u001b[0;31m    \u001b[0;32mfor\u001b[0m \u001b[0mchromosome_ID\u001b[0m \u001b[0;32min\u001b[0m \u001b[0mchr_in_objetive\u001b[0m\u001b[0;34m:\u001b[0m\u001b[0;34m\u001b[0m\u001b[0;34m\u001b[0m\u001b[0m\n",
      "\u001b[0m\u001b[0;32m    243 \u001b[0;31m        \u001b[0;31m# if chromosome_ID != \"LinJ.01\":  # In case we'll need to delete searches of a special chromosome\u001b[0m\u001b[0;34m\u001b[0m\u001b[0;34m\u001b[0m\u001b[0m\n",
      "\u001b[0m\u001b[0;32m    244 \u001b[0;31m        genome_specific_chromosome_main(path_input,\n",
      "\u001b[0m\n"
     ]
    },
    {
     "name": "stdin",
     "output_type": "stream",
     "text": [
      "ipdb>  c\n"
     ]
    },
    {
     "name": "stdout",
     "output_type": "stream",
     "text": [
      "\n",
      "Directory ../Prueba1/Second_Blast_Output/LinJ.02 already exists\n",
      "> \u001b[0;32m/home/viskuit/OneDrive/Important/Universidad/Master_Bioinformatics_UOC/TFM/Proyecto_Leishmania/SIDER_RepetitiveSearcher/modules/identifiers.py\u001b[0m(52)\u001b[0;36mspecific_sequence_extractor\u001b[0;34m()\u001b[0m\n",
      "\u001b[0;32m     50 \u001b[0;31m    \u001b[0;31m# In the folder, writing ouput for the CSV file\u001b[0m\u001b[0;34m\u001b[0m\u001b[0;34m\u001b[0m\u001b[0m\n",
      "\u001b[0m\u001b[0;32m     51 \u001b[0;31m    \u001b[0mpdb\u001b[0m\u001b[0;34m.\u001b[0m\u001b[0mset_trace\u001b[0m\u001b[0;34m(\u001b[0m\u001b[0;34m)\u001b[0m\u001b[0;34m\u001b[0m\u001b[0;34m\u001b[0m\u001b[0m\n",
      "\u001b[0m\u001b[0;32m---> 52 \u001b[0;31m    \u001b[0mwriting_path_input\u001b[0m \u001b[0;34m=\u001b[0m \u001b[0mmain_folder_path\u001b[0m \u001b[0;34m+\u001b[0m \u001b[0mchromosome_ID\u001b[0m \u001b[0;34m+\u001b[0m \u001b[0;34m\"/\"\u001b[0m \u001b[0;34m+\u001b[0m \u001b[0mchromosome_ID\u001b[0m \u001b[0;34m+\u001b[0m \u001b[0;34m\".csv\"\u001b[0m\u001b[0;34m\u001b[0m\u001b[0;34m\u001b[0m\u001b[0m\n",
      "\u001b[0m\u001b[0;32m     53 \u001b[0;31m    \u001b[0mcsv_creator\u001b[0m\u001b[0;34m(\u001b[0m\u001b[0mwriting_path_input\u001b[0m\u001b[0;34m,\u001b[0m \u001b[0mchr_x_seqs\u001b[0m\u001b[0;34m)\u001b[0m\u001b[0;34m\u001b[0m\u001b[0;34m\u001b[0m\u001b[0m\n",
      "\u001b[0m\u001b[0;32m     54 \u001b[0;31m\u001b[0;34m\u001b[0m\u001b[0m\n",
      "\u001b[0m\n"
     ]
    },
    {
     "name": "stdin",
     "output_type": "stream",
     "text": [
      "ipdb>  c\n"
     ]
    },
    {
     "name": "stdout",
     "output_type": "stream",
     "text": [
      "\n",
      "CSV: ../Prueba1/Second_Blast_Output/LinJ.02/LinJ.02.csv has been created.\n",
      "\n",
      "CSV: ../Prueba1/Second_Blast_Output/LinJ.02/LinJ.02_1000nt.csv has been created.\n",
      "\n",
      "Fasta created at: ../Prueba1/Second_Blast_Output/LinJ.02/LinJ.02_1000nt.fasta\n",
      "> \u001b[0;32m/home/viskuit/OneDrive/Important/Universidad/Master_Bioinformatics_UOC/TFM/Proyecto_Leishmania/SIDER_RepetitiveSearcher/modules/identifiers.py\u001b[0m(99)\u001b[0;36mgenome_specific_chromosome_main\u001b[0;34m()\u001b[0m\n",
      "\u001b[0;32m     97 \u001b[0;31m\u001b[0;34m\u001b[0m\u001b[0m\n",
      "\u001b[0m\u001b[0;32m     98 \u001b[0;31m    \u001b[0mpdb\u001b[0m\u001b[0;34m.\u001b[0m\u001b[0mset_trace\u001b[0m\u001b[0;34m(\u001b[0m\u001b[0;34m)\u001b[0m\u001b[0;34m\u001b[0m\u001b[0;34m\u001b[0m\u001b[0m\n",
      "\u001b[0m\u001b[0;32m---> 99 \u001b[0;31m    \u001b[0mblastn_dic\u001b[0m\u001b[0;34m(\u001b[0m\u001b[0mfasta_creator_output\u001b[0m\u001b[0;34m)\u001b[0m\u001b[0;34m\u001b[0m\u001b[0;34m\u001b[0m\u001b[0m\n",
      "\u001b[0m\u001b[0;32m    100 \u001b[0;31m\u001b[0;34m\u001b[0m\u001b[0m\n",
      "\u001b[0m\u001b[0;32m    101 \u001b[0;31m    \u001b[0mblaster_output\u001b[0m \u001b[0;34m=\u001b[0m \u001b[0mmain_folder_path\u001b[0m \u001b[0;34m+\u001b[0m \u001b[0mchromosome_ID\u001b[0m \u001b[0;34m+\u001b[0m \u001b[0;34m\"/\"\u001b[0m \u001b[0;34m+\u001b[0m \u001b[0mchromosome_ID\u001b[0m \u001b[0;34m+\u001b[0m \u001b[0;34m\"_1000nt_Blaster.csv\"\u001b[0m\u001b[0;34m\u001b[0m\u001b[0;34m\u001b[0m\u001b[0m\n",
      "\u001b[0m\n"
     ]
    },
    {
     "name": "stdin",
     "output_type": "stream",
     "text": [
      "ipdb>  l\n"
     ]
    },
    {
     "name": "stdout",
     "output_type": "stream",
     "text": [
      "\u001b[1;32m     94 \u001b[0m\u001b[0;34m\u001b[0m\u001b[0m\n",
      "\u001b[1;32m     95 \u001b[0m    \u001b[0mfasta_creator_output\u001b[0m \u001b[0;34m=\u001b[0m \u001b[0mmain_folder_path\u001b[0m \u001b[0;34m+\u001b[0m \u001b[0mchromosome_ID\u001b[0m \u001b[0;34m+\u001b[0m \u001b[0;34m\"/\"\u001b[0m \u001b[0;34m+\u001b[0m \u001b[0mchromosome_ID\u001b[0m \u001b[0;34m+\u001b[0m \u001b[0;34m\"_1000nt.fasta\"\u001b[0m\u001b[0;34m\u001b[0m\u001b[0;34m\u001b[0m\u001b[0m\n",
      "\u001b[1;32m     96 \u001b[0m    \u001b[0mfasta_creator\u001b[0m\u001b[0;34m(\u001b[0m\u001b[0mnucleotides1000_directory\u001b[0m\u001b[0;34m,\u001b[0m \u001b[0mfasta_creator_output\u001b[0m\u001b[0;34m)\u001b[0m\u001b[0;34m\u001b[0m\u001b[0;34m\u001b[0m\u001b[0m\n",
      "\u001b[1;32m     97 \u001b[0m\u001b[0;34m\u001b[0m\u001b[0m\n",
      "\u001b[1;32m     98 \u001b[0m    \u001b[0mpdb\u001b[0m\u001b[0;34m.\u001b[0m\u001b[0mset_trace\u001b[0m\u001b[0;34m(\u001b[0m\u001b[0;34m)\u001b[0m\u001b[0;34m\u001b[0m\u001b[0;34m\u001b[0m\u001b[0m\n",
      "\u001b[0;32m---> 99 \u001b[0;31m    \u001b[0mblastn_dic\u001b[0m\u001b[0;34m(\u001b[0m\u001b[0mfasta_creator_output\u001b[0m\u001b[0;34m)\u001b[0m\u001b[0;34m\u001b[0m\u001b[0;34m\u001b[0m\u001b[0m\n",
      "\u001b[0m\u001b[1;32m    100 \u001b[0m\u001b[0;34m\u001b[0m\u001b[0m\n",
      "\u001b[1;32m    101 \u001b[0m    \u001b[0mblaster_output\u001b[0m \u001b[0;34m=\u001b[0m \u001b[0mmain_folder_path\u001b[0m \u001b[0;34m+\u001b[0m \u001b[0mchromosome_ID\u001b[0m \u001b[0;34m+\u001b[0m \u001b[0;34m\"/\"\u001b[0m \u001b[0;34m+\u001b[0m \u001b[0mchromosome_ID\u001b[0m \u001b[0;34m+\u001b[0m \u001b[0;34m\"_1000nt_Blaster.csv\"\u001b[0m\u001b[0;34m\u001b[0m\u001b[0;34m\u001b[0m\u001b[0m\n",
      "\u001b[1;32m    102 \u001b[0m    blastn_blaster(fasta_creator_output,  # They are the same\n",
      "\u001b[1;32m    103 \u001b[0m                   \u001b[0mfasta_creator_output\u001b[0m\u001b[0;34m,\u001b[0m  \u001b[0;31m# Because we are launching one against each other --> this way we'll get the correc coordinates in the future.\u001b[0m\u001b[0;34m\u001b[0m\u001b[0;34m\u001b[0m\u001b[0m\n",
      "\u001b[1;32m    104 \u001b[0m                   \u001b[0mblaster_output\u001b[0m\u001b[0;34m,\u001b[0m\u001b[0;34m\u001b[0m\u001b[0;34m\u001b[0m\u001b[0m\n",
      "\n"
     ]
    },
    {
     "name": "stdin",
     "output_type": "stream",
     "text": [
      "ipdb>  fasta_creator_output\n"
     ]
    },
    {
     "name": "stdout",
     "output_type": "stream",
     "text": [
      "'../Prueba1/Second_Blast_Output/LinJ.02/LinJ.02_1000nt.fasta'\n"
     ]
    },
    {
     "name": "stdin",
     "output_type": "stream",
     "text": [
      "ipdb>  n\n"
     ]
    },
    {
     "name": "stdout",
     "output_type": "stream",
     "text": [
      "\n",
      "\n",
      "|==================================================|\n",
      "|         BLASTn Database creator started          |\n",
      "|==================================================|\n",
      "\n",
      "\n",
      "\n",
      "\n",
      "Building a new DB, current time: 05/17/2023 21:24:30\n",
      "New DB name:   /home/viskuit/OneDrive/Important/Universidad/Master_Bioinformatics_UOC/TFM/Proyecto_Leishmania/Prueba1/Second_Blast_Output/LinJ.02/LinJ.02_1000nt.fasta\n",
      "New DB title:  ../Prueba1/Second_Blast_Output/LinJ.02/LinJ.02_1000nt.fasta\n",
      "Sequence type: Nucleotide\n",
      "Keep MBits: T\n",
      "Maximum file size: 1000000000B\n",
      "Adding sequences from FASTA; added 32 sequences in 0.000726938 seconds.\n",
      "\n",
      "\n",
      "\n",
      "Blast Dictionary created in ../Prueba1/Second_Blast_Output/LinJ.02/LinJ.02_1000nt.fasta\n",
      "> \u001b[0;32m/home/viskuit/OneDrive/Important/Universidad/Master_Bioinformatics_UOC/TFM/Proyecto_Leishmania/SIDER_RepetitiveSearcher/modules/identifiers.py\u001b[0m(101)\u001b[0;36mgenome_specific_chromosome_main\u001b[0;34m()\u001b[0m\n",
      "\u001b[0;32m     99 \u001b[0;31m    \u001b[0mblastn_dic\u001b[0m\u001b[0;34m(\u001b[0m\u001b[0mfasta_creator_output\u001b[0m\u001b[0;34m)\u001b[0m\u001b[0;34m\u001b[0m\u001b[0;34m\u001b[0m\u001b[0m\n",
      "\u001b[0m\u001b[0;32m    100 \u001b[0;31m\u001b[0;34m\u001b[0m\u001b[0m\n",
      "\u001b[0m\u001b[0;32m--> 101 \u001b[0;31m    \u001b[0mblaster_output\u001b[0m \u001b[0;34m=\u001b[0m \u001b[0mmain_folder_path\u001b[0m \u001b[0;34m+\u001b[0m \u001b[0mchromosome_ID\u001b[0m \u001b[0;34m+\u001b[0m \u001b[0;34m\"/\"\u001b[0m \u001b[0;34m+\u001b[0m \u001b[0mchromosome_ID\u001b[0m \u001b[0;34m+\u001b[0m \u001b[0;34m\"_1000nt_Blaster.csv\"\u001b[0m\u001b[0;34m\u001b[0m\u001b[0;34m\u001b[0m\u001b[0m\n",
      "\u001b[0m\u001b[0;32m    102 \u001b[0;31m    blastn_blaster(fasta_creator_output,  # They are the same\n",
      "\u001b[0m\u001b[0;32m    103 \u001b[0;31m                   \u001b[0mfasta_creator_output\u001b[0m\u001b[0;34m,\u001b[0m  \u001b[0;31m# Because we are launching one against each other --> this way we'll get the correc coordinates in the future.\u001b[0m\u001b[0;34m\u001b[0m\u001b[0;34m\u001b[0m\u001b[0m\n",
      "\u001b[0m\n"
     ]
    }
   ],
   "source": [
    "import pdb\n",
    "repetitive_blaster(\"../Prueba1/LinJ_cbm_v2_Crom_2-3.fasta\",\n",
    "                   \"../Prueba1/First_Blast_Output/First_Blaster.csv\",\n",
    "                   \"../Prueba1/Second_Blast_Output/\",\n",
    "                   \"LinJ\",\n",
    "                   600,\n",
    "                   0,\n",
    "                   4\n",
    ")"
   ]
  },
  {
   "cell_type": "code",
   "execution_count": null,
   "id": "060684c4-b5ce-406f-a3de-51a0814c04bc",
   "metadata": {},
   "outputs": [],
   "source": []
  }
 ],
 "metadata": {
  "kernelspec": {
   "display_name": "Python 3 (ipykernel)",
   "language": "python",
   "name": "python3"
  },
  "language_info": {
   "codemirror_mode": {
    "name": "ipython",
    "version": 3
   },
   "file_extension": ".py",
   "mimetype": "text/x-python",
   "name": "python",
   "nbconvert_exporter": "python",
   "pygments_lexer": "ipython3",
   "version": "3.10.9"
  }
 },
 "nbformat": 4,
 "nbformat_minor": 5
}
