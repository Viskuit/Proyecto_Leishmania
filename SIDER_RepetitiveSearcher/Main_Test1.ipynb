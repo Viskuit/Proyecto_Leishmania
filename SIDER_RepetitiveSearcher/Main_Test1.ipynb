{
 "cells": [
  {
   "cell_type": "code",
   "execution_count": 27,
   "id": "f8f0d0c1-ee2c-4964-8c42-29442f633cc8",
   "metadata": {},
   "outputs": [],
   "source": [
    "import argparse\n",
    "import sys\n",
    "import modules.Module_Test1"
   ]
  },
  {
   "cell_type": "code",
   "execution_count": 21,
   "id": "8271913f-5be1-43c0-b92d-01cca71dc1aa",
   "metadata": {},
   "outputs": [],
   "source": [
    "# Initiate parser\n",
    "parser = argparse.ArgumentParser()\n",
    "\n",
    "# Initiate subaparser\n",
    "subparsers = parser.add_subparsers()\n",
    "\n",
    "subparser_test1 = subparsers.add_parser(\n",
    "    \"Test parser\",\n",
    "    help=\"This is just a test for a parser\",\n",
    "    description=\"Just a test\"\n",
    ")\n",
    "\n",
    "subparser_test1.add_argument(\"--file_name\", required=True,\n",
    "                             help=\"create path2\")\n",
    "subparser_test1.set_defaults(func=modules.Module_Test1.folder_creator)"
   ]
  },
  {
   "cell_type": "code",
   "execution_count": 9,
   "id": "ceea4548-e299-45be-93b2-66fe3335a1b8",
   "metadata": {},
   "outputs": [
    {
     "name": "stdout",
     "output_type": "stream",
     "text": [
      "/home/viskuit/OneDrive/Important/Universidad/Master_Bioinformatics_UOC/TFM/Proyecto_Leishmania/SIDER-RepetitiveSearcher\n"
     ]
    }
   ],
   "source": [
    "!pwd"
   ]
  },
  {
   "cell_type": "code",
   "execution_count": 22,
   "id": "4c636408-8b06-4db9-82cf-5dd05a0554f0",
   "metadata": {},
   "outputs": [],
   "source": [
    "help_options = ('--help_format',\n",
    "                '--help_project',\n",
    "                '--help_trimm_adapters',\n",
    "                '--help_RNAbiotype',\n",
    "                '--help_multiqc')"
   ]
  },
  {
   "cell_type": "code",
   "execution_count": 24,
   "id": "580993ae-b1e2-4f2c-a394-effc6a1659d5",
   "metadata": {},
   "outputs": [],
   "source": [
    "required= not any(elem in help_options for elem in sys.argv)"
   ]
  },
  {
   "cell_type": "code",
   "execution_count": 25,
   "id": "adbf64df-07d0-4a01-baea-e7d86a289a20",
   "metadata": {},
   "outputs": [
    {
     "data": {
      "text/plain": [
       "True"
      ]
     },
     "execution_count": 25,
     "metadata": {},
     "output_type": "execute_result"
    }
   ],
   "source": [
    "required"
   ]
  },
  {
   "cell_type": "code",
   "execution_count": 31,
   "id": "0870fd63-82fe-48bc-bc03-06bcf5ee56d1",
   "metadata": {},
   "outputs": [
    {
     "data": {
      "text/plain": [
       "False"
      ]
     },
     "execution_count": 31,
     "metadata": {},
     "output_type": "execute_result"
    }
   ],
   "source": [
    "any(elem in help_options for elem in sys.argv)"
   ]
  },
  {
   "cell_type": "code",
   "execution_count": 35,
   "id": "01b13448-5c72-4f60-a59e-7a8c7af551d4",
   "metadata": {},
   "outputs": [
    {
     "name": "stdout",
     "output_type": "stream",
     "text": [
      "/home/viskuit/anaconda3/lib/python3.10/site-packages/ipykernel_launcher.py\n",
      "-f\n",
      "/home/viskuit/.local/share/jupyter/runtime/kernel-ee64ea50-1de0-40d3-a68e-4c3be30b80b9.json\n"
     ]
    }
   ],
   "source": [
    "    .. csv-table:: Arguments used in ``blastn``\n",
    "       :header: Argument, Description\n",
    "\n",
    "       ``word_size``, \"| 11 by default.\n",
    "       | BLAST search starts with finding a perfect sequence match of length given by this parameter.\""
   ]
  }
 ],
 "metadata": {
  "kernelspec": {
   "display_name": "Python 3 (ipykernel)",
   "language": "python",
   "name": "python3"
  },
  "language_info": {
   "codemirror_mode": {
    "name": "ipython",
    "version": 3
   },
   "file_extension": ".py",
   "mimetype": "text/x-python",
   "name": "python",
   "nbconvert_exporter": "python",
   "pygments_lexer": "ipython3",
   "version": "3.10.9"
  }
 },
 "nbformat": 4,
 "nbformat_minor": 5
}
