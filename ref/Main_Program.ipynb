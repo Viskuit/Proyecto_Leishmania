{
 "cells": [
  {
   "cell_type": "code",
   "execution_count": null,
   "metadata": {},
   "outputs": [],
   "source": []
  },
  {
   "cell_type": "code",
   "execution_count": 22,
   "metadata": {},
   "outputs": [],
   "source": [
    "for x in range(3,37,1):\n",
    "    file_name = \"./fastas/SIDER2_Chr\" + str(x) + \"_L_infantum.fasta\"\n",
    "    with open(file_name, \"w\") as main_file:\n",
    "        main_file.close()"
   ]
  },
  {
   "cell_type": "code",
   "execution_count": 19,
   "metadata": {},
   "outputs": [],
   "source": [
    "file_name = \"./SIDERs2_fastas/SIDER2_Chr2_L_infantum.fasta\""
   ]
  },
  {
   "cell_type": "code",
   "execution_count": 21,
   "metadata": {},
   "outputs": [],
   "source": [
    "with open(file_name, \"r\") as main_file, open(\"Prueba1.fasta\", \"w\") as out_file:\n",
    "    for line in main_file:\n",
    "        if line.strip():\n",
    "            out_file.write(line)"
   ]
  },
  {
   "cell_type": "code",
   "execution_count": 108,
   "metadata": {},
   "outputs": [],
   "source": [
    "import docx\n",
    "import re\n",
    "def getText(filename):\n",
    "    doc = docx.Document(filename)\n",
    "    fullText = []\n",
    "    regex = re.compile(r\"^[AGCTagct]{40}\")\n",
    "    for para in doc.paragraphs:\n",
    "        if \">\" in para.text or regex.search(para.text):\n",
    "            fullText.append(para.text)\n",
    "    return fullText"
   ]
  },
  {
   "cell_type": "code",
   "execution_count": null,
   "metadata": {},
   "outputs": [],
   "source": [
    "getText(\"./transformed/SIDER2_LiChr15.docx\")"
   ]
  },
  {
   "cell_type": "code",
   "execution_count": 60,
   "metadata": {},
   "outputs": [
    {
     "data": {
      "text/plain": [
       "'/home/viskuit/Desktop/Proyecto_Leishmania/ref'"
      ]
     },
     "execution_count": 60,
     "metadata": {},
     "output_type": "execute_result"
    }
   ],
   "source": [
    "os.getcwd()"
   ]
  },
  {
   "cell_type": "code",
   "execution_count": null,
   "metadata": {},
   "outputs": [],
   "source": [
    "!lowriter --convert-to docx *.doc"
   ]
  },
  {
   "cell_type": "code",
   "execution_count": 155,
   "metadata": {},
   "outputs": [
    {
     "ename": "SyntaxError",
     "evalue": "invalid syntax (2426182986.py, line 4)",
     "output_type": "error",
     "traceback": [
      "\u001b[0;36m  Cell \u001b[0;32mIn[155], line 4\u001b[0;36m\u001b[0m\n\u001b[0;31m    rom Bio import SeqIO\u001b[0m\n\u001b[0m        ^\u001b[0m\n\u001b[0;31mSyntaxError\u001b[0m\u001b[0;31m:\u001b[0m invalid syntax\n"
     ]
    }
   ],
   "source": [
    "import os\n",
    "import docx\n",
    "import re\n",
    "from Bio import SeqIO\n",
    "from Bio.Seq import Seq\n",
    "from Bio.SeqRecord import SeqRecord\n",
    "import pdb\n",
    "\n",
    "for filename in os.listdir(\"./transformed/\"):\n",
    "    # print(filename)\n",
    "    if filename.startswith(\"SIDER\"):\n",
    "        path_file = \"./transformed/\" + filename\n",
    "        # print(path_file)\n",
    "        main_text = getText(path_file)\n",
    "        pattern = \"LiChr(\\d+)\"\n",
    "        string1 = re.search(pattern, filename).group()\n",
    "        pattern2 = \"\\d+\"\n",
    "        file_name = \"./to_fasta/SIDER2_Chr\" + re.search(pattern2, string1).group() + \"_L_infantum.fasta\"\n",
    "\n",
    "        # pdb.set_trace()\n",
    "        with open(file_name, \"w\") as out_file:\n",
    "            for sequence in main_text:\n",
    "                out_file.write(\"%s\\n\" % sequence)"
   ]
  },
  {
   "cell_type": "code",
   "execution_count": 168,
   "metadata": {},
   "outputs": [],
   "source": [
    "import os\n",
    "import docx\n",
    "import re\n",
    "from Bio import SeqIO\n",
    "from Bio.Seq import Seq\n",
    "from Bio.SeqRecord import SeqRecord\n",
    "import pdb\n",
    "\n",
    "for filename in os.listdir(\"./transformed/\"):\n",
    "    # print(filename)\n",
    "    if filename.startswith(\"SIDER\"):\n",
    "        path_file = \"./transformed/\" + filename\n",
    "        # print(path_file)\n",
    "        main_text = getText(path_file)\n",
    "        pattern = \"LiChr(\\d+)\"\n",
    "        string1 = re.search(pattern, filename).group()\n",
    "        pattern2 = \"\\d+\"\n",
    "        file_name = \"./to_fasta/SIDER2_Chr\" + re.search(pattern2, string1).group() + \"_L_infantum.fasta\"\n",
    "\n",
    "        # pdb.set_trace()any\n",
    "\n",
    "        for_fasta = []\n",
    "        for seqID, sequence in zip(*[iter(main_text)] * 2):\n",
    "            rec = SeqRecord(\n",
    "                Seq(sequence),\n",
    "                id=seqID[1:],\n",
    "                description=\"Leishmania infantum\"\n",
    "            )\n",
    "            for_fasta.append(rec)\n",
    "\n",
    "        SeqIO.write(for_fasta, file_name, \"fasta\")"
   ]
  },
  {
   "cell_type": "code",
   "execution_count": 169,
   "metadata": {},
   "outputs": [],
   "source": [
    "main_list = [x for x in os.listdir(\"./to_fasta\") if x.startswith(\"SIDER\")]"
   ]
  },
  {
   "cell_type": "code",
   "execution_count": 170,
   "metadata": {},
   "outputs": [],
   "source": [
    "def sorting_fastas(main_list):\n",
    "    pattern = \"Chr(\\d+)\"\n",
    "    # pdb.set_trace()\n",
    "    string1 = re.search(pattern, main_list).group()\n",
    "    pattern2 = \"\\d+\"\n",
    "    string2 = re.search(pattern2, string1).group()\n",
    "    return int(string2)"
   ]
  },
  {
   "cell_type": "code",
   "execution_count": 171,
   "metadata": {},
   "outputs": [],
   "source": [
    "fastas_sorted = sorted(main_list, key=sorting_fastas)"
   ]
  },
  {
   "cell_type": "code",
   "execution_count": 172,
   "metadata": {},
   "outputs": [],
   "source": [
    "with open(\"./SIDER2_all_36Chr.fasta\", \"w\") as out_file:\n",
    "    for file in fastas_sorted:\n",
    "        file = \"./to_fasta/\" + file\n",
    "        with open(file) as in_file:\n",
    "            out_file.write(in_file.read())"
   ]
  }
 ],
 "metadata": {
  "kernelspec": {
   "display_name": "Python 3 (ipykernel)",
   "language": "python",
   "name": "python3"
  },
  "language_info": {
   "codemirror_mode": {
    "name": "ipython",
    "version": 3
   },
   "file_extension": ".py",
   "mimetype": "text/x-python",
   "name": "python",
   "nbconvert_exporter": "python",
   "pygments_lexer": "ipython3",
   "version": "3.10.9"
  }
 },
 "nbformat": 4,
 "nbformat_minor": 4
}
