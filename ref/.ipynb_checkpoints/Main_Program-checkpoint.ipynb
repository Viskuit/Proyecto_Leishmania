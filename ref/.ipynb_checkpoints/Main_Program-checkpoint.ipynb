{
 "cells": [
  {
   "cell_type": "code",
   "execution_count": null,
   "metadata": {},
   "outputs": [],
   "source": []
  },
  {
   "cell_type": "code",
   "execution_count": 22,
   "metadata": {},
   "outputs": [],
   "source": [
    "for x in range(3,37,1):\n",
    "    file_name = \"./fastas/SIDER2_Chr\" + str(x) + \"_L_infantum.fasta\"\n",
    "    with open(file_name, \"w\") as main_file:\n",
    "        main_file.close()"
   ]
  },
  {
   "cell_type": "code",
   "execution_count": 19,
   "metadata": {},
   "outputs": [],
   "source": [
    "file_name = \"./SIDERs2_fastas/SIDER2_Chr2_L_infantum.fasta\""
   ]
  },
  {
   "cell_type": "code",
   "execution_count": 21,
   "metadata": {},
   "outputs": [],
   "source": [
    "with open(file_name, \"r\") as main_file, open(\"Prueba1.fasta\", \"w\") as out_file:\n",
    "    for line in main_file:\n",
    "        if line.strip():\n",
    "            out_file.write(line)"
   ]
  },
  {
   "cell_type": "code",
   "execution_count": 108,
   "metadata": {},
   "outputs": [],
   "source": [
    "import docx\n",
    "import re\n",
    "def getText(filename):\n",
    "    doc = docx.Document(filename)\n",
    "    fullText = []\n",
    "    regex = re.compile(r\"^[AGCTagct]{40}\")\n",
    "    for para in doc.paragraphs:\n",
    "        if \">\" in para.text or regex.search(para.text):\n",
    "            fullText.append(para.text)\n",
    "    return fullText"
   ]
  },
  {
   "cell_type": "code",
   "execution_count": null,
   "metadata": {},
   "outputs": [],
   "source": [
    "getText(\"./transformed/SIDER2_LiChr15.docx\")"
   ]
  },
  {
   "cell_type": "code",
   "execution_count": 60,
   "metadata": {},
   "outputs": [
    {
     "data": {
      "text/plain": [
       "'/home/viskuit/Desktop/Proyecto_Leishmania/ref'"
      ]
     },
     "execution_count": 60,
     "metadata": {},
     "output_type": "execute_result"
    }
   ],
   "source": [
    "os.getcwd()"
   ]
  },
  {
   "cell_type": "code",
   "execution_count": 127,
   "metadata": {},
   "outputs": [],
   "source": [
    "import os\n",
    "import docx\n",
    "import re\n",
    "rom Bio import SeqIO\n",
    "from Bio.Seq import Seq\n",
    "from Bio.SeqRecord import SeqRecord\n",
    "import pdb\n",
    "\n",
    "for filename in os.listdir(\"./transformed/\"):\n",
    "    # print(filename)\n",
    "    if filename.startswith(\"SIDER\"):\n",
    "        path_file = \"./transformed/\" + filename\n",
    "        # print(path_file)\n",
    "        main_text = getText(path_file)\n",
    "        pattern = \"LiChr(\\d+)\"\n",
    "        string1 = re.search(pattern, filename).group()\n",
    "        pattern2 = \"\\d+\"\n",
    "        file_name = \"./to_fasta/SIDER2_Chr\" + re.search(pattern2, string1).group() + \"_L_infantum.fasta\"\n",
    "\n",
    "        # pdb.set_trace()\n",
    "        with open(file_name, \"w\") as out_file:\n",
    "            for sequence in main_text:\n",
    "                out_file.write(\"%s\\n\" % sequence)"
   ]
  },
  {
   "cell_type": "code",
   "execution_count": null,
   "metadata": {},
   "outputs": [
    {
     "name": "stdout",
     "output_type": "stream",
     "text": [
      "> \u001b[0;32m/tmp/ipykernel_17225/1452641606.py\u001b[0m(21)\u001b[0;36m<module>\u001b[0;34m()\u001b[0m\n",
      "\u001b[0;32m     19 \u001b[0;31m\u001b[0;34m\u001b[0m\u001b[0m\n",
      "\u001b[0m\u001b[0;32m     20 \u001b[0;31m        \u001b[0mpdb\u001b[0m\u001b[0;34m.\u001b[0m\u001b[0mset_trace\u001b[0m\u001b[0;34m(\u001b[0m\u001b[0;34m)\u001b[0m\u001b[0;34m\u001b[0m\u001b[0;34m\u001b[0m\u001b[0m\n",
      "\u001b[0m\u001b[0;32m---> 21 \u001b[0;31m        \u001b[0;32mwith\u001b[0m \u001b[0mopen\u001b[0m\u001b[0;34m(\u001b[0m\u001b[0mfile_name\u001b[0m\u001b[0;34m,\u001b[0m \u001b[0;34m\"w\"\u001b[0m\u001b[0;34m)\u001b[0m \u001b[0;32mas\u001b[0m \u001b[0mout_file\u001b[0m\u001b[0;34m:\u001b[0m\u001b[0;34m\u001b[0m\u001b[0;34m\u001b[0m\u001b[0m\n",
      "\u001b[0m\u001b[0;32m     22 \u001b[0;31m            \u001b[0;32mfor\u001b[0m \u001b[0msequence\u001b[0m \u001b[0;32min\u001b[0m \u001b[0mmain_text\u001b[0m\u001b[0;34m:\u001b[0m\u001b[0;34m\u001b[0m\u001b[0;34m\u001b[0m\u001b[0m\n",
      "\u001b[0m\u001b[0;32m     23 \u001b[0;31m                \u001b[0mout_file\u001b[0m\u001b[0;34m.\u001b[0m\u001b[0mwrite\u001b[0m\u001b[0;34m(\u001b[0m\u001b[0;34m\"%s\\n\"\u001b[0m \u001b[0;34m%\u001b[0m \u001b[0msequence\u001b[0m\u001b[0;34m)\u001b[0m\u001b[0;34m\u001b[0m\u001b[0;34m\u001b[0m\u001b[0m\n",
      "\u001b[0m\n"
     ]
    },
    {
     "name": "stdin",
     "output_type": "stream",
     "text": [
      "ipdb>  len(main_text)\n"
     ]
    },
    {
     "name": "stdout",
     "output_type": "stream",
     "text": [
      "32\n"
     ]
    },
    {
     "name": "stdin",
     "output_type": "stream",
     "text": [
      "ipdb>  main_text[0]\n"
     ]
    },
    {
     "name": "stdout",
     "output_type": "stream",
     "text": [
      "'>15A-12264r'\n"
     ]
    },
    {
     "name": "stdin",
     "output_type": "stream",
     "text": [
      "ipdb>  main_text[1]\n"
     ]
    },
    {
     "name": "stdout",
     "output_type": "stream",
     "text": [
      "'AGGGGTCCGTTACTCCCACCCTGAGTGGGGAGAAGCCACCCAGTCCCTAGCCCCTAACAATGCCAGAACCGCTTGTGGCGGTGCCAGGCTCAAGTACCTAGCATGTGCGGAGGGGTCACAGCGATGTACCGCCGCTGGTATGCCGGCGGTCAGGCGCTGGATGGCGCGGCATCGCGGGCGACCCGCGACGGTGCACACGCTTGCGCATCCGCATGATGGGCACAGCGCCAACCGAGCTCGAGCGTATCCCACCCGGCCCTCACTGCCTGCTGATGGGGAGCCTGCGTGCCACGCCGAGGAGGATGCACCAGGTGGCGACCGGCATGGGGGGAGCCGGCTGCGAGGCGGCCCGCGGAGCGGTGGCGCGTAGCGTGTGAGGCAGAGGCCGTGCTCTCAGCTGACTGGGACGGCGCACGGCTGCAACGCGTGTGCGAACGGCATGCTTCGCACCAGGCGACGGGGCCCGCGGCAGACTGGCGGGTGGTGGTGGTGGTGTGGCGTGGTGTAGAGTGGTGTGTGACTC'\n"
     ]
    },
    {
     "name": "stdin",
     "output_type": "stream",
     "text": [
      "ipdb>  main_text[0]\n"
     ]
    },
    {
     "name": "stdout",
     "output_type": "stream",
     "text": [
      "'>15A-12264r'\n"
     ]
    },
    {
     "name": "stdin",
     "output_type": "stream",
     "text": [
      "ipdb>  main_text[0][1:]\n"
     ]
    },
    {
     "name": "stdout",
     "output_type": "stream",
     "text": [
      "'15A-12264r'\n"
     ]
    }
   ],
   "source": [
    "import os\n",
    "import docx\n",
    "import re\n",
    "from Bio import SeqIO\n",
    "from Bio.Seq import Seq\n",
    "from Bio.SeqRecord import SeqRecord\n",
    "import pdb\n",
    "\n",
    "for filename in os.listdir(\"./transformed/\"):\n",
    "    # print(filename)\n",
    "    if filename.startswith(\"SIDER\"):\n",
    "        path_file = \"./transformed/\" + filename\n",
    "        # print(path_file)\n",
    "        main_text = getText(path_file)\n",
    "        pattern = \"LiChr(\\d+)\"\n",
    "        string1 = re.search(pattern, filename).group()\n",
    "        pattern2 = \"\\d+\"\n",
    "        file_name = \"./PRUEBA1/SIDER2_Chr\" + re.search(pattern2, string1).group() + \"_L_infantum.fasta\"\n",
    "\n",
    "        # pdb.set_trace()\n",
    "\n",
    "        for_fasta = []\n",
    "        for seqID, sequence in zip(*[iter(main_text)] * 2):\n",
    "            rec = SeqRecord(\n",
    "                Seq(sequence),\n",
    "                id=seqID[1:],\n",
    "                description=\"Leishmania infantum\"\n",
    "            )\n",
    "            for_fasta.append(rec)\n",
    "\n",
    "        SeqIO.write(for_fasta, file_name, \"fasta\")"
   ]
  },
  {
   "cell_type": "code",
   "execution_count": 95,
   "metadata": {},
   "outputs": [
    {
     "name": "stdout",
     "output_type": "stream",
     "text": [
      "['15']\n"
     ]
    }
   ],
   "source": [
    "import re\n",
    "string_prueba = \"SIDER2_LiChr15.docx\"\n",
    "\n",
    "pattern = \"LiChr(\\d+)\"\n",
    "items = re.findall(pattern, string_prueba)\n",
    "print(items)"
   ]
  },
  {
   "cell_type": "code",
   "execution_count": 125,
   "metadata": {},
   "outputs": [
    {
     "data": {
      "text/plain": [
       "'11'"
      ]
     },
     "execution_count": 125,
     "metadata": {},
     "output_type": "execute_result"
    }
   ],
   "source": [
    "seq_prueba = \"SIDER2_LiChr11.docx\"\n",
    "pattern1 = \"LiChr(\\d+)\"\n",
    "string1 = re.search(pattern, seq_prueba).group()\n",
    "pattern2 = \"\\d+\"\n",
    "re.search(pattern2, string1).group()"
   ]
  }
 ],
 "metadata": {
  "kernelspec": {
   "display_name": "Python 3 (ipykernel)",
   "language": "python",
   "name": "python3"
  },
  "language_info": {
   "codemirror_mode": {
    "name": "ipython",
    "version": 3
   },
   "file_extension": ".py",
   "mimetype": "text/x-python",
   "name": "python",
   "nbconvert_exporter": "python",
   "pygments_lexer": "ipython3",
   "version": "3.10.9"
  }
 },
 "nbformat": 4,
 "nbformat_minor": 4
}
