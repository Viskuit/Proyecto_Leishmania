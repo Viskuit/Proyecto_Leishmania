{
 "cells": [
  {
   "cell_type": "code",
   "execution_count": 1,
   "metadata": {},
   "outputs": [],
   "source": [
    "#Script made by R. F. Pacheco Hinojosa\n",
    "#Se invocan las funciones necesarias de My_Functions.py\n",
    "from AA_My_Functions import BlastN_Dic, BLASTN_Blaster, Folder_Creator, Repetitive_Blaster"
   ]
  },
  {
   "cell_type": "code",
   "execution_count": null,
   "metadata": {},
   "outputs": [],
   "source": [
    "##Dentro del directorio de ejecucion de los programas, crear una subcarpeta donde poner el archivo FASTA completo del genoma, asi como el archivo FASTA de las secuencias a buscar\n",
    "\n",
    "#1) Con esto creamos el diccionario Blast del genoma entero\n",
    "BlastN_Dic(Path_Input)\n",
    "\n",
    "#2) Ahora ejecutamos un BlastN con el diccionario creado antes, dandonos como resultado un archivo CSV con los resultados de dicho BlastN\n",
    "BLASTN_Blaster(Query_Path,\n",
    "               Dict_Path,\n",
    "               OutFile_Path,\n",
    "               Perc_Identity)\n",
    "\n",
    "#3) Creacion de una subcarpeta con el nombre especifico de RUNS, en donde se guardaran los resultados de cada ejecucion del programa en un formato run_x.csv, siendo x el numero de la ejecucion\n",
    "Folder_Creator(RUNS)\n",
    "\n",
    "#4) Ejecuccion de Blaster iterativo.\n",
    "Repetitive_Blaster(Genome_Fasta, \n",
    "                   Path_Input, \n",
    "                   Folder_Path, \n",
    "                   Naming_Short, \n",
    "                   Max_Diff, \n",
    "                   Numbering, \n",
    "                   Maximun_Runs)"
   ]
  }
 ],
 "metadata": {
  "kernelspec": {
   "display_name": "Python 3",
   "language": "python",
   "name": "python3"
  },
  "language_info": {
   "codemirror_mode": {
    "name": "ipython",
    "version": 3
   },
   "file_extension": ".py",
   "mimetype": "text/x-python",
   "name": "python",
   "nbconvert_exporter": "python",
   "pygments_lexer": "ipython3",
   "version": "3.8.3"
  }
 },
 "nbformat": 4,
 "nbformat_minor": 4
}
